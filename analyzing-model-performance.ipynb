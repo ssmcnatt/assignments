{
 "cells": [
  {
   "cell_type": "markdown",
   "metadata": {},
   "source": [
    "## 1. Import necessary packages\n",
    "\n",
    "For this exercise we need\n",
    "\n",
    "* pandas\n",
    "* train_test_split\n",
    "* LogisticRegression\n",
    "* pyplot from matplotlib\n",
    "* KNeighborsClassifier\n",
    "* LogisticRegressionClassifier\n",
    "* RandomForestClassifier\n",
    "* DummyClassifier"
   ]
  },
  {
   "cell_type": "code",
   "execution_count": 1,
   "metadata": {},
   "outputs": [],
   "source": [
    "import pandas as pd\n",
    "import numpy as np\n",
    "import seaborn as sns\n",
    "import matplotlib.pyplot as plt\n",
    "\n",
    "from sklearn.linear_model import LogisticRegression\n",
    "from sklearn.model_selection import train_test_split, cross_val_score\n",
    "from sklearn.dummy import DummyClassifier\n",
    "from sklearn.metrics import confusion_matrix\n",
    "from sklearn.metrics import accuracy_score, precision_score, recall_score, f1_score, fbeta_score, classification_report\n",
    "from sklearn.metrics import roc_curve, precision_recall_curve, roc_auc_score\n",
    "\n",
    "from sklearn.neighbors import KNeighborsClassifier\n",
    "from sklearn.ensemble import RandomForestClassifier\n",
    "\n",
    "import warnings\n",
    "\n",
    "warnings.filterwarnings('ignore')"
   ]
  },
  {
   "cell_type": "markdown",
   "metadata": {},
   "source": [
    "## 2. Load and prepare the dataset\n",
    "* Load the training data into a dataframe named df_train_data "
   ]
  },
  {
   "cell_type": "code",
   "execution_count": 2,
   "metadata": {},
   "outputs": [],
   "source": [
    "train_df = pd.read_csv('data/shuttle_train.csv')"
   ]
  },
  {
   "cell_type": "code",
   "execution_count": 3,
   "metadata": {},
   "outputs": [
    {
     "name": "stdout",
     "output_type": "stream",
     "text": [
      "<class 'pandas.core.frame.DataFrame'>\n",
      "RangeIndex: 43500 entries, 0 to 43499\n",
      "Data columns (total 10 columns):\n",
      " #   Column   Non-Null Count  Dtype\n",
      "---  ------   --------------  -----\n",
      " 0   time     43500 non-null  int64\n",
      " 1   attrib2  43500 non-null  int64\n",
      " 2   attrib3  43500 non-null  int64\n",
      " 3   attrib4  43500 non-null  int64\n",
      " 4   attrib5  43500 non-null  int64\n",
      " 5   attrib6  43500 non-null  int64\n",
      " 6   attrib7  43500 non-null  int64\n",
      " 7   attrib8  43500 non-null  int64\n",
      " 8   attrib9  43500 non-null  int64\n",
      " 9   class    43500 non-null  int64\n",
      "dtypes: int64(10)\n",
      "memory usage: 3.3 MB\n"
     ]
    }
   ],
   "source": [
    "train_df.info()"
   ]
  },
  {
   "cell_type": "code",
   "execution_count": 4,
   "metadata": {},
   "outputs": [
    {
     "data": {
      "text/html": [
       "<div>\n",
       "<style scoped>\n",
       "    .dataframe tbody tr th:only-of-type {\n",
       "        vertical-align: middle;\n",
       "    }\n",
       "\n",
       "    .dataframe tbody tr th {\n",
       "        vertical-align: top;\n",
       "    }\n",
       "\n",
       "    .dataframe thead th {\n",
       "        text-align: right;\n",
       "    }\n",
       "</style>\n",
       "<table border=\"1\" class=\"dataframe\">\n",
       "  <thead>\n",
       "    <tr style=\"text-align: right;\">\n",
       "      <th></th>\n",
       "      <th>time</th>\n",
       "      <th>attrib2</th>\n",
       "      <th>attrib3</th>\n",
       "      <th>attrib4</th>\n",
       "      <th>attrib5</th>\n",
       "      <th>attrib6</th>\n",
       "      <th>attrib7</th>\n",
       "      <th>attrib8</th>\n",
       "      <th>attrib9</th>\n",
       "      <th>class</th>\n",
       "    </tr>\n",
       "  </thead>\n",
       "  <tbody>\n",
       "    <tr>\n",
       "      <th>0</th>\n",
       "      <td>50</td>\n",
       "      <td>21</td>\n",
       "      <td>77</td>\n",
       "      <td>0</td>\n",
       "      <td>28</td>\n",
       "      <td>0</td>\n",
       "      <td>27</td>\n",
       "      <td>48</td>\n",
       "      <td>22</td>\n",
       "      <td>2</td>\n",
       "    </tr>\n",
       "    <tr>\n",
       "      <th>1</th>\n",
       "      <td>55</td>\n",
       "      <td>0</td>\n",
       "      <td>92</td>\n",
       "      <td>0</td>\n",
       "      <td>0</td>\n",
       "      <td>26</td>\n",
       "      <td>36</td>\n",
       "      <td>92</td>\n",
       "      <td>56</td>\n",
       "      <td>4</td>\n",
       "    </tr>\n",
       "    <tr>\n",
       "      <th>2</th>\n",
       "      <td>53</td>\n",
       "      <td>0</td>\n",
       "      <td>82</td>\n",
       "      <td>0</td>\n",
       "      <td>52</td>\n",
       "      <td>-5</td>\n",
       "      <td>29</td>\n",
       "      <td>30</td>\n",
       "      <td>2</td>\n",
       "      <td>1</td>\n",
       "    </tr>\n",
       "    <tr>\n",
       "      <th>3</th>\n",
       "      <td>37</td>\n",
       "      <td>0</td>\n",
       "      <td>76</td>\n",
       "      <td>0</td>\n",
       "      <td>28</td>\n",
       "      <td>18</td>\n",
       "      <td>40</td>\n",
       "      <td>48</td>\n",
       "      <td>8</td>\n",
       "      <td>1</td>\n",
       "    </tr>\n",
       "    <tr>\n",
       "      <th>4</th>\n",
       "      <td>37</td>\n",
       "      <td>0</td>\n",
       "      <td>79</td>\n",
       "      <td>0</td>\n",
       "      <td>34</td>\n",
       "      <td>-26</td>\n",
       "      <td>43</td>\n",
       "      <td>46</td>\n",
       "      <td>2</td>\n",
       "      <td>1</td>\n",
       "    </tr>\n",
       "  </tbody>\n",
       "</table>\n",
       "</div>"
      ],
      "text/plain": [
       "   time  attrib2  attrib3  attrib4  attrib5  attrib6  attrib7  attrib8  \\\n",
       "0    50       21       77        0       28        0       27       48   \n",
       "1    55        0       92        0        0       26       36       92   \n",
       "2    53        0       82        0       52       -5       29       30   \n",
       "3    37        0       76        0       28       18       40       48   \n",
       "4    37        0       79        0       34      -26       43       46   \n",
       "\n",
       "   attrib9  class  \n",
       "0       22      2  \n",
       "1       56      4  \n",
       "2        2      1  \n",
       "3        8      1  \n",
       "4        2      1  "
      ]
     },
     "execution_count": 4,
     "metadata": {},
     "output_type": "execute_result"
    }
   ],
   "source": [
    "train_df.head()"
   ]
  },
  {
   "cell_type": "code",
   "execution_count": 5,
   "metadata": {},
   "outputs": [
    {
     "data": {
      "text/html": [
       "<div>\n",
       "<style scoped>\n",
       "    .dataframe tbody tr th:only-of-type {\n",
       "        vertical-align: middle;\n",
       "    }\n",
       "\n",
       "    .dataframe tbody tr th {\n",
       "        vertical-align: top;\n",
       "    }\n",
       "\n",
       "    .dataframe thead th {\n",
       "        text-align: right;\n",
       "    }\n",
       "</style>\n",
       "<table border=\"1\" class=\"dataframe\">\n",
       "  <thead>\n",
       "    <tr style=\"text-align: right;\">\n",
       "      <th></th>\n",
       "      <th>time</th>\n",
       "      <th>attrib2</th>\n",
       "      <th>attrib3</th>\n",
       "      <th>attrib4</th>\n",
       "      <th>attrib5</th>\n",
       "      <th>attrib6</th>\n",
       "      <th>attrib7</th>\n",
       "      <th>attrib8</th>\n",
       "      <th>attrib9</th>\n",
       "      <th>class</th>\n",
       "    </tr>\n",
       "  </thead>\n",
       "  <tbody>\n",
       "    <tr>\n",
       "      <th>count</th>\n",
       "      <td>43500.000000</td>\n",
       "      <td>43500.000000</td>\n",
       "      <td>43500.000000</td>\n",
       "      <td>43500.000000</td>\n",
       "      <td>43500.000000</td>\n",
       "      <td>43500.000000</td>\n",
       "      <td>43500.000000</td>\n",
       "      <td>43500.000000</td>\n",
       "      <td>43500.000000</td>\n",
       "      <td>43500.000000</td>\n",
       "    </tr>\n",
       "    <tr>\n",
       "      <th>mean</th>\n",
       "      <td>48.249747</td>\n",
       "      <td>-0.205126</td>\n",
       "      <td>85.341563</td>\n",
       "      <td>0.262736</td>\n",
       "      <td>34.528782</td>\n",
       "      <td>1.298276</td>\n",
       "      <td>37.074552</td>\n",
       "      <td>50.899862</td>\n",
       "      <td>13.964598</td>\n",
       "      <td>1.700529</td>\n",
       "    </tr>\n",
       "    <tr>\n",
       "      <th>std</th>\n",
       "      <td>12.252618</td>\n",
       "      <td>78.142770</td>\n",
       "      <td>8.908602</td>\n",
       "      <td>41.004131</td>\n",
       "      <td>21.703409</td>\n",
       "      <td>179.486760</td>\n",
       "      <td>13.135557</td>\n",
       "      <td>21.463250</td>\n",
       "      <td>25.648404</td>\n",
       "      <td>1.354648</td>\n",
       "    </tr>\n",
       "    <tr>\n",
       "      <th>min</th>\n",
       "      <td>27.000000</td>\n",
       "      <td>-4821.000000</td>\n",
       "      <td>21.000000</td>\n",
       "      <td>-3939.000000</td>\n",
       "      <td>-188.000000</td>\n",
       "      <td>-13839.000000</td>\n",
       "      <td>-48.000000</td>\n",
       "      <td>-353.000000</td>\n",
       "      <td>-356.000000</td>\n",
       "      <td>1.000000</td>\n",
       "    </tr>\n",
       "    <tr>\n",
       "      <th>25%</th>\n",
       "      <td>38.000000</td>\n",
       "      <td>0.000000</td>\n",
       "      <td>79.000000</td>\n",
       "      <td>0.000000</td>\n",
       "      <td>26.000000</td>\n",
       "      <td>-5.000000</td>\n",
       "      <td>31.000000</td>\n",
       "      <td>37.000000</td>\n",
       "      <td>0.000000</td>\n",
       "      <td>1.000000</td>\n",
       "    </tr>\n",
       "    <tr>\n",
       "      <th>50%</th>\n",
       "      <td>45.000000</td>\n",
       "      <td>0.000000</td>\n",
       "      <td>83.000000</td>\n",
       "      <td>0.000000</td>\n",
       "      <td>42.000000</td>\n",
       "      <td>0.000000</td>\n",
       "      <td>39.000000</td>\n",
       "      <td>44.000000</td>\n",
       "      <td>2.000000</td>\n",
       "      <td>1.000000</td>\n",
       "    </tr>\n",
       "    <tr>\n",
       "      <th>75%</th>\n",
       "      <td>55.000000</td>\n",
       "      <td>0.000000</td>\n",
       "      <td>89.000000</td>\n",
       "      <td>0.000000</td>\n",
       "      <td>46.000000</td>\n",
       "      <td>5.000000</td>\n",
       "      <td>42.000000</td>\n",
       "      <td>60.000000</td>\n",
       "      <td>14.000000</td>\n",
       "      <td>1.000000</td>\n",
       "    </tr>\n",
       "    <tr>\n",
       "      <th>max</th>\n",
       "      <td>126.000000</td>\n",
       "      <td>5075.000000</td>\n",
       "      <td>149.000000</td>\n",
       "      <td>3830.000000</td>\n",
       "      <td>436.000000</td>\n",
       "      <td>13148.000000</td>\n",
       "      <td>105.000000</td>\n",
       "      <td>270.000000</td>\n",
       "      <td>266.000000</td>\n",
       "      <td>7.000000</td>\n",
       "    </tr>\n",
       "  </tbody>\n",
       "</table>\n",
       "</div>"
      ],
      "text/plain": [
       "               time       attrib2       attrib3       attrib4       attrib5  \\\n",
       "count  43500.000000  43500.000000  43500.000000  43500.000000  43500.000000   \n",
       "mean      48.249747     -0.205126     85.341563      0.262736     34.528782   \n",
       "std       12.252618     78.142770      8.908602     41.004131     21.703409   \n",
       "min       27.000000  -4821.000000     21.000000  -3939.000000   -188.000000   \n",
       "25%       38.000000      0.000000     79.000000      0.000000     26.000000   \n",
       "50%       45.000000      0.000000     83.000000      0.000000     42.000000   \n",
       "75%       55.000000      0.000000     89.000000      0.000000     46.000000   \n",
       "max      126.000000   5075.000000    149.000000   3830.000000    436.000000   \n",
       "\n",
       "            attrib6       attrib7       attrib8       attrib9         class  \n",
       "count  43500.000000  43500.000000  43500.000000  43500.000000  43500.000000  \n",
       "mean       1.298276     37.074552     50.899862     13.964598      1.700529  \n",
       "std      179.486760     13.135557     21.463250     25.648404      1.354648  \n",
       "min   -13839.000000    -48.000000   -353.000000   -356.000000      1.000000  \n",
       "25%       -5.000000     31.000000     37.000000      0.000000      1.000000  \n",
       "50%        0.000000     39.000000     44.000000      2.000000      1.000000  \n",
       "75%        5.000000     42.000000     60.000000     14.000000      1.000000  \n",
       "max    13148.000000    105.000000    270.000000    266.000000      7.000000  "
      ]
     },
     "execution_count": 5,
     "metadata": {},
     "output_type": "execute_result"
    }
   ],
   "source": [
    "train_df.describe()"
   ]
  },
  {
   "cell_type": "code",
   "execution_count": 6,
   "metadata": {},
   "outputs": [
    {
     "data": {
      "text/html": [
       "<div>\n",
       "<style scoped>\n",
       "    .dataframe tbody tr th:only-of-type {\n",
       "        vertical-align: middle;\n",
       "    }\n",
       "\n",
       "    .dataframe tbody tr th {\n",
       "        vertical-align: top;\n",
       "    }\n",
       "\n",
       "    .dataframe thead th {\n",
       "        text-align: right;\n",
       "    }\n",
       "</style>\n",
       "<table border=\"1\" class=\"dataframe\">\n",
       "  <thead>\n",
       "    <tr style=\"text-align: right;\">\n",
       "      <th></th>\n",
       "      <th>time</th>\n",
       "      <th>attrib2</th>\n",
       "      <th>attrib3</th>\n",
       "      <th>attrib4</th>\n",
       "      <th>attrib5</th>\n",
       "      <th>attrib6</th>\n",
       "      <th>attrib7</th>\n",
       "      <th>attrib8</th>\n",
       "      <th>attrib9</th>\n",
       "      <th>class</th>\n",
       "    </tr>\n",
       "  </thead>\n",
       "  <tbody>\n",
       "    <tr>\n",
       "      <th>0</th>\n",
       "      <td>False</td>\n",
       "      <td>False</td>\n",
       "      <td>False</td>\n",
       "      <td>False</td>\n",
       "      <td>False</td>\n",
       "      <td>False</td>\n",
       "      <td>False</td>\n",
       "      <td>False</td>\n",
       "      <td>False</td>\n",
       "      <td>False</td>\n",
       "    </tr>\n",
       "    <tr>\n",
       "      <th>1</th>\n",
       "      <td>False</td>\n",
       "      <td>False</td>\n",
       "      <td>False</td>\n",
       "      <td>False</td>\n",
       "      <td>False</td>\n",
       "      <td>False</td>\n",
       "      <td>False</td>\n",
       "      <td>False</td>\n",
       "      <td>False</td>\n",
       "      <td>False</td>\n",
       "    </tr>\n",
       "    <tr>\n",
       "      <th>2</th>\n",
       "      <td>False</td>\n",
       "      <td>False</td>\n",
       "      <td>False</td>\n",
       "      <td>False</td>\n",
       "      <td>False</td>\n",
       "      <td>False</td>\n",
       "      <td>False</td>\n",
       "      <td>False</td>\n",
       "      <td>False</td>\n",
       "      <td>False</td>\n",
       "    </tr>\n",
       "    <tr>\n",
       "      <th>3</th>\n",
       "      <td>False</td>\n",
       "      <td>False</td>\n",
       "      <td>False</td>\n",
       "      <td>False</td>\n",
       "      <td>False</td>\n",
       "      <td>False</td>\n",
       "      <td>False</td>\n",
       "      <td>False</td>\n",
       "      <td>False</td>\n",
       "      <td>False</td>\n",
       "    </tr>\n",
       "    <tr>\n",
       "      <th>4</th>\n",
       "      <td>False</td>\n",
       "      <td>False</td>\n",
       "      <td>False</td>\n",
       "      <td>False</td>\n",
       "      <td>False</td>\n",
       "      <td>False</td>\n",
       "      <td>False</td>\n",
       "      <td>False</td>\n",
       "      <td>False</td>\n",
       "      <td>False</td>\n",
       "    </tr>\n",
       "    <tr>\n",
       "      <th>...</th>\n",
       "      <td>...</td>\n",
       "      <td>...</td>\n",
       "      <td>...</td>\n",
       "      <td>...</td>\n",
       "      <td>...</td>\n",
       "      <td>...</td>\n",
       "      <td>...</td>\n",
       "      <td>...</td>\n",
       "      <td>...</td>\n",
       "      <td>...</td>\n",
       "    </tr>\n",
       "    <tr>\n",
       "      <th>43495</th>\n",
       "      <td>False</td>\n",
       "      <td>False</td>\n",
       "      <td>False</td>\n",
       "      <td>False</td>\n",
       "      <td>False</td>\n",
       "      <td>False</td>\n",
       "      <td>False</td>\n",
       "      <td>False</td>\n",
       "      <td>False</td>\n",
       "      <td>False</td>\n",
       "    </tr>\n",
       "    <tr>\n",
       "      <th>43496</th>\n",
       "      <td>False</td>\n",
       "      <td>False</td>\n",
       "      <td>False</td>\n",
       "      <td>False</td>\n",
       "      <td>False</td>\n",
       "      <td>False</td>\n",
       "      <td>False</td>\n",
       "      <td>False</td>\n",
       "      <td>False</td>\n",
       "      <td>False</td>\n",
       "    </tr>\n",
       "    <tr>\n",
       "      <th>43497</th>\n",
       "      <td>False</td>\n",
       "      <td>False</td>\n",
       "      <td>False</td>\n",
       "      <td>False</td>\n",
       "      <td>False</td>\n",
       "      <td>False</td>\n",
       "      <td>False</td>\n",
       "      <td>False</td>\n",
       "      <td>False</td>\n",
       "      <td>False</td>\n",
       "    </tr>\n",
       "    <tr>\n",
       "      <th>43498</th>\n",
       "      <td>False</td>\n",
       "      <td>False</td>\n",
       "      <td>False</td>\n",
       "      <td>False</td>\n",
       "      <td>False</td>\n",
       "      <td>False</td>\n",
       "      <td>False</td>\n",
       "      <td>False</td>\n",
       "      <td>False</td>\n",
       "      <td>False</td>\n",
       "    </tr>\n",
       "    <tr>\n",
       "      <th>43499</th>\n",
       "      <td>False</td>\n",
       "      <td>False</td>\n",
       "      <td>False</td>\n",
       "      <td>False</td>\n",
       "      <td>False</td>\n",
       "      <td>False</td>\n",
       "      <td>False</td>\n",
       "      <td>False</td>\n",
       "      <td>False</td>\n",
       "      <td>False</td>\n",
       "    </tr>\n",
       "  </tbody>\n",
       "</table>\n",
       "<p>43500 rows × 10 columns</p>\n",
       "</div>"
      ],
      "text/plain": [
       "        time  attrib2  attrib3  attrib4  attrib5  attrib6  attrib7  attrib8  \\\n",
       "0      False    False    False    False    False    False    False    False   \n",
       "1      False    False    False    False    False    False    False    False   \n",
       "2      False    False    False    False    False    False    False    False   \n",
       "3      False    False    False    False    False    False    False    False   \n",
       "4      False    False    False    False    False    False    False    False   \n",
       "...      ...      ...      ...      ...      ...      ...      ...      ...   \n",
       "43495  False    False    False    False    False    False    False    False   \n",
       "43496  False    False    False    False    False    False    False    False   \n",
       "43497  False    False    False    False    False    False    False    False   \n",
       "43498  False    False    False    False    False    False    False    False   \n",
       "43499  False    False    False    False    False    False    False    False   \n",
       "\n",
       "       attrib9  class  \n",
       "0        False  False  \n",
       "1        False  False  \n",
       "2        False  False  \n",
       "3        False  False  \n",
       "4        False  False  \n",
       "...        ...    ...  \n",
       "43495    False  False  \n",
       "43496    False  False  \n",
       "43497    False  False  \n",
       "43498    False  False  \n",
       "43499    False  False  \n",
       "\n",
       "[43500 rows x 10 columns]"
      ]
     },
     "execution_count": 6,
     "metadata": {},
     "output_type": "execute_result"
    }
   ],
   "source": [
    "train_df.isnull()"
   ]
  },
  {
   "cell_type": "code",
   "execution_count": 7,
   "metadata": {},
   "outputs": [
    {
     "data": {
      "text/plain": [
       "time       0.0\n",
       "attrib2    0.0\n",
       "attrib3    0.0\n",
       "attrib4    0.0\n",
       "attrib5    0.0\n",
       "attrib6    0.0\n",
       "attrib7    0.0\n",
       "attrib8    0.0\n",
       "attrib9    0.0\n",
       "class      0.0\n",
       "dtype: float64"
      ]
     },
     "execution_count": 7,
     "metadata": {},
     "output_type": "execute_result"
    }
   ],
   "source": [
    "train_df.isna().sum()*100/train_df.isna().count()"
   ]
  },
  {
   "cell_type": "code",
   "execution_count": 8,
   "metadata": {},
   "outputs": [
    {
     "data": {
      "text/html": [
       "<div>\n",
       "<style scoped>\n",
       "    .dataframe tbody tr th:only-of-type {\n",
       "        vertical-align: middle;\n",
       "    }\n",
       "\n",
       "    .dataframe tbody tr th {\n",
       "        vertical-align: top;\n",
       "    }\n",
       "\n",
       "    .dataframe thead th {\n",
       "        text-align: right;\n",
       "    }\n",
       "</style>\n",
       "<table border=\"1\" class=\"dataframe\">\n",
       "  <thead>\n",
       "    <tr style=\"text-align: right;\">\n",
       "      <th></th>\n",
       "      <th>time</th>\n",
       "      <th>attrib2</th>\n",
       "      <th>attrib3</th>\n",
       "      <th>attrib4</th>\n",
       "      <th>attrib5</th>\n",
       "      <th>attrib6</th>\n",
       "      <th>attrib7</th>\n",
       "      <th>attrib8</th>\n",
       "      <th>attrib9</th>\n",
       "      <th>class</th>\n",
       "    </tr>\n",
       "  </thead>\n",
       "  <tbody>\n",
       "    <tr>\n",
       "      <th>0</th>\n",
       "      <td>50</td>\n",
       "      <td>21</td>\n",
       "      <td>77</td>\n",
       "      <td>0</td>\n",
       "      <td>28</td>\n",
       "      <td>0</td>\n",
       "      <td>27</td>\n",
       "      <td>48</td>\n",
       "      <td>22</td>\n",
       "      <td>2</td>\n",
       "    </tr>\n",
       "    <tr>\n",
       "      <th>1</th>\n",
       "      <td>55</td>\n",
       "      <td>0</td>\n",
       "      <td>92</td>\n",
       "      <td>0</td>\n",
       "      <td>0</td>\n",
       "      <td>26</td>\n",
       "      <td>36</td>\n",
       "      <td>92</td>\n",
       "      <td>56</td>\n",
       "      <td>4</td>\n",
       "    </tr>\n",
       "    <tr>\n",
       "      <th>2</th>\n",
       "      <td>53</td>\n",
       "      <td>0</td>\n",
       "      <td>82</td>\n",
       "      <td>0</td>\n",
       "      <td>52</td>\n",
       "      <td>-5</td>\n",
       "      <td>29</td>\n",
       "      <td>30</td>\n",
       "      <td>2</td>\n",
       "      <td>1</td>\n",
       "    </tr>\n",
       "    <tr>\n",
       "      <th>3</th>\n",
       "      <td>37</td>\n",
       "      <td>0</td>\n",
       "      <td>76</td>\n",
       "      <td>0</td>\n",
       "      <td>28</td>\n",
       "      <td>18</td>\n",
       "      <td>40</td>\n",
       "      <td>48</td>\n",
       "      <td>8</td>\n",
       "      <td>1</td>\n",
       "    </tr>\n",
       "    <tr>\n",
       "      <th>4</th>\n",
       "      <td>37</td>\n",
       "      <td>0</td>\n",
       "      <td>79</td>\n",
       "      <td>0</td>\n",
       "      <td>34</td>\n",
       "      <td>-26</td>\n",
       "      <td>43</td>\n",
       "      <td>46</td>\n",
       "      <td>2</td>\n",
       "      <td>1</td>\n",
       "    </tr>\n",
       "    <tr>\n",
       "      <th>...</th>\n",
       "      <td>...</td>\n",
       "      <td>...</td>\n",
       "      <td>...</td>\n",
       "      <td>...</td>\n",
       "      <td>...</td>\n",
       "      <td>...</td>\n",
       "      <td>...</td>\n",
       "      <td>...</td>\n",
       "      <td>...</td>\n",
       "      <td>...</td>\n",
       "    </tr>\n",
       "    <tr>\n",
       "      <th>43495</th>\n",
       "      <td>46</td>\n",
       "      <td>5</td>\n",
       "      <td>78</td>\n",
       "      <td>0</td>\n",
       "      <td>46</td>\n",
       "      <td>5</td>\n",
       "      <td>32</td>\n",
       "      <td>32</td>\n",
       "      <td>0</td>\n",
       "      <td>1</td>\n",
       "    </tr>\n",
       "    <tr>\n",
       "      <th>43496</th>\n",
       "      <td>37</td>\n",
       "      <td>0</td>\n",
       "      <td>79</td>\n",
       "      <td>-1</td>\n",
       "      <td>10</td>\n",
       "      <td>3</td>\n",
       "      <td>43</td>\n",
       "      <td>69</td>\n",
       "      <td>26</td>\n",
       "      <td>1</td>\n",
       "    </tr>\n",
       "    <tr>\n",
       "      <th>43497</th>\n",
       "      <td>48</td>\n",
       "      <td>0</td>\n",
       "      <td>78</td>\n",
       "      <td>3</td>\n",
       "      <td>46</td>\n",
       "      <td>0</td>\n",
       "      <td>30</td>\n",
       "      <td>32</td>\n",
       "      <td>2</td>\n",
       "      <td>1</td>\n",
       "    </tr>\n",
       "    <tr>\n",
       "      <th>43498</th>\n",
       "      <td>41</td>\n",
       "      <td>0</td>\n",
       "      <td>79</td>\n",
       "      <td>0</td>\n",
       "      <td>38</td>\n",
       "      <td>-25</td>\n",
       "      <td>38</td>\n",
       "      <td>40</td>\n",
       "      <td>2</td>\n",
       "      <td>1</td>\n",
       "    </tr>\n",
       "    <tr>\n",
       "      <th>43499</th>\n",
       "      <td>40</td>\n",
       "      <td>-3</td>\n",
       "      <td>100</td>\n",
       "      <td>0</td>\n",
       "      <td>38</td>\n",
       "      <td>0</td>\n",
       "      <td>61</td>\n",
       "      <td>62</td>\n",
       "      <td>2</td>\n",
       "      <td>1</td>\n",
       "    </tr>\n",
       "  </tbody>\n",
       "</table>\n",
       "<p>43500 rows × 10 columns</p>\n",
       "</div>"
      ],
      "text/plain": [
       "       time  attrib2  attrib3  attrib4  attrib5  attrib6  attrib7  attrib8  \\\n",
       "0        50       21       77        0       28        0       27       48   \n",
       "1        55        0       92        0        0       26       36       92   \n",
       "2        53        0       82        0       52       -5       29       30   \n",
       "3        37        0       76        0       28       18       40       48   \n",
       "4        37        0       79        0       34      -26       43       46   \n",
       "...     ...      ...      ...      ...      ...      ...      ...      ...   \n",
       "43495    46        5       78        0       46        5       32       32   \n",
       "43496    37        0       79       -1       10        3       43       69   \n",
       "43497    48        0       78        3       46        0       30       32   \n",
       "43498    41        0       79        0       38      -25       38       40   \n",
       "43499    40       -3      100        0       38        0       61       62   \n",
       "\n",
       "       attrib9  class  \n",
       "0           22      2  \n",
       "1           56      4  \n",
       "2            2      1  \n",
       "3            8      1  \n",
       "4            2      1  \n",
       "...        ...    ...  \n",
       "43495        0      1  \n",
       "43496       26      1  \n",
       "43497        2      1  \n",
       "43498        2      1  \n",
       "43499        2      1  \n",
       "\n",
       "[43500 rows x 10 columns]"
      ]
     },
     "execution_count": 8,
     "metadata": {},
     "output_type": "execute_result"
    }
   ],
   "source": [
    "train_df"
   ]
  },
  {
   "cell_type": "markdown",
   "metadata": {},
   "source": [
    "## 2. Load and prepare the dataset\n",
    "* Create binary classification problem - rename some class labels\n",
    "* Create a dataframe of 9 features named X, drop column 9.\n",
    "* Create a data frame of labels named y, select only column 9.\n",
    "* Split the data into a training set and a test set."
   ]
  },
  {
   "cell_type": "code",
   "execution_count": 9,
   "metadata": {},
   "outputs": [],
   "source": [
    "X = train_df.drop(columns=['class'])\n",
    "y = train_df['class']"
   ]
  },
  {
   "cell_type": "code",
   "execution_count": 10,
   "metadata": {},
   "outputs": [],
   "source": [
    "# Split into class 1 and all other classes\n",
    "y_2 = y.copy()\n",
    "y_2[y_2 != 1] = 0\n",
    "y_2[y_2 == 1] = 1"
   ]
  },
  {
   "cell_type": "code",
   "execution_count": 11,
   "metadata": {},
   "outputs": [
    {
     "data": {
      "text/plain": [
       "1    34108\n",
       "0     9392\n",
       "Name: class, dtype: int64"
      ]
     },
     "execution_count": 11,
     "metadata": {},
     "output_type": "execute_result"
    }
   ],
   "source": [
    "y_2.value_counts()"
   ]
  },
  {
   "cell_type": "markdown",
   "metadata": {},
   "source": [
    "## 3. Create the model\n",
    "* Instantiate a Logistic Regression classifier with a lbfgs solver.\n",
    "* Fit the classifier to the data."
   ]
  },
  {
   "cell_type": "code",
   "execution_count": 12,
   "metadata": {},
   "outputs": [
    {
     "data": {
      "text/plain": [
       "LogisticRegression(C=1.0, class_weight=None, dual=False, fit_intercept=True,\n",
       "                   intercept_scaling=1, l1_ratio=None, max_iter=100,\n",
       "                   multi_class='auto', n_jobs=None, penalty='l2',\n",
       "                   random_state=None, solver='lbfgs', tol=0.0001, verbose=0,\n",
       "                   warm_start=False)"
      ]
     },
     "execution_count": 12,
     "metadata": {},
     "output_type": "execute_result"
    }
   ],
   "source": [
    "X_train, X_test, y_train, y_test = train_test_split(X, y_2, random_state=42)\n",
    "\n",
    "lr = LogisticRegression(solver='lbfgs')\n",
    "lr.fit(X_train, y_train)"
   ]
  },
  {
   "cell_type": "markdown",
   "metadata": {},
   "source": [
    "## 4. Calculate Accuracy\n",
    "* Calculate and print the accuracy of the model on the test data."
   ]
  },
  {
   "cell_type": "code",
   "execution_count": 13,
   "metadata": {},
   "outputs": [
    {
     "data": {
      "text/plain": [
       "0.9302068965517242"
      ]
     },
     "execution_count": 13,
     "metadata": {},
     "output_type": "execute_result"
    }
   ],
   "source": [
    "lr.score(X_test, y_test)"
   ]
  },
  {
   "cell_type": "markdown",
   "metadata": {},
   "source": [
    "## 5. Dummy Classifier\n",
    "* Use the dummy classifier to calculate the accuracy of a purely random chance.\n",
    "* Compare this result to the result of the logistic regression classifier above. What does this result tell you?"
   ]
  },
  {
   "cell_type": "code",
   "execution_count": 14,
   "metadata": {},
   "outputs": [
    {
     "data": {
      "text/plain": [
       "0.7842758620689655"
      ]
     },
     "execution_count": 14,
     "metadata": {},
     "output_type": "execute_result"
    }
   ],
   "source": [
    "dummy = DummyClassifier(strategy = 'most_frequent')\n",
    "dummy.fit(X_train, y_train)\n",
    "dummy.score(X_test, y_test)"
   ]
  },
  {
   "cell_type": "markdown",
   "metadata": {},
   "source": [
    "## 6. Confusion Matrix\n",
    "* Print the confusion matrix."
   ]
  },
  {
   "cell_type": "code",
   "execution_count": 15,
   "metadata": {},
   "outputs": [
    {
     "name": "stdout",
     "output_type": "stream",
     "text": [
      "[[8261  268]\n",
      " [ 491 1855]]\n"
     ]
    }
   ],
   "source": [
    "predictions = lr.predict(X_test)\n",
    "\n",
    "confusion = confusion_matrix(y_test, predictions, labels=[1, 0])\n",
    "print(confusion)"
   ]
  },
  {
   "cell_type": "markdown",
   "metadata": {},
   "source": [
    "## 7. Plot a nicer confusion matrix (optional)\n",
    "* Use the plot_confusion_matrix function from above to plot a nicer looking confusion matrix."
   ]
  },
  {
   "cell_type": "code",
   "execution_count": 16,
   "metadata": {},
   "outputs": [],
   "source": [
    "def plot_confusion_matrix(cm,\n",
    "                          target_names,\n",
    "                          title='Confusion matrix',\n",
    "                          cmap=None,\n",
    "                          normalize=True):\n",
    "    \"\"\"\n",
    "    given a sklearn confusion matrix (cm), make a nice plot\n",
    "\n",
    "    Arguments\n",
    "    ---------\n",
    "    cm:           confusion matrix from sklearn.metrics.confusion_matrix\n",
    "\n",
    "    target_names: given classification classes such as [0, 1, 2]\n",
    "                  the class names, for example: ['high', 'medium', 'low']\n",
    "\n",
    "    title:        the text to display at the top of the matrix\n",
    "\n",
    "    cmap:         the gradient of the values displayed from matplotlib.pyplot.cm\n",
    "                  see http://matplotlib.org/examples/color/colormaps_reference.html\n",
    "                  plt.get_cmap('jet') or plt.cm.Blues\n",
    "\n",
    "    normalize:    If False, plot the raw numbers\n",
    "                  If True, plot the proportions\n",
    "\n",
    "    Usage\n",
    "    -----\n",
    "    plot_confusion_matrix(cm           = cm,                  # confusion matrix created by\n",
    "                                                              # sklearn.metrics.confusion_matrix\n",
    "                          normalize    = True,                # show proportions\n",
    "                          target_names = y_labels_vals,       # list of names of the classes\n",
    "                          title        = best_estimator_name) # title of graph\n",
    "\n",
    "    Citiation\n",
    "    ---------\n",
    "    http://scikit-learn.org/stable/auto_examples/model_selection/plot_confusion_matrix.html\n",
    "\n",
    "    \"\"\"\n",
    "    import matplotlib.pyplot as plt\n",
    "    import numpy as np\n",
    "    import itertools\n",
    "\n",
    "    accuracy = np.trace(cm) / float(np.sum(cm))\n",
    "    misclass = 1 - accuracy\n",
    "\n",
    "    if cmap is None:\n",
    "        cmap = plt.get_cmap('Blues')\n",
    "\n",
    "    plt.figure(figsize=(8, 6))\n",
    "    plt.imshow(cm, interpolation='nearest', cmap=cmap)\n",
    "    plt.title(title)\n",
    "    plt.colorbar()\n",
    "\n",
    "    if target_names is not None:\n",
    "        tick_marks = np.arange(len(target_names))\n",
    "        plt.xticks(tick_marks, target_names, rotation=45)\n",
    "        plt.yticks(tick_marks, target_names)\n",
    "\n",
    "    if normalize:\n",
    "        cm = cm.astype('float') / cm.sum(axis=1)[:, np.newaxis]\n",
    "\n",
    "\n",
    "    thresh = cm.max() / 1.5 if normalize else cm.max() / 2\n",
    "    for i, j in itertools.product(range(cm.shape[0]), range(cm.shape[1])):\n",
    "        if normalize:\n",
    "            plt.text(j, i, \"{:0.4f}\".format(cm[i, j]),\n",
    "                     horizontalalignment=\"center\",\n",
    "                     color=\"white\" if cm[i, j] > thresh else \"black\")\n",
    "        else:\n",
    "            plt.text(j, i, \"{:,}\".format(cm[i, j]),\n",
    "                     horizontalalignment=\"center\",\n",
    "                     color=\"white\" if cm[i, j] > thresh else \"black\")\n",
    "\n",
    "\n",
    "    plt.tight_layout()\n",
    "    plt.ylabel('True label')\n",
    "    plt.xlabel('Predicted label\\naccuracy={:0.4f}; misclass={:0.4f}'.format(accuracy, misclass))\n",
    "    plt.show()"
   ]
  },
  {
   "cell_type": "code",
   "execution_count": 17,
   "metadata": {},
   "outputs": [
    {
     "data": {
      "image/png": "[encoded data removed]",
      "text/plain": [
       "<Figure size 576x432 with 2 Axes>"
      ]
     },
     "metadata": {
      "needs_background": "light"
     },
     "output_type": "display_data"
    }
   ],
   "source": [
    "plot_confusion_matrix(cm=confusion, target_names = ['Space', 'Not Space'], title = 'Confusion Matrix',normalize=False)"
   ]
  },
  {
   "cell_type": "markdown",
   "metadata": {},
   "source": [
    "## 8. Calculate Metrics\n",
    "* Print the F1, F beta, precision, recall and accuracy scores."
   ]
  },
  {
   "cell_type": "code",
   "execution_count": 18,
   "metadata": {},
   "outputs": [
    {
     "name": "stdout",
     "output_type": "stream",
     "text": [
      "Accuracy score: 0.93\n",
      "Precision score: 0.94\n",
      "Recall score: 0.97\n",
      "F1 score: 0.96\n",
      "Fbeta score favoring precision: 0.95\n",
      "FBeta score favoring recall: 0.96\n"
     ]
    }
   ],
   "source": [
    "accuracy = accuracy_score(y_test, predictions)\n",
    "precision = precision_score(y_test, predictions)\n",
    "recall = recall_score(y_test, predictions)\n",
    "f1 = f1_score(y_test, predictions)\n",
    "fbeta_precision = fbeta_score(y_test, predictions, 0.5)\n",
    "fbeta_recall = fbeta_score(y_test, predictions, 2)\n",
    "\n",
    "print('Accuracy score: {:.2f}'.format(accuracy))\n",
    "print('Precision score: {:.2f}'.format(precision))\n",
    "print('Recall score: {:.2f}'.format(recall))\n",
    "print('F1 score: {:.2f}'.format(f1))\n",
    "print('Fbeta score favoring precision: {:.2f}'.format(fbeta_precision))\n",
    "print('FBeta score favoring recall: {:.2f}'.format(fbeta_recall))"
   ]
  },
  {
   "cell_type": "markdown",
   "metadata": {},
   "source": [
    "## 9. Print a classification report"
   ]
  },
  {
   "cell_type": "code",
   "execution_count": 19,
   "metadata": {},
   "outputs": [
    {
     "name": "stdout",
     "output_type": "stream",
     "text": [
      "              precision    recall  f1-score   support\n",
      "\n",
      "   Not Space       0.87      0.79      0.83      2346\n",
      "       Space       0.94      0.97      0.96      8529\n",
      "\n",
      "    accuracy                           0.93     10875\n",
      "   macro avg       0.91      0.88      0.89     10875\n",
      "weighted avg       0.93      0.93      0.93     10875\n",
      "\n"
     ]
    }
   ],
   "source": [
    "report = classification_report(y_test, predictions, target_names=['Not Space', 'Space'])\n",
    "print(report)"
   ]
  },
  {
   "cell_type": "markdown",
   "metadata": {},
   "source": [
    "## 10. Plot ROC Curve and AUC\n",
    "Caculate AUC and plot the curve.\n"
   ]
  },
  {
   "cell_type": "code",
   "execution_count": 20,
   "metadata": {},
   "outputs": [
    {
     "name": "stdout",
     "output_type": "stream",
     "text": [
      "[3.65330154e-09 9.79581608e-01 9.81616357e-01 9.99834305e-01\n",
      " 9.51252399e-01 9.99288240e-01 9.98856968e-01 9.94448742e-01\n",
      " 5.91828435e-01 9.87614912e-01 9.92440856e-01 2.26988163e-10\n",
      " 9.94216338e-01 9.74125139e-01 8.74259930e-01 9.99113472e-01\n",
      " 9.12422651e-01 9.99083717e-01 9.93249227e-01 9.99922078e-01\n",
      " 2.06374535e-10 9.88222837e-01 1.04990964e-02 9.48377510e-01\n",
      " 9.99997679e-01 5.04374544e-08 9.97585748e-01 6.31939050e-01\n",
      " 9.11653469e-01]\n"
     ]
    }
   ],
   "source": [
    "probs = lr.predict_proba(X_test)[:, 1]\n",
    "print(probs[1:30])"
   ]
  },
  {
   "cell_type": "code",
   "execution_count": 21,
   "metadata": {},
   "outputs": [
    {
     "name": "stdout",
     "output_type": "stream",
     "text": [
      "[0.         0.         0.00042626 0.00042626 0.00085251 0.00085251\n",
      " 0.00127877 0.00127877 0.00170503 0.00170503 0.00213129 0.00213129\n",
      " 0.00255754 0.00255754 0.0029838  0.0029838  0.00341006 0.00341006\n",
      " 0.00383632 0.00383632 0.00426257 0.00426257 0.00468883 0.00468883\n",
      " 0.00511509 0.00511509 0.00554135 0.00554135 0.0059676 ]\n",
      "[1.17247040e-04 1.53593622e-02 1.53593622e-02 7.31621527e-02\n",
      " 7.31621527e-02 7.82037754e-02 7.82037754e-02 8.13694454e-02\n",
      " 8.13694454e-02 2.28748974e-01 2.28748974e-01 2.33907844e-01\n",
      " 2.33907844e-01 2.47274006e-01 2.47274006e-01 2.68964709e-01\n",
      " 2.68964709e-01 2.71309649e-01 2.71309649e-01 3.13987572e-01\n",
      " 3.13987572e-01 4.81416344e-01 4.81416344e-01 5.69703365e-01\n",
      " 5.69703365e-01 5.95614961e-01 5.95614961e-01 5.98311643e-01\n",
      " 5.98311643e-01]\n",
      "[1.         0.99997099 0.99997092 0.99986405 0.99986399 0.99985282\n",
      " 0.99985266 0.99984187 0.99984158 0.99921651 0.99921484 0.99917117\n",
      " 0.99917101 0.99908835 0.99908757 0.99889879 0.9988951  0.99884204\n",
      " 0.99884085 0.99818809 0.99818703 0.99360066 0.99359996 0.98908414\n",
      " 0.98906579 0.98646575 0.98645437 0.98626631 0.98625476]\n"
     ]
    }
   ],
   "source": [
    "fpr, tpr, thresholds = roc_curve(y_test, probs)\n",
    "print(fpr[1:30])\n",
    "print(tpr[1:30])\n",
    "print(thresholds[1:30])"
   ]
  },
  {
   "cell_type": "code",
   "execution_count": 22,
   "metadata": {},
   "outputs": [
    {
     "data": {
      "image/png": "[encoded data removed]",
      "text/plain": [
       "<Figure size 432x432 with 1 Axes>"
      ]
     },
     "metadata": {
      "needs_background": "light"
     },
     "output_type": "display_data"
    }
   ],
   "source": [
    "fig = plt.figure(figsize = (6, 6))\n",
    "plt.plot([0, 1], [0, 1], 'k--')\n",
    "plt.plot(fpr, tpr)\n",
    "plt.fill(fpr, tpr, 'grey', alpha=0.5)\n",
    "plt.xlabel('False Positive Rate')\n",
    "plt.ylabel('True Positive Rate')\n",
    "plt.title('ROC curve for Logistic Regression Model')\n",
    "plt.show()"
   ]
  },
  {
   "cell_type": "code",
   "execution_count": 23,
   "metadata": {},
   "outputs": [
    {
     "name": "stdout",
     "output_type": "stream",
     "text": [
      "Area under the ROC curve: 0.969\n"
     ]
    }
   ],
   "source": [
    "auc = roc_auc_score(y_test, probs)\n",
    "print('Area under the ROC curve: {:.3f}'.format(auc))"
   ]
  },
  {
   "cell_type": "markdown",
   "metadata": {},
   "source": [
    "## 11. Plot Precision-Recall Curve\n",
    "* Plot the precision-recall curve for the model above.\n",
    "* Find the best value for C in the Logistic Regression Classifier for avoiding overfitting. Plot the training and testing accuracy over a range of C values from 0.05 to 1.5.\n"
   ]
  },
  {
   "cell_type": "code",
   "execution_count": 24,
   "metadata": {},
   "outputs": [
    {
     "data": {
      "image/png": "[encoded data removed]",
      "text/plain": [
       "<Figure size 432x432 with 1 Axes>"
      ]
     },
     "metadata": {
      "needs_background": "light"
     },
     "output_type": "display_data"
    }
   ],
   "source": [
    "pres, rec, thresholds = precision_recall_curve(y_test, predictions)\n",
    "fig = plt.figure(figsize = (6, 6))\n",
    "plt.plot(rec, pres)\n",
    "plt.xlabel('Recall')\n",
    "plt.ylabel('Precision')\n",
    "plt.title('Precision-Recall Curve')\n",
    "plt.show()"
   ]
  },
  {
   "cell_type": "markdown",
   "metadata": {},
   "source": [
    "## 12. Cross Validation\n",
    "* Perform 5-fold cross validation for a Logistic Regression Classifier. Print the 5 accuracy scores and the mean validation score.\n"
   ]
  },
  {
   "cell_type": "code",
   "execution_count": 25,
   "metadata": {},
   "outputs": [
    {
     "name": "stdout",
     "output_type": "stream",
     "text": [
      "Accuracy scores for the 5 folds:  [0.94360153 0.93011494 0.94022989 0.93915709 0.93302682]\n",
      "Mean cross validatiion score: 0.937\n"
     ]
    }
   ],
   "source": [
    "X_train, X_test, y_train, y_test = train_test_split(X, y_2, random_state=42)\n",
    "clf = LogisticRegression(solver='lbfgs')\n",
    "cv_scores = cross_val_score(clf, X_train, y_train, cv = 5)\n",
    "\n",
    "print('Accuracy scores for the 5 folds: ', cv_scores)\n",
    "print('Mean cross validatiion score: {:.3f}'.format(np.mean(cv_scores)))"
   ]
  },
  {
   "cell_type": "markdown",
   "metadata": {},
   "source": [
    "## 13. Is this really linear?\n",
    "* Our linear classifier is not giving us accuracy better than the dummy classifier. Suppose that the data was not linearly separable? Instantiate and train a KNN model with k = 7. How does the accuracy of the KNN model compare to the Logistic Regression from above? What does that tell you about the data?\n"
   ]
  },
  {
   "cell_type": "code",
   "execution_count": 29,
   "metadata": {},
   "outputs": [],
   "source": [
    "knn = KNeighborsClassifier(n_neighbors=7)"
   ]
  },
  {
   "cell_type": "code",
   "execution_count": 33,
   "metadata": {},
   "outputs": [
    {
     "data": {
      "text/plain": [
       "KNeighborsClassifier(algorithm='auto', leaf_size=30, metric='minkowski',\n",
       "                     metric_params=None, n_jobs=None, n_neighbors=7, p=2,\n",
       "                     weights='uniform')"
      ]
     },
     "execution_count": 33,
     "metadata": {},
     "output_type": "execute_result"
    }
   ],
   "source": [
    "knn.fit(X_train, y_train)"
   ]
  },
  {
   "cell_type": "code",
   "execution_count": 34,
   "metadata": {},
   "outputs": [
    {
     "data": {
      "text/plain": [
       "0.9981609195402299"
      ]
     },
     "execution_count": 34,
     "metadata": {},
     "output_type": "execute_result"
    }
   ],
   "source": [
    "knn.score(X_test, y_test)"
   ]
  },
  {
   "cell_type": "markdown",
   "metadata": {},
   "source": [
    "## 14. Random Forest\n",
    "* Next, instantiate and fit a RandomForestClassifier and calculate the accuracy of that model."
   ]
  },
  {
   "cell_type": "code",
   "execution_count": 35,
   "metadata": {},
   "outputs": [],
   "source": [
    "rfc = RandomForestClassifier()"
   ]
  },
  {
   "cell_type": "code",
   "execution_count": 36,
   "metadata": {},
   "outputs": [
    {
     "data": {
      "text/plain": [
       "RandomForestClassifier(bootstrap=True, ccp_alpha=0.0, class_weight=None,\n",
       "                       criterion='gini', max_depth=None, max_features='auto',\n",
       "                       max_leaf_nodes=None, max_samples=None,\n",
       "                       min_impurity_decrease=0.0, min_impurity_split=None,\n",
       "                       min_samples_leaf=1, min_samples_split=2,\n",
       "                       min_weight_fraction_leaf=0.0, n_estimators=100,\n",
       "                       n_jobs=None, oob_score=False, random_state=None,\n",
       "                       verbose=0, warm_start=False)"
      ]
     },
     "execution_count": 36,
     "metadata": {},
     "output_type": "execute_result"
    }
   ],
   "source": [
    "rfc.fit(X_train, y_train)"
   ]
  },
  {
   "cell_type": "code",
   "execution_count": 37,
   "metadata": {},
   "outputs": [
    {
     "data": {
      "text/plain": [
       "1.0"
      ]
     },
     "execution_count": 37,
     "metadata": {},
     "output_type": "execute_result"
    }
   ],
   "source": [
    "rfc.score(X_test, y_test)"
   ]
  },
  {
   "cell_type": "code",
   "execution_count": null,
   "metadata": {},
   "outputs": [],
   "source": []
  }
 ],
 "metadata": {
  "kernelspec": {
   "display_name": "Python 3",
   "language": "python",
   "name": "python3"
  },
  "language_info": {
   "codemirror_mode": {
    "name": "ipython",
    "version": 3
   },
   "file_extension": ".py",
   "mimetype": "text/x-python",
   "name": "python",
   "nbconvert_exporter": "python",
   "pygments_lexer": "ipython3",
   "version": "3.7.6"
  }
 },
 "nbformat": 4,
 "nbformat_minor": 4
}
