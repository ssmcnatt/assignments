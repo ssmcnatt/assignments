{
 "cells": [
  {
   "cell_type": "markdown",
   "metadata": {},
   "source": [
    "# In this module, you were introduced to the amazing and challenging domain of unsupervised learning; you explored some of the most popular clustering and dimensionality reduction algorithms. Now, it's time for you to apply your unsupervised learning knowledge. In this challenge, you'll work with a dataset of your choice. As always, Kaggle will be one of your best friends. Spend some time on Kaggle and pick a beautiful dataset. Then, using that dataset, do the following:\n",
    "\n",
    "# * Apply dimensionality reduction techniques to visualize the observations.\n",
    "\n",
    "# * Apply clustering techniques to group similar observations.\n",
    "\n",
    "# For each of the tasks above, try several methods and select the best-performing one. Discuss how dimensionality reduction and clustering algorithms enable you to gain insights regarding the data."
   ]
  },
  {
   "cell_type": "code",
   "execution_count": 1,
   "metadata": {},
   "outputs": [],
   "source": [
    "import pandas as pd\n",
    "import numpy as np\n",
    "import seaborn as sns\n",
    "import matplotlib.pyplot as plt\n",
    "\n",
    "from sklearn.model_selection import train_test_split\n",
    "from sklearn.preprocessing import StandardScaler\n",
    "from sklearn.cluster import KMeans, DBSCAN\n",
    "from sklearn.mixture import GaussianMixture\n",
    "from sklearn.decomposition import PCA\n",
    "from sklearn.manifold import TSNE\n",
    "\n",
    "import umap\n",
    "\n",
    "from sklearn import datasets, metrics\n",
    "from scipy.cluster.hierarchy import dendrogram, linkage\n",
    "\n",
    "import warnings\n",
    "\n",
    "warnings.filterwarnings('ignore')"
   ]
  },
  {
   "cell_type": "markdown",
   "metadata": {},
   "source": [
    "# Aerial Bombing Operations in World War II\n",
    "\n",
    "## * Target, aircraft used, and bombs deployed for every mission in WWII\n",
    "\n",
    "## * https://www.kaggle.com/usaf/world-war-ii"
   ]
  },
  {
   "cell_type": "code",
   "execution_count": 2,
   "metadata": {},
   "outputs": [],
   "source": [
    "ops_df = pd.read_csv('data/operations.csv')"
   ]
  },
  {
   "cell_type": "code",
   "execution_count": 3,
   "metadata": {},
   "outputs": [
    {
     "data": {
      "text/html": [
       "<div>\n",
       "<style scoped>\n",
       "    .dataframe tbody tr th:only-of-type {\n",
       "        vertical-align: middle;\n",
       "    }\n",
       "\n",
       "    .dataframe tbody tr th {\n",
       "        vertical-align: top;\n",
       "    }\n",
       "\n",
       "    .dataframe thead th {\n",
       "        text-align: right;\n",
       "    }\n",
       "</style>\n",
       "<table border=\"1\" class=\"dataframe\">\n",
       "  <thead>\n",
       "    <tr style=\"text-align: right;\">\n",
       "      <th></th>\n",
       "      <th>Mission ID</th>\n",
       "      <th>Mission Date</th>\n",
       "      <th>Theater of Operations</th>\n",
       "      <th>Country</th>\n",
       "      <th>Air Force</th>\n",
       "      <th>Unit ID</th>\n",
       "      <th>Aircraft Series</th>\n",
       "      <th>Callsign</th>\n",
       "      <th>Mission Type</th>\n",
       "      <th>Takeoff Base</th>\n",
       "      <th>...</th>\n",
       "      <th>Incendiary Devices Weight (Tons)</th>\n",
       "      <th>Fragmentation Devices</th>\n",
       "      <th>Fragmentation Devices Type</th>\n",
       "      <th>Fragmentation Devices Weight (Pounds)</th>\n",
       "      <th>Fragmentation Devices Weight (Tons)</th>\n",
       "      <th>Total Weight (Pounds)</th>\n",
       "      <th>Total Weight (Tons)</th>\n",
       "      <th>Time Over Target</th>\n",
       "      <th>Bomb Damage Assessment</th>\n",
       "      <th>Source ID</th>\n",
       "    </tr>\n",
       "  </thead>\n",
       "  <tbody>\n",
       "    <tr>\n",
       "      <th>0</th>\n",
       "      <td>1</td>\n",
       "      <td>8/15/1943</td>\n",
       "      <td>MTO</td>\n",
       "      <td>USA</td>\n",
       "      <td>12 AF</td>\n",
       "      <td>27 FBG/86 FBG</td>\n",
       "      <td>A36</td>\n",
       "      <td>NaN</td>\n",
       "      <td>NaN</td>\n",
       "      <td>PONTE OLIVO AIRFIELD</td>\n",
       "      <td>...</td>\n",
       "      <td>NaN</td>\n",
       "      <td>NaN</td>\n",
       "      <td>NaN</td>\n",
       "      <td>NaN</td>\n",
       "      <td>NaN</td>\n",
       "      <td>NaN</td>\n",
       "      <td>10.0</td>\n",
       "      <td>NaN</td>\n",
       "      <td>NaN</td>\n",
       "      <td>NaN</td>\n",
       "    </tr>\n",
       "    <tr>\n",
       "      <th>1</th>\n",
       "      <td>2</td>\n",
       "      <td>8/15/1943</td>\n",
       "      <td>PTO</td>\n",
       "      <td>USA</td>\n",
       "      <td>5 AF</td>\n",
       "      <td>400 BS</td>\n",
       "      <td>B24</td>\n",
       "      <td>NaN</td>\n",
       "      <td>1</td>\n",
       "      <td>NaN</td>\n",
       "      <td>...</td>\n",
       "      <td>NaN</td>\n",
       "      <td>NaN</td>\n",
       "      <td>NaN</td>\n",
       "      <td>NaN</td>\n",
       "      <td>NaN</td>\n",
       "      <td>NaN</td>\n",
       "      <td>20.0</td>\n",
       "      <td>NaN</td>\n",
       "      <td>NaN</td>\n",
       "      <td>9366.0</td>\n",
       "    </tr>\n",
       "    <tr>\n",
       "      <th>2</th>\n",
       "      <td>3</td>\n",
       "      <td>8/15/1943</td>\n",
       "      <td>MTO</td>\n",
       "      <td>USA</td>\n",
       "      <td>12 AF</td>\n",
       "      <td>27 FBG/86 FBG</td>\n",
       "      <td>A36</td>\n",
       "      <td>NaN</td>\n",
       "      <td>NaN</td>\n",
       "      <td>PONTE OLIVO AIRFIELD</td>\n",
       "      <td>...</td>\n",
       "      <td>NaN</td>\n",
       "      <td>NaN</td>\n",
       "      <td>NaN</td>\n",
       "      <td>NaN</td>\n",
       "      <td>NaN</td>\n",
       "      <td>NaN</td>\n",
       "      <td>9.0</td>\n",
       "      <td>NaN</td>\n",
       "      <td>NaN</td>\n",
       "      <td>NaN</td>\n",
       "    </tr>\n",
       "    <tr>\n",
       "      <th>3</th>\n",
       "      <td>4</td>\n",
       "      <td>8/15/1943</td>\n",
       "      <td>MTO</td>\n",
       "      <td>USA</td>\n",
       "      <td>12 AF</td>\n",
       "      <td>27 FBG/86 FBG</td>\n",
       "      <td>A36</td>\n",
       "      <td>NaN</td>\n",
       "      <td>NaN</td>\n",
       "      <td>PONTE OLIVO AIRFIELD</td>\n",
       "      <td>...</td>\n",
       "      <td>NaN</td>\n",
       "      <td>NaN</td>\n",
       "      <td>NaN</td>\n",
       "      <td>NaN</td>\n",
       "      <td>NaN</td>\n",
       "      <td>NaN</td>\n",
       "      <td>7.5</td>\n",
       "      <td>NaN</td>\n",
       "      <td>NaN</td>\n",
       "      <td>NaN</td>\n",
       "    </tr>\n",
       "    <tr>\n",
       "      <th>4</th>\n",
       "      <td>5</td>\n",
       "      <td>8/15/1943</td>\n",
       "      <td>PTO</td>\n",
       "      <td>USA</td>\n",
       "      <td>5 AF</td>\n",
       "      <td>321 BS</td>\n",
       "      <td>B24</td>\n",
       "      <td>NaN</td>\n",
       "      <td>1</td>\n",
       "      <td>NaN</td>\n",
       "      <td>...</td>\n",
       "      <td>NaN</td>\n",
       "      <td>NaN</td>\n",
       "      <td>NaN</td>\n",
       "      <td>NaN</td>\n",
       "      <td>NaN</td>\n",
       "      <td>NaN</td>\n",
       "      <td>8.0</td>\n",
       "      <td>NaN</td>\n",
       "      <td>NaN</td>\n",
       "      <td>22585.0</td>\n",
       "    </tr>\n",
       "  </tbody>\n",
       "</table>\n",
       "<p>5 rows × 46 columns</p>\n",
       "</div>"
      ],
      "text/plain": [
       "   Mission ID Mission Date Theater of Operations Country Air Force  \\\n",
       "0           1    8/15/1943                   MTO     USA     12 AF   \n",
       "1           2    8/15/1943                   PTO     USA      5 AF   \n",
       "2           3    8/15/1943                   MTO     USA     12 AF   \n",
       "3           4    8/15/1943                   MTO     USA     12 AF   \n",
       "4           5    8/15/1943                   PTO     USA      5 AF   \n",
       "\n",
       "         Unit ID Aircraft Series Callsign Mission Type          Takeoff Base  \\\n",
       "0  27 FBG/86 FBG             A36      NaN          NaN  PONTE OLIVO AIRFIELD   \n",
       "1         400 BS             B24      NaN            1                   NaN   \n",
       "2  27 FBG/86 FBG             A36      NaN          NaN  PONTE OLIVO AIRFIELD   \n",
       "3  27 FBG/86 FBG             A36      NaN          NaN  PONTE OLIVO AIRFIELD   \n",
       "4         321 BS             B24      NaN            1                   NaN   \n",
       "\n",
       "   ... Incendiary Devices Weight (Tons) Fragmentation Devices  \\\n",
       "0  ...                              NaN                   NaN   \n",
       "1  ...                              NaN                   NaN   \n",
       "2  ...                              NaN                   NaN   \n",
       "3  ...                              NaN                   NaN   \n",
       "4  ...                              NaN                   NaN   \n",
       "\n",
       "   Fragmentation Devices Type Fragmentation Devices Weight (Pounds)  \\\n",
       "0                         NaN                                   NaN   \n",
       "1                         NaN                                   NaN   \n",
       "2                         NaN                                   NaN   \n",
       "3                         NaN                                   NaN   \n",
       "4                         NaN                                   NaN   \n",
       "\n",
       "  Fragmentation Devices Weight (Tons) Total Weight (Pounds)  \\\n",
       "0                                 NaN                   NaN   \n",
       "1                                 NaN                   NaN   \n",
       "2                                 NaN                   NaN   \n",
       "3                                 NaN                   NaN   \n",
       "4                                 NaN                   NaN   \n",
       "\n",
       "  Total Weight (Tons) Time Over Target Bomb Damage Assessment  Source ID  \n",
       "0                10.0              NaN                    NaN        NaN  \n",
       "1                20.0              NaN                    NaN     9366.0  \n",
       "2                 9.0              NaN                    NaN        NaN  \n",
       "3                 7.5              NaN                    NaN        NaN  \n",
       "4                 8.0              NaN                    NaN    22585.0  \n",
       "\n",
       "[5 rows x 46 columns]"
      ]
     },
     "execution_count": 3,
     "metadata": {},
     "output_type": "execute_result"
    }
   ],
   "source": [
    "ops_df.head()"
   ]
  },
  {
   "cell_type": "markdown",
   "metadata": {},
   "source": [
    "The dataset needs some preprocessing"
   ]
  },
  {
   "cell_type": "code",
   "execution_count": 4,
   "metadata": {},
   "outputs": [
    {
     "name": "stdout",
     "output_type": "stream",
     "text": [
      "<class 'pandas.core.frame.DataFrame'>\n",
      "RangeIndex: 178281 entries, 0 to 178280\n",
      "Data columns (total 46 columns):\n",
      " #   Column                                 Non-Null Count   Dtype  \n",
      "---  ------                                 --------------   -----  \n",
      " 0   Mission ID                             178281 non-null  int64  \n",
      " 1   Mission Date                           178281 non-null  object \n",
      " 2   Theater of Operations                  175123 non-null  object \n",
      " 3   Country                                126494 non-null  object \n",
      " 4   Air Force                              126444 non-null  object \n",
      " 5   Unit ID                                50913 non-null   object \n",
      " 6   Aircraft Series                        178165 non-null  object \n",
      " 7   Callsign                               21 non-null      object \n",
      " 8   Mission Type                           47186 non-null   object \n",
      " 9   Takeoff Base                           3383 non-null    object \n",
      " 10  Takeoff Location                       3338 non-null    object \n",
      " 11  Takeoff Latitude                       2981 non-null    object \n",
      " 12  Takeoff Longitude                      2980 non-null    float64\n",
      " 13  Target ID                              127406 non-null  object \n",
      " 14  Target Country                         177682 non-null  object \n",
      " 15  Target City                            176018 non-null  object \n",
      " 16  Target Type                            146370 non-null  object \n",
      " 17  Target Industry                        126479 non-null  object \n",
      " 18  Target Priority                        134720 non-null  object \n",
      " 19  Target Latitude                        169565 non-null  float64\n",
      " 20  Target Longitude                       169543 non-null  float64\n",
      " 21  Altitude (Hundreds of Feet)            120826 non-null  float64\n",
      " 22  Airborne Aircraft                      82242 non-null   float64\n",
      " 23  Attacking Aircraft                     125108 non-null  float64\n",
      " 24  Bombing Aircraft                       81612 non-null   float64\n",
      " 25  Aircraft Returned                      133 non-null     float64\n",
      " 26  Aircraft Failed                        247 non-null     float64\n",
      " 27  Aircraft Damaged                       38 non-null      float64\n",
      " 28  Aircraft Lost                          158 non-null     float64\n",
      " 29  High Explosives                        34737 non-null   float64\n",
      " 30  High Explosives Type                   41945 non-null   object \n",
      " 31  High Explosives Weight (Pounds)        2021 non-null    object \n",
      " 32  High Explosives Weight (Tons)          146201 non-null  float64\n",
      " 33  Incendiary Devices                     3283 non-null    float64\n",
      " 34  Incendiary Devices Type                5519 non-null    object \n",
      " 35  Incendiary Devices Weight (Pounds)     356 non-null     float64\n",
      " 36  Incendiary Devices Weight (Tons)       25732 non-null   float64\n",
      " 37  Fragmentation Devices                  5768 non-null    float64\n",
      " 38  Fragmentation Devices Type             5765 non-null    object \n",
      " 39  Fragmentation Devices Weight (Pounds)  194 non-null     float64\n",
      " 40  Fragmentation Devices Weight (Tons)    16902 non-null   float64\n",
      " 41  Total Weight (Pounds)                  2119 non-null    float64\n",
      " 42  Total Weight (Tons)                    166508 non-null  float64\n",
      " 43  Time Over Target                       689 non-null     object \n",
      " 44  Bomb Damage Assessment                 104 non-null     object \n",
      " 45  Source ID                              174236 non-null  float64\n",
      "dtypes: float64(22), int64(1), object(23)\n",
      "memory usage: 62.6+ MB\n"
     ]
    }
   ],
   "source": [
    "ops_df.info()"
   ]
  },
  {
   "cell_type": "code",
   "execution_count": 5,
   "metadata": {},
   "outputs": [
    {
     "data": {
      "text/plain": [
       "Mission ID                               0.000000\n",
       "Mission Date                             0.000000\n",
       "Theater of Operations                    0.017714\n",
       "Country                                  0.290480\n",
       "Air Force                                0.290760\n",
       "Unit ID                                  0.714423\n",
       "Aircraft Series                          0.000651\n",
       "Callsign                                 0.999882\n",
       "Mission Type                             0.735328\n",
       "Takeoff Base                             0.981024\n",
       "Takeoff Location                         0.981277\n",
       "Takeoff Latitude                         0.983279\n",
       "Takeoff Longitude                        0.983285\n",
       "Target ID                                0.285364\n",
       "Target Country                           0.003360\n",
       "Target City                              0.012693\n",
       "Target Type                              0.178993\n",
       "Target Industry                          0.290564\n",
       "Target Priority                          0.244339\n",
       "Target Latitude                          0.048889\n",
       "Target Longitude                         0.049013\n",
       "Altitude (Hundreds of Feet)              0.322272\n",
       "Airborne Aircraft                        0.538695\n",
       "Attacking Aircraft                       0.298254\n",
       "Bombing Aircraft                         0.542228\n",
       "Aircraft Returned                        0.999254\n",
       "Aircraft Failed                          0.998615\n",
       "Aircraft Damaged                         0.999787\n",
       "Aircraft Lost                            0.999114\n",
       "High Explosives                          0.805156\n",
       "High Explosives Type                     0.764725\n",
       "High Explosives Weight (Pounds)          0.988664\n",
       "High Explosives Weight (Tons)            0.179941\n",
       "Incendiary Devices                       0.981585\n",
       "Incendiary Devices Type                  0.969043\n",
       "Incendiary Devices Weight (Pounds)       0.998003\n",
       "Incendiary Devices Weight (Tons)         0.855666\n",
       "Fragmentation Devices                    0.967647\n",
       "Fragmentation Devices Type               0.967663\n",
       "Fragmentation Devices Weight (Pounds)    0.998912\n",
       "Fragmentation Devices Weight (Tons)      0.905195\n",
       "Total Weight (Pounds)                    0.988114\n",
       "Total Weight (Tons)                      0.066036\n",
       "Time Over Target                         0.996135\n",
       "Bomb Damage Assessment                   0.999417\n",
       "Source ID                                0.022689\n",
       "dtype: float64"
      ]
     },
     "execution_count": 5,
     "metadata": {},
     "output_type": "execute_result"
    }
   ],
   "source": [
    "ops_df.isna().mean()"
   ]
  },
  {
   "cell_type": "code",
   "execution_count": 6,
   "metadata": {},
   "outputs": [],
   "source": [
    "features = ['Target Country'\n",
    "            ,'Target City'\n",
    "            ,'Target Type'\n",
    "            ,'Target Priority'\n",
    "            ,'High Explosives'\n",
    "           ]\n",
    "target = ['Mission Date']\n",
    "\n",
    "model_df = ops_df[features].join(ops_df[target])\n",
    "model_df = model_df.dropna()"
   ]
  },
  {
   "cell_type": "code",
   "execution_count": 7,
   "metadata": {},
   "outputs": [
    {
     "name": "stdout",
     "output_type": "stream",
     "text": [
      "<class 'pandas.core.frame.DataFrame'>\n",
      "Int64Index: 31551 entries, 1 to 178280\n",
      "Data columns (total 6 columns):\n",
      " #   Column           Non-Null Count  Dtype  \n",
      "---  ------           --------------  -----  \n",
      " 0   Target Country   31551 non-null  object \n",
      " 1   Target City      31551 non-null  object \n",
      " 2   Target Type      31551 non-null  object \n",
      " 3   Target Priority  31551 non-null  object \n",
      " 4   High Explosives  31551 non-null  float64\n",
      " 5   Mission Date     31551 non-null  object \n",
      "dtypes: float64(1), object(5)\n",
      "memory usage: 1.7+ MB\n"
     ]
    }
   ],
   "source": [
    "model_df.info()"
   ]
  },
  {
   "cell_type": "code",
   "execution_count": 8,
   "metadata": {},
   "outputs": [],
   "source": [
    "model_df[\"Target Country\"] = model_df[\"Target Country\"].astype(\"category\").cat.codes\n",
    "model_df[\"Target City\"] = model_df[\"Target City\"].astype(\"category\").cat.codes\n",
    "model_df[\"Target Type\"] = model_df[\"Target Type\"].astype(\"category\").cat.codes\n",
    "model_df[\"Target Priority\"] = model_df[\"Target Priority\"].astype(\"category\").cat.codes"
   ]
  },
  {
   "cell_type": "code",
   "execution_count": 9,
   "metadata": {},
   "outputs": [],
   "source": [
    "model_df['year'] = pd.DatetimeIndex(model_df['Mission Date']).strftime('%Y%m')\n",
    "model_df = model_df.drop(columns=['Mission Date'])"
   ]
  },
  {
   "cell_type": "code",
   "execution_count": 10,
   "metadata": {
    "scrolled": true
   },
   "outputs": [],
   "source": [
    "model_df['year'] = model_df['year'].astype(int)"
   ]
  },
  {
   "cell_type": "markdown",
   "metadata": {},
   "source": [
    "# K-means analysis"
   ]
  },
  {
   "cell_type": "code",
   "execution_count": 23,
   "metadata": {},
   "outputs": [
    {
     "data": {
      "text/html": [
       "<div>\n",
       "<style scoped>\n",
       "    .dataframe tbody tr th:only-of-type {\n",
       "        vertical-align: middle;\n",
       "    }\n",
       "\n",
       "    .dataframe tbody tr th {\n",
       "        vertical-align: top;\n",
       "    }\n",
       "\n",
       "    .dataframe thead th {\n",
       "        text-align: right;\n",
       "    }\n",
       "</style>\n",
       "<table border=\"1\" class=\"dataframe\">\n",
       "  <thead>\n",
       "    <tr style=\"text-align: right;\">\n",
       "      <th></th>\n",
       "      <th>Target Country</th>\n",
       "      <th>Target City</th>\n",
       "      <th>Target Type</th>\n",
       "      <th>Target Priority</th>\n",
       "      <th>High Explosives</th>\n",
       "      <th>year</th>\n",
       "    </tr>\n",
       "  </thead>\n",
       "  <tbody>\n",
       "    <tr>\n",
       "      <th>96448</th>\n",
       "      <td>29</td>\n",
       "      <td>2011</td>\n",
       "      <td>41</td>\n",
       "      <td>1</td>\n",
       "      <td>26.0</td>\n",
       "      <td>194411</td>\n",
       "    </tr>\n",
       "    <tr>\n",
       "      <th>156706</th>\n",
       "      <td>2</td>\n",
       "      <td>1239</td>\n",
       "      <td>41</td>\n",
       "      <td>1</td>\n",
       "      <td>280.0</td>\n",
       "      <td>194501</td>\n",
       "    </tr>\n",
       "    <tr>\n",
       "      <th>16509</th>\n",
       "      <td>1</td>\n",
       "      <td>1644</td>\n",
       "      <td>41</td>\n",
       "      <td>1</td>\n",
       "      <td>84.0</td>\n",
       "      <td>194401</td>\n",
       "    </tr>\n",
       "    <tr>\n",
       "      <th>22995</th>\n",
       "      <td>5</td>\n",
       "      <td>3579</td>\n",
       "      <td>129</td>\n",
       "      <td>1</td>\n",
       "      <td>20.0</td>\n",
       "      <td>194408</td>\n",
       "    </tr>\n",
       "    <tr>\n",
       "      <th>30580</th>\n",
       "      <td>27</td>\n",
       "      <td>3502</td>\n",
       "      <td>1434</td>\n",
       "      <td>1</td>\n",
       "      <td>16.0</td>\n",
       "      <td>194408</td>\n",
       "    </tr>\n",
       "    <tr>\n",
       "      <th>...</th>\n",
       "      <td>...</td>\n",
       "      <td>...</td>\n",
       "      <td>...</td>\n",
       "      <td>...</td>\n",
       "      <td>...</td>\n",
       "      <td>...</td>\n",
       "    </tr>\n",
       "    <tr>\n",
       "      <th>140327</th>\n",
       "      <td>2</td>\n",
       "      <td>395</td>\n",
       "      <td>467</td>\n",
       "      <td>8</td>\n",
       "      <td>4.0</td>\n",
       "      <td>194507</td>\n",
       "    </tr>\n",
       "    <tr>\n",
       "      <th>59406</th>\n",
       "      <td>2</td>\n",
       "      <td>2484</td>\n",
       "      <td>41</td>\n",
       "      <td>2</td>\n",
       "      <td>8.0</td>\n",
       "      <td>194504</td>\n",
       "    </tr>\n",
       "    <tr>\n",
       "      <th>145287</th>\n",
       "      <td>15</td>\n",
       "      <td>3064</td>\n",
       "      <td>1443</td>\n",
       "      <td>3</td>\n",
       "      <td>6.0</td>\n",
       "      <td>194507</td>\n",
       "    </tr>\n",
       "    <tr>\n",
       "      <th>93792</th>\n",
       "      <td>29</td>\n",
       "      <td>2179</td>\n",
       "      <td>1434</td>\n",
       "      <td>1</td>\n",
       "      <td>20.0</td>\n",
       "      <td>194504</td>\n",
       "    </tr>\n",
       "    <tr>\n",
       "      <th>136572</th>\n",
       "      <td>30</td>\n",
       "      <td>1327</td>\n",
       "      <td>48</td>\n",
       "      <td>1</td>\n",
       "      <td>4.0</td>\n",
       "      <td>194406</td>\n",
       "    </tr>\n",
       "  </tbody>\n",
       "</table>\n",
       "<p>10000 rows × 6 columns</p>\n",
       "</div>"
      ],
      "text/plain": [
       "        Target Country  Target City  Target Type  Target Priority  \\\n",
       "96448               29         2011           41                1   \n",
       "156706               2         1239           41                1   \n",
       "16509                1         1644           41                1   \n",
       "22995                5         3579          129                1   \n",
       "30580               27         3502         1434                1   \n",
       "...                ...          ...          ...              ...   \n",
       "140327               2          395          467                8   \n",
       "59406                2         2484           41                2   \n",
       "145287              15         3064         1443                3   \n",
       "93792               29         2179         1434                1   \n",
       "136572              30         1327           48                1   \n",
       "\n",
       "        High Explosives    year  \n",
       "96448              26.0  194411  \n",
       "156706            280.0  194501  \n",
       "16509              84.0  194401  \n",
       "22995              20.0  194408  \n",
       "30580              16.0  194408  \n",
       "...                 ...     ...  \n",
       "140327              4.0  194507  \n",
       "59406               8.0  194504  \n",
       "145287              6.0  194507  \n",
       "93792              20.0  194504  \n",
       "136572              4.0  194406  \n",
       "\n",
       "[10000 rows x 6 columns]"
      ]
     },
     "execution_count": 23,
     "metadata": {},
     "output_type": "execute_result"
    }
   ],
   "source": [
    "sample = model_df.sample(10000, axis=0, random_state=66)\n",
    "sample"
   ]
  },
  {
   "cell_type": "code",
   "execution_count": 50,
   "metadata": {},
   "outputs": [],
   "source": [
    "X = sample[features]\n",
    "y = sample['year']"
   ]
  },
  {
   "cell_type": "code",
   "execution_count": 51,
   "metadata": {},
   "outputs": [],
   "source": [
    "scaler = StandardScaler()\n",
    "X_std = scaler.fit_transform(X)"
   ]
  },
  {
   "cell_type": "code",
   "execution_count": 52,
   "metadata": {},
   "outputs": [
    {
     "name": "stdout",
     "output_type": "stream",
     "text": [
      "Adjusted Rand Index: 0.0035589558329631094\n",
      "The silhoutte score: 0.02766474320683576\n"
     ]
    },
    {
     "data": {
      "image/png": "[encoded data removed]",
      "text/plain": [
       "<Figure size 432x288 with 1 Axes>"
      ]
     },
     "metadata": {
      "needs_background": "light"
     },
     "output_type": "display_data"
    },
    {
     "name": "stdout",
     "output_type": "stream",
     "text": [
      "Adjusted Rand Index: 0.00808601745673085\n",
      "The silhoutte score: -0.021451493022792995\n"
     ]
    },
    {
     "data": {
      "image/png": "[encoded data removed]",
      "text/plain": [
       "<Figure size 432x288 with 1 Axes>"
      ]
     },
     "metadata": {
      "needs_background": "light"
     },
     "output_type": "display_data"
    },
    {
     "name": "stdout",
     "output_type": "stream",
     "text": [
      "Adjusted Rand Index: 0.00810092355730975\n",
      "The silhoutte score: -0.02123729792317286\n"
     ]
    },
    {
     "data": {
      "image/png": "[encoded data removed]",
      "text/plain": [
       "<Figure size 432x288 with 1 Axes>"
      ]
     },
     "metadata": {
      "needs_background": "light"
     },
     "output_type": "display_data"
    }
   ],
   "source": [
    "for k in range(2, 5):\n",
    "    k_means = KMeans(n_clusters=k, random_state=66)\n",
    "    k_means.fit(X_std)\n",
    "    y_pred = k_means.predict(X_std)\n",
    "    print(\"Adjusted Rand Index: {}\".format(metrics.adjusted_rand_score(y, y_pred)))\n",
    "    print(\"The silhoutte score: {}\".format(metrics.silhouette_score(X, y_pred, metric='euclidean')))\n",
    "    \n",
    "    plt.scatter(X_std[:,0], X_std[:,1], c=y_pred)\n",
    "    plt.show()"
   ]
  },
  {
   "cell_type": "markdown",
   "metadata": {},
   "source": [
    "# Heriarchical"
   ]
  },
  {
   "cell_type": "code",
   "execution_count": 29,
   "metadata": {
    "scrolled": true
   },
   "outputs": [
    {
     "data": {
      "text/html": [
       "<div>\n",
       "<style scoped>\n",
       "    .dataframe tbody tr th:only-of-type {\n",
       "        vertical-align: middle;\n",
       "    }\n",
       "\n",
       "    .dataframe tbody tr th {\n",
       "        vertical-align: top;\n",
       "    }\n",
       "\n",
       "    .dataframe thead th {\n",
       "        text-align: right;\n",
       "    }\n",
       "</style>\n",
       "<table border=\"1\" class=\"dataframe\">\n",
       "  <thead>\n",
       "    <tr style=\"text-align: right;\">\n",
       "      <th></th>\n",
       "      <th>Target Country</th>\n",
       "      <th>Target City</th>\n",
       "      <th>Target Type</th>\n",
       "      <th>Target Priority</th>\n",
       "      <th>High Explosives</th>\n",
       "      <th>year</th>\n",
       "    </tr>\n",
       "  </thead>\n",
       "  <tbody>\n",
       "    <tr>\n",
       "      <th>96448</th>\n",
       "      <td>29</td>\n",
       "      <td>2011</td>\n",
       "      <td>41</td>\n",
       "      <td>1</td>\n",
       "      <td>26.0</td>\n",
       "      <td>194411</td>\n",
       "    </tr>\n",
       "    <tr>\n",
       "      <th>156706</th>\n",
       "      <td>2</td>\n",
       "      <td>1239</td>\n",
       "      <td>41</td>\n",
       "      <td>1</td>\n",
       "      <td>280.0</td>\n",
       "      <td>194501</td>\n",
       "    </tr>\n",
       "    <tr>\n",
       "      <th>16509</th>\n",
       "      <td>1</td>\n",
       "      <td>1644</td>\n",
       "      <td>41</td>\n",
       "      <td>1</td>\n",
       "      <td>84.0</td>\n",
       "      <td>194401</td>\n",
       "    </tr>\n",
       "    <tr>\n",
       "      <th>22995</th>\n",
       "      <td>5</td>\n",
       "      <td>3579</td>\n",
       "      <td>129</td>\n",
       "      <td>1</td>\n",
       "      <td>20.0</td>\n",
       "      <td>194408</td>\n",
       "    </tr>\n",
       "    <tr>\n",
       "      <th>30580</th>\n",
       "      <td>27</td>\n",
       "      <td>3502</td>\n",
       "      <td>1434</td>\n",
       "      <td>1</td>\n",
       "      <td>16.0</td>\n",
       "      <td>194408</td>\n",
       "    </tr>\n",
       "    <tr>\n",
       "      <th>...</th>\n",
       "      <td>...</td>\n",
       "      <td>...</td>\n",
       "      <td>...</td>\n",
       "      <td>...</td>\n",
       "      <td>...</td>\n",
       "      <td>...</td>\n",
       "    </tr>\n",
       "    <tr>\n",
       "      <th>12509</th>\n",
       "      <td>5</td>\n",
       "      <td>1623</td>\n",
       "      <td>41</td>\n",
       "      <td>1</td>\n",
       "      <td>28.0</td>\n",
       "      <td>194408</td>\n",
       "    </tr>\n",
       "    <tr>\n",
       "      <th>94791</th>\n",
       "      <td>27</td>\n",
       "      <td>1328</td>\n",
       "      <td>905</td>\n",
       "      <td>1</td>\n",
       "      <td>20.0</td>\n",
       "      <td>194411</td>\n",
       "    </tr>\n",
       "    <tr>\n",
       "      <th>133266</th>\n",
       "      <td>29</td>\n",
       "      <td>2552</td>\n",
       "      <td>359</td>\n",
       "      <td>8</td>\n",
       "      <td>32.0</td>\n",
       "      <td>194506</td>\n",
       "    </tr>\n",
       "    <tr>\n",
       "      <th>79477</th>\n",
       "      <td>29</td>\n",
       "      <td>181</td>\n",
       "      <td>1174</td>\n",
       "      <td>1</td>\n",
       "      <td>6.0</td>\n",
       "      <td>194410</td>\n",
       "    </tr>\n",
       "    <tr>\n",
       "      <th>82865</th>\n",
       "      <td>5</td>\n",
       "      <td>1278</td>\n",
       "      <td>41</td>\n",
       "      <td>1</td>\n",
       "      <td>8.0</td>\n",
       "      <td>194410</td>\n",
       "    </tr>\n",
       "  </tbody>\n",
       "</table>\n",
       "<p>500 rows × 6 columns</p>\n",
       "</div>"
      ],
      "text/plain": [
       "        Target Country  Target City  Target Type  Target Priority  \\\n",
       "96448               29         2011           41                1   \n",
       "156706               2         1239           41                1   \n",
       "16509                1         1644           41                1   \n",
       "22995                5         3579          129                1   \n",
       "30580               27         3502         1434                1   \n",
       "...                ...          ...          ...              ...   \n",
       "12509                5         1623           41                1   \n",
       "94791               27         1328          905                1   \n",
       "133266              29         2552          359                8   \n",
       "79477               29          181         1174                1   \n",
       "82865                5         1278           41                1   \n",
       "\n",
       "        High Explosives    year  \n",
       "96448              26.0  194411  \n",
       "156706            280.0  194501  \n",
       "16509              84.0  194401  \n",
       "22995              20.0  194408  \n",
       "30580              16.0  194408  \n",
       "...                 ...     ...  \n",
       "12509              28.0  194408  \n",
       "94791              20.0  194411  \n",
       "133266             32.0  194506  \n",
       "79477               6.0  194410  \n",
       "82865               8.0  194410  \n",
       "\n",
       "[500 rows x 6 columns]"
      ]
     },
     "execution_count": 29,
     "metadata": {},
     "output_type": "execute_result"
    }
   ],
   "source": [
    "sample = model_df.sample(500, axis=0, random_state=66)\n",
    "sample"
   ]
  },
  {
   "cell_type": "code",
   "execution_count": 30,
   "metadata": {},
   "outputs": [],
   "source": [
    "X = sample[features]\n",
    "y = sample['year']"
   ]
  },
  {
   "cell_type": "code",
   "execution_count": 31,
   "metadata": {},
   "outputs": [],
   "source": [
    "scaler = StandardScaler()\n",
    "X_std = scaler.fit_transform(X)"
   ]
  },
  {
   "cell_type": "code",
   "execution_count": 32,
   "metadata": {},
   "outputs": [
    {
     "data": {
      "image/png": "[encoded data removed]",
      "text/plain": [
       "<Figure size 1440x720 with 1 Axes>"
      ]
     },
     "metadata": {
      "needs_background": "light"
     },
     "output_type": "display_data"
    }
   ],
   "source": [
    "plt.figure(figsize=(20,10))\n",
    "dendrogram(linkage(X_std, method='ward'))\n",
    "plt.show()"
   ]
  },
  {
   "cell_type": "markdown",
   "metadata": {},
   "source": [
    "# DBSCAN"
   ]
  },
  {
   "cell_type": "code",
   "execution_count": 37,
   "metadata": {
    "scrolled": false
   },
   "outputs": [
    {
     "data": {
      "text/html": [
       "<div>\n",
       "<style scoped>\n",
       "    .dataframe tbody tr th:only-of-type {\n",
       "        vertical-align: middle;\n",
       "    }\n",
       "\n",
       "    .dataframe tbody tr th {\n",
       "        vertical-align: top;\n",
       "    }\n",
       "\n",
       "    .dataframe thead th {\n",
       "        text-align: right;\n",
       "    }\n",
       "</style>\n",
       "<table border=\"1\" class=\"dataframe\">\n",
       "  <thead>\n",
       "    <tr style=\"text-align: right;\">\n",
       "      <th></th>\n",
       "      <th>Target Country</th>\n",
       "      <th>Target City</th>\n",
       "      <th>Target Type</th>\n",
       "      <th>Target Priority</th>\n",
       "      <th>High Explosives</th>\n",
       "      <th>year</th>\n",
       "    </tr>\n",
       "  </thead>\n",
       "  <tbody>\n",
       "    <tr>\n",
       "      <th>96448</th>\n",
       "      <td>29</td>\n",
       "      <td>2011</td>\n",
       "      <td>41</td>\n",
       "      <td>1</td>\n",
       "      <td>26.0</td>\n",
       "      <td>194411</td>\n",
       "    </tr>\n",
       "    <tr>\n",
       "      <th>156706</th>\n",
       "      <td>2</td>\n",
       "      <td>1239</td>\n",
       "      <td>41</td>\n",
       "      <td>1</td>\n",
       "      <td>280.0</td>\n",
       "      <td>194501</td>\n",
       "    </tr>\n",
       "    <tr>\n",
       "      <th>16509</th>\n",
       "      <td>1</td>\n",
       "      <td>1644</td>\n",
       "      <td>41</td>\n",
       "      <td>1</td>\n",
       "      <td>84.0</td>\n",
       "      <td>194401</td>\n",
       "    </tr>\n",
       "    <tr>\n",
       "      <th>22995</th>\n",
       "      <td>5</td>\n",
       "      <td>3579</td>\n",
       "      <td>129</td>\n",
       "      <td>1</td>\n",
       "      <td>20.0</td>\n",
       "      <td>194408</td>\n",
       "    </tr>\n",
       "    <tr>\n",
       "      <th>30580</th>\n",
       "      <td>27</td>\n",
       "      <td>3502</td>\n",
       "      <td>1434</td>\n",
       "      <td>1</td>\n",
       "      <td>16.0</td>\n",
       "      <td>194408</td>\n",
       "    </tr>\n",
       "    <tr>\n",
       "      <th>...</th>\n",
       "      <td>...</td>\n",
       "      <td>...</td>\n",
       "      <td>...</td>\n",
       "      <td>...</td>\n",
       "      <td>...</td>\n",
       "      <td>...</td>\n",
       "    </tr>\n",
       "    <tr>\n",
       "      <th>140327</th>\n",
       "      <td>2</td>\n",
       "      <td>395</td>\n",
       "      <td>467</td>\n",
       "      <td>8</td>\n",
       "      <td>4.0</td>\n",
       "      <td>194507</td>\n",
       "    </tr>\n",
       "    <tr>\n",
       "      <th>59406</th>\n",
       "      <td>2</td>\n",
       "      <td>2484</td>\n",
       "      <td>41</td>\n",
       "      <td>2</td>\n",
       "      <td>8.0</td>\n",
       "      <td>194504</td>\n",
       "    </tr>\n",
       "    <tr>\n",
       "      <th>145287</th>\n",
       "      <td>15</td>\n",
       "      <td>3064</td>\n",
       "      <td>1443</td>\n",
       "      <td>3</td>\n",
       "      <td>6.0</td>\n",
       "      <td>194507</td>\n",
       "    </tr>\n",
       "    <tr>\n",
       "      <th>93792</th>\n",
       "      <td>29</td>\n",
       "      <td>2179</td>\n",
       "      <td>1434</td>\n",
       "      <td>1</td>\n",
       "      <td>20.0</td>\n",
       "      <td>194504</td>\n",
       "    </tr>\n",
       "    <tr>\n",
       "      <th>136572</th>\n",
       "      <td>30</td>\n",
       "      <td>1327</td>\n",
       "      <td>48</td>\n",
       "      <td>1</td>\n",
       "      <td>4.0</td>\n",
       "      <td>194406</td>\n",
       "    </tr>\n",
       "  </tbody>\n",
       "</table>\n",
       "<p>10000 rows × 6 columns</p>\n",
       "</div>"
      ],
      "text/plain": [
       "        Target Country  Target City  Target Type  Target Priority  \\\n",
       "96448               29         2011           41                1   \n",
       "156706               2         1239           41                1   \n",
       "16509                1         1644           41                1   \n",
       "22995                5         3579          129                1   \n",
       "30580               27         3502         1434                1   \n",
       "...                ...          ...          ...              ...   \n",
       "140327               2          395          467                8   \n",
       "59406                2         2484           41                2   \n",
       "145287              15         3064         1443                3   \n",
       "93792               29         2179         1434                1   \n",
       "136572              30         1327           48                1   \n",
       "\n",
       "        High Explosives    year  \n",
       "96448              26.0  194411  \n",
       "156706            280.0  194501  \n",
       "16509              84.0  194401  \n",
       "22995              20.0  194408  \n",
       "30580              16.0  194408  \n",
       "...                 ...     ...  \n",
       "140327              4.0  194507  \n",
       "59406               8.0  194504  \n",
       "145287              6.0  194507  \n",
       "93792              20.0  194504  \n",
       "136572              4.0  194406  \n",
       "\n",
       "[10000 rows x 6 columns]"
      ]
     },
     "execution_count": 37,
     "metadata": {},
     "output_type": "execute_result"
    }
   ],
   "source": [
    "sample = model_df.sample(10000, axis=0, random_state=66)"
   ]
  },
  {
   "cell_type": "code",
   "execution_count": 38,
   "metadata": {},
   "outputs": [],
   "source": [
    "X = sample[features]\n",
    "y = sample['year']"
   ]
  },
  {
   "cell_type": "code",
   "execution_count": 39,
   "metadata": {},
   "outputs": [],
   "source": [
    "scaler = StandardScaler()\n",
    "X_std = scaler.fit_transform(X)"
   ]
  },
  {
   "cell_type": "code",
   "execution_count": 40,
   "metadata": {},
   "outputs": [
    {
     "name": "stdout",
     "output_type": "stream",
     "text": [
      "-0.6096134581939153\n",
      "0.003546873011812884\n",
      "-0.4369871449620984\n",
      "0.003547384068727451\n",
      "-0.1421433564749225\n",
      "0.003548093548913898\n"
     ]
    }
   ],
   "source": [
    "for i in range(1, 4):\n",
    "    dbscan_cluster = DBSCAN(eps=1, min_samples=i, metric='euclidean')\n",
    "    clusters = dbscan_cluster.fit_predict(X_std)\n",
    "    print(metrics.silhouette_score(X, clusters))\n",
    "    print(metrics.adjusted_rand_score(y, clusters))"
   ]
  },
  {
   "cell_type": "markdown",
   "metadata": {},
   "source": [
    "# Gaussian (GMM)"
   ]
  },
  {
   "cell_type": "code",
   "execution_count": 41,
   "metadata": {
    "scrolled": true
   },
   "outputs": [
    {
     "data": {
      "text/html": [
       "<div>\n",
       "<style scoped>\n",
       "    .dataframe tbody tr th:only-of-type {\n",
       "        vertical-align: middle;\n",
       "    }\n",
       "\n",
       "    .dataframe tbody tr th {\n",
       "        vertical-align: top;\n",
       "    }\n",
       "\n",
       "    .dataframe thead th {\n",
       "        text-align: right;\n",
       "    }\n",
       "</style>\n",
       "<table border=\"1\" class=\"dataframe\">\n",
       "  <thead>\n",
       "    <tr style=\"text-align: right;\">\n",
       "      <th></th>\n",
       "      <th>Target Country</th>\n",
       "      <th>Target City</th>\n",
       "      <th>Target Type</th>\n",
       "      <th>Target Priority</th>\n",
       "      <th>High Explosives</th>\n",
       "      <th>year</th>\n",
       "    </tr>\n",
       "  </thead>\n",
       "  <tbody>\n",
       "    <tr>\n",
       "      <th>96448</th>\n",
       "      <td>29</td>\n",
       "      <td>2011</td>\n",
       "      <td>41</td>\n",
       "      <td>1</td>\n",
       "      <td>26.0</td>\n",
       "      <td>194411</td>\n",
       "    </tr>\n",
       "    <tr>\n",
       "      <th>156706</th>\n",
       "      <td>2</td>\n",
       "      <td>1239</td>\n",
       "      <td>41</td>\n",
       "      <td>1</td>\n",
       "      <td>280.0</td>\n",
       "      <td>194501</td>\n",
       "    </tr>\n",
       "    <tr>\n",
       "      <th>16509</th>\n",
       "      <td>1</td>\n",
       "      <td>1644</td>\n",
       "      <td>41</td>\n",
       "      <td>1</td>\n",
       "      <td>84.0</td>\n",
       "      <td>194401</td>\n",
       "    </tr>\n",
       "    <tr>\n",
       "      <th>22995</th>\n",
       "      <td>5</td>\n",
       "      <td>3579</td>\n",
       "      <td>129</td>\n",
       "      <td>1</td>\n",
       "      <td>20.0</td>\n",
       "      <td>194408</td>\n",
       "    </tr>\n",
       "    <tr>\n",
       "      <th>30580</th>\n",
       "      <td>27</td>\n",
       "      <td>3502</td>\n",
       "      <td>1434</td>\n",
       "      <td>1</td>\n",
       "      <td>16.0</td>\n",
       "      <td>194408</td>\n",
       "    </tr>\n",
       "    <tr>\n",
       "      <th>...</th>\n",
       "      <td>...</td>\n",
       "      <td>...</td>\n",
       "      <td>...</td>\n",
       "      <td>...</td>\n",
       "      <td>...</td>\n",
       "      <td>...</td>\n",
       "    </tr>\n",
       "    <tr>\n",
       "      <th>140327</th>\n",
       "      <td>2</td>\n",
       "      <td>395</td>\n",
       "      <td>467</td>\n",
       "      <td>8</td>\n",
       "      <td>4.0</td>\n",
       "      <td>194507</td>\n",
       "    </tr>\n",
       "    <tr>\n",
       "      <th>59406</th>\n",
       "      <td>2</td>\n",
       "      <td>2484</td>\n",
       "      <td>41</td>\n",
       "      <td>2</td>\n",
       "      <td>8.0</td>\n",
       "      <td>194504</td>\n",
       "    </tr>\n",
       "    <tr>\n",
       "      <th>145287</th>\n",
       "      <td>15</td>\n",
       "      <td>3064</td>\n",
       "      <td>1443</td>\n",
       "      <td>3</td>\n",
       "      <td>6.0</td>\n",
       "      <td>194507</td>\n",
       "    </tr>\n",
       "    <tr>\n",
       "      <th>93792</th>\n",
       "      <td>29</td>\n",
       "      <td>2179</td>\n",
       "      <td>1434</td>\n",
       "      <td>1</td>\n",
       "      <td>20.0</td>\n",
       "      <td>194504</td>\n",
       "    </tr>\n",
       "    <tr>\n",
       "      <th>136572</th>\n",
       "      <td>30</td>\n",
       "      <td>1327</td>\n",
       "      <td>48</td>\n",
       "      <td>1</td>\n",
       "      <td>4.0</td>\n",
       "      <td>194406</td>\n",
       "    </tr>\n",
       "  </tbody>\n",
       "</table>\n",
       "<p>10000 rows × 6 columns</p>\n",
       "</div>"
      ],
      "text/plain": [
       "        Target Country  Target City  Target Type  Target Priority  \\\n",
       "96448               29         2011           41                1   \n",
       "156706               2         1239           41                1   \n",
       "16509                1         1644           41                1   \n",
       "22995                5         3579          129                1   \n",
       "30580               27         3502         1434                1   \n",
       "...                ...          ...          ...              ...   \n",
       "140327               2          395          467                8   \n",
       "59406                2         2484           41                2   \n",
       "145287              15         3064         1443                3   \n",
       "93792               29         2179         1434                1   \n",
       "136572              30         1327           48                1   \n",
       "\n",
       "        High Explosives    year  \n",
       "96448              26.0  194411  \n",
       "156706            280.0  194501  \n",
       "16509              84.0  194401  \n",
       "22995              20.0  194408  \n",
       "30580              16.0  194408  \n",
       "...                 ...     ...  \n",
       "140327              4.0  194507  \n",
       "59406               8.0  194504  \n",
       "145287              6.0  194507  \n",
       "93792              20.0  194504  \n",
       "136572              4.0  194406  \n",
       "\n",
       "[10000 rows x 6 columns]"
      ]
     },
     "execution_count": 41,
     "metadata": {},
     "output_type": "execute_result"
    }
   ],
   "source": [
    "sample = model_df.sample(10000, axis=0, random_state=66)\n",
    "sample"
   ]
  },
  {
   "cell_type": "code",
   "execution_count": 42,
   "metadata": {},
   "outputs": [],
   "source": [
    "X = sample[features]\n",
    "y = sample['year']"
   ]
  },
  {
   "cell_type": "code",
   "execution_count": 43,
   "metadata": {},
   "outputs": [],
   "source": [
    "scaler = StandardScaler()\n",
    "X_std = scaler.fit_transform(X)"
   ]
  },
  {
   "cell_type": "code",
   "execution_count": 44,
   "metadata": {},
   "outputs": [],
   "source": [
    "# Defining the agglomerative clustering\n",
    "gmm_cluster = GaussianMixture(n_components=2, random_state=66)\n",
    "\n",
    "# Fit model\n",
    "clusters = gmm_cluster.fit_predict(X_std)"
   ]
  },
  {
   "cell_type": "code",
   "execution_count": 45,
   "metadata": {},
   "outputs": [
    {
     "name": "stdout",
     "output_type": "stream",
     "text": [
      "The silhoutte score of the GMM solution: 0.23366190011435983\n",
      "Adjusted Rand Index of the GMM solution: 0.0063193764522673675\n"
     ]
    }
   ],
   "source": [
    "print(\"The silhoutte score of the GMM solution: {}\"\n",
    "      .format(metrics.silhouette_score(X_std, clusters, metric='euclidean')))\n",
    "print(\"Adjusted Rand Index of the GMM solution: {}\"\n",
    "      .format(metrics.adjusted_rand_score(y, clusters)))"
   ]
  },
  {
   "cell_type": "code",
   "execution_count": 46,
   "metadata": {},
   "outputs": [],
   "source": [
    "types = ['full', 'tied', 'diag', 'spherical']\n",
    "sils = []\n",
    "aris = []"
   ]
  },
  {
   "cell_type": "code",
   "execution_count": 47,
   "metadata": {},
   "outputs": [],
   "source": [
    "for typ in types:\n",
    "    gmm_cluster = GaussianMixture(n_components=2, covariance_type=typ, random_state=66)\n",
    "\n",
    "    # Fit model\n",
    "    clusters = gmm_cluster.fit_predict(X_std)\n",
    "    aris.append([metrics.adjusted_rand_score(y, clusters), typ])\n",
    "    sils.append([metrics.silhouette_score(X_std, clusters, metric='euclidean'), typ])"
   ]
  },
  {
   "cell_type": "code",
   "execution_count": 48,
   "metadata": {},
   "outputs": [],
   "source": [
    "sils.sort(reverse=True)\n",
    "aris.sort(reverse=True)"
   ]
  },
  {
   "cell_type": "code",
   "execution_count": 49,
   "metadata": {},
   "outputs": [
    {
     "name": "stdout",
     "output_type": "stream",
     "text": [
      "Best silhouette score: [0.2731873864991124, 'tied']\n",
      "Best ARI score: [0.006363889195806141, 'diag']\n"
     ]
    }
   ],
   "source": [
    "print('Best silhouette score: ' + str(sils[0]))\n",
    "print('Best ARI score: ' + str(aris[0]))"
   ]
  },
  {
   "cell_type": "markdown",
   "metadata": {},
   "source": [
    "# PCA"
   ]
  },
  {
   "cell_type": "code",
   "execution_count": null,
   "metadata": {
    "scrolled": false
   },
   "outputs": [],
   "source": [
    "sample = model_df.sample(5000, random_state=66)\n",
    "sample"
   ]
  },
  {
   "cell_type": "code",
   "execution_count": null,
   "metadata": {},
   "outputs": [],
   "source": [
    "X = sample[features]\n",
    "\n",
    "y = (sample[\"year\"].astype(\"category\").cat.codes / 4).astype(int)\n",
    "y = y.tolist()"
   ]
  },
  {
   "cell_type": "code",
   "execution_count": null,
   "metadata": {},
   "outputs": [],
   "source": [
    "pca = PCA(n_components=2)\n",
    "\n",
    "pca_X = pca.fit_transform(X_std)"
   ]
  },
  {
   "cell_type": "code",
   "execution_count": null,
   "metadata": {},
   "outputs": [],
   "source": [
    "plt.figure(figsize=(10,8))\n",
    "colours = [\"r\",\"b\",\"g\",\"c\",\"m\",\"y\",\"k\",\"r\",\"burlywood\",\"chartreuse\"]\n",
    "for i in range(len(pca_X)):\n",
    "    plt.text(pca_X[i, 0], pca_X[i, 1], str(y[i]),\n",
    "             color=colours[y[i]],\n",
    "             fontdict={'weight': 'bold', 'size': 40}\n",
    "        )\n",
    "\n",
    "plt.xticks([])\n",
    "plt.yticks([])\n",
    "plt.axis('off')\n",
    "plt.show()"
   ]
  },
  {
   "cell_type": "markdown",
   "metadata": {},
   "source": [
    "# t-SNE"
   ]
  },
  {
   "cell_type": "code",
   "execution_count": null,
   "metadata": {
    "scrolled": false
   },
   "outputs": [],
   "source": [
    "sample = model_df.sample(2000, random_state=66)\n",
    "sample"
   ]
  },
  {
   "cell_type": "code",
   "execution_count": null,
   "metadata": {},
   "outputs": [],
   "source": [
    "X = sample[features]\n",
    "\n",
    "y = (sample[\"year\"].astype(\"category\").cat.codes / 4).astype(int)\n",
    "y = y.tolist()"
   ]
  },
  {
   "cell_type": "code",
   "execution_count": null,
   "metadata": {},
   "outputs": [],
   "source": [
    "for perp in range(100, 101):\n",
    "    tsne = TSNE(n_components=2, verbose=1, perplexity=perp, n_iter=300)\n",
    "    tsne_components = tsne.fit_transform(X)\n",
    "    \n",
    "    plt.figure(figsize=(10,5))\n",
    "    colours = [\"r\",\"b\",\"g\",\"c\",\"m\",\"y\",\"k\",\"r\",\"burlywood\",\"chartreuse\"]\n",
    "    for i in range(tsne_components.shape[0]):\n",
    "        plt.text(tsne_components[i, 0], tsne_components[i, 1], str(y[i]),\n",
    "                 color=colours[int(y[i])],\n",
    "                 fontdict={'weight': 'bold', 'size': 50}\n",
    "            )\n",
    "\n",
    "    plt.xticks([])\n",
    "    plt.yticks([])\n",
    "    plt.axis('off')\n",
    "    plt.title('perplexity = ' + str(perp))\n",
    "    plt.show()"
   ]
  },
  {
   "cell_type": "markdown",
   "metadata": {},
   "source": [
    "# UMAP"
   ]
  },
  {
   "cell_type": "code",
   "execution_count": null,
   "metadata": {},
   "outputs": [],
   "source": [
    "sample = model_df.sample(5000, random_state=66)\n",
    "sample"
   ]
  },
  {
   "cell_type": "code",
   "execution_count": null,
   "metadata": {},
   "outputs": [],
   "source": [
    "X = sample[features]\n",
    "\n",
    "y = (sample[\"year\"].astype(\"category\").cat.codes / 4).astype(int)\n",
    "y = y.tolist()"
   ]
  },
  {
   "cell_type": "code",
   "execution_count": null,
   "metadata": {},
   "outputs": [],
   "source": [
    "umap_results = umap.UMAP(n_neighbors=20,\n",
    "                          min_dist=0.3,\n",
    "                          metric='correlation').fit_transform(X)"
   ]
  },
  {
   "cell_type": "code",
   "execution_count": null,
   "metadata": {},
   "outputs": [],
   "source": [
    "plt.figure(figsize=(10, 5))\n",
    "colours = [\"r\",\"b\",\"g\",\"c\",\"m\",\"y\",\"k\",\"r\",\"burlywood\",\"chartreuse\"]\n",
    "for i in range(umap_results.shape[0]):\n",
    "    plt.text(umap_results[i, 0], umap_results[i, 1], str(y[i]),\n",
    "             color=colours[int(y[i])],\n",
    "             fontdict={'weight': 'bold', 'size': 50}\n",
    "        )\n",
    "\n",
    "plt.xticks([])\n",
    "plt.yticks([])\n",
    "plt.axis('off')\n",
    "plt.show()"
   ]
  },
  {
   "cell_type": "code",
   "execution_count": null,
   "metadata": {},
   "outputs": [],
   "source": []
  }
 ],
 "metadata": {
  "kernelspec": {
   "display_name": "Python 3",
   "language": "python",
   "name": "python3"
  },
  "language_info": {
   "codemirror_mode": {
    "name": "ipython",
    "version": 3
   },
   "file_extension": ".py",
   "mimetype": "text/x-python",
   "name": "python",
   "nbconvert_exporter": "python",
   "pygments_lexer": "ipython3",
   "version": "3.8.3"
  }
 },
 "nbformat": 4,
 "nbformat_minor": 4
}
