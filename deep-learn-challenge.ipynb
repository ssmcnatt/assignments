{
 "cells": [
  {
   "cell_type": "markdown",
   "metadata": {},
   "source": [
    "## In this module, you learned the basics of deep learning and the fundamental architecture of artificial neural networks. During the examples in the checkpoints, you used a MNIST dataset. In this challenge, you'll work with another dataset: fashion MNIST. Using this dataset, do the following:"
   ]
  },
  {
   "cell_type": "code",
   "execution_count": 1,
   "metadata": {},
   "outputs": [],
   "source": [
    "import warnings\n",
    "warnings.filterwarnings(\"ignore\")\n",
    "\n",
    "from tensorflow.keras.datasets import mnist\n",
    "from tensorflow.keras.models import Sequential \n",
    "from tensorflow.keras.layers import Dense\n",
    "from tensorflow.keras.utils import to_categorical\n",
    "\n",
    "from tensorflow.keras.optimizers import SGD"
   ]
  },
  {
   "cell_type": "markdown",
   "metadata": {},
   "source": [
    "## 1) Preprocess your data so that you can feed it into ANN models."
   ]
  },
  {
   "cell_type": "code",
   "execution_count": 2,
   "metadata": {},
   "outputs": [],
   "source": [
    "(X_train, y_train), (X_test, y_test) = mnist.load_data()"
   ]
  },
  {
   "cell_type": "code",
   "execution_count": 3,
   "metadata": {},
   "outputs": [],
   "source": [
    "input_dim = 784  # 28*28\n",
    "output_dim = nb_classes = 10\n",
    "batch_size = 128\n",
    "nb_epoch = 20"
   ]
  },
  {
   "cell_type": "markdown",
   "metadata": {},
   "source": [
    "## 2) Split your data into training and test sets."
   ]
  },
  {
   "cell_type": "code",
   "execution_count": 4,
   "metadata": {},
   "outputs": [],
   "source": [
    "X_train = X_train.reshape(60000, input_dim)\n",
    "X_test = X_test.reshape(10000, input_dim)\n",
    "X_train = X_train.astype('float32')\n",
    "X_test = X_test.astype('float32')\n",
    "X_train /= 255\n",
    "X_test /= 255"
   ]
  },
  {
   "cell_type": "code",
   "execution_count": 5,
   "metadata": {},
   "outputs": [],
   "source": [
    "Y_train = to_categorical(y_train, nb_classes)\n",
    "Y_test = to_categorical(y_test, nb_classes)"
   ]
  },
  {
   "cell_type": "code",
   "execution_count": 6,
   "metadata": {},
   "outputs": [
    {
     "data": {
      "text/plain": [
       "(784,)"
      ]
     },
     "execution_count": 6,
     "metadata": {},
     "output_type": "execute_result"
    }
   ],
   "source": [
    "X_train[0].shape"
   ]
  },
  {
   "cell_type": "markdown",
   "metadata": {},
   "source": [
    "## 3) Try different ANN models and train them on your training set. You can play with the following:\n",
    "\n",
    "* Number of layers\n",
    "* Activation functions of the layers\n",
    "* Number of neurons in the layers\n",
    "* Different batch sizes during training"
   ]
  },
  {
   "cell_type": "markdown",
   "metadata": {},
   "source": [
    "## a) Change number of layers"
   ]
  },
  {
   "cell_type": "code",
   "execution_count": 7,
   "metadata": {},
   "outputs": [
    {
     "name": "stdout",
     "output_type": "stream",
     "text": [
      "Model: \"sequential\"\n",
      "_________________________________________________________________\n",
      "Layer (type)                 Output Shape              Param #   \n",
      "=================================================================\n",
      "dense (Dense)                (None, 128)               100480    \n",
      "_________________________________________________________________\n",
      "dense_1 (Dense)              (None, 64)                8256      \n",
      "_________________________________________________________________\n",
      "dense_2 (Dense)              (None, 10)                650       \n",
      "=================================================================\n",
      "Total params: 109,386\n",
      "Trainable params: 109,386\n",
      "Non-trainable params: 0\n",
      "_________________________________________________________________\n"
     ]
    }
   ],
   "source": [
    "# Create the model with 3 layers\n",
    "model_a1 = Sequential()\n",
    "\n",
    "model_a1.add(Dense(128, input_shape=X_train[0].shape, activation=\"relu\"))\n",
    "model_a1.add(Dense(64, activation=\"relu\"))\n",
    "model_a1.add(Dense(output_dim, activation=\"softmax\"))\n",
    "model_a1.summary()"
   ]
  },
  {
   "cell_type": "code",
   "execution_count": 8,
   "metadata": {},
   "outputs": [],
   "source": [
    "# Compile the model\n",
    "model_a1.compile(optimizer='sgd', loss='categorical_crossentropy',\n",
    "              metrics=['accuracy'])"
   ]
  },
  {
   "cell_type": "code",
   "execution_count": 9,
   "metadata": {},
   "outputs": [
    {
     "name": "stdout",
     "output_type": "stream",
     "text": [
      "Train on 60000 samples\n",
      "Epoch 1/20\n",
      "WARNING:tensorflow:Entity <function Function._initialize_uninitialized_variables.<locals>.initialize_variables at 0x00000227D682B948> could not be transformed and will be executed as-is. Please report this to the AutoGraph team. When filing the bug, set the verbosity to 10 (on Linux, `export AUTOGRAPH_VERBOSITY=10`) and attach the full output. Cause: module 'gast' has no attribute 'Num'\n",
      "WARNING: Entity <function Function._initialize_uninitialized_variables.<locals>.initialize_variables at 0x00000227D682B948> could not be transformed and will be executed as-is. Please report this to the AutoGraph team. When filing the bug, set the verbosity to 10 (on Linux, `export AUTOGRAPH_VERBOSITY=10`) and attach the full output. Cause: module 'gast' has no attribute 'Num'\n",
      "60000/60000 [==============================] - 1s 22us/sample - loss: 1.2400 - accuracy: 0.6811\n",
      "Epoch 2/20\n",
      "60000/60000 [==============================] - 1s 16us/sample - loss: 0.5000 - accuracy: 0.8700\n",
      "Epoch 3/20\n",
      "60000/60000 [==============================] - 1s 16us/sample - loss: 0.3924 - accuracy: 0.8910\n",
      "Epoch 4/20\n",
      "60000/60000 [==============================] - 1s 16us/sample - loss: 0.3478 - accuracy: 0.9017\n",
      "Epoch 5/20\n",
      "60000/60000 [==============================] - 1s 16us/sample - loss: 0.3205 - accuracy: 0.9091\n",
      "Epoch 6/20\n",
      "60000/60000 [==============================] - 1s 16us/sample - loss: 0.3005 - accuracy: 0.9145\n",
      "Epoch 7/20\n",
      "60000/60000 [==============================] - 1s 16us/sample - loss: 0.2844 - accuracy: 0.9178\n",
      "Epoch 8/20\n",
      "60000/60000 [==============================] - 1s 15us/sample - loss: 0.2705 - accuracy: 0.9225\n",
      "Epoch 9/20\n",
      "60000/60000 [==============================] - 1s 16us/sample - loss: 0.2583 - accuracy: 0.9263\n",
      "Epoch 10/20\n",
      "60000/60000 [==============================] - 1s 16us/sample - loss: 0.2477 - accuracy: 0.9295\n",
      "Epoch 11/20\n",
      "60000/60000 [==============================] - 1s 15us/sample - loss: 0.2379 - accuracy: 0.9315\n",
      "Epoch 12/20\n",
      "60000/60000 [==============================] - 1s 15us/sample - loss: 0.2288 - accuracy: 0.9351\n",
      "Epoch 13/20\n",
      "60000/60000 [==============================] - 1s 15us/sample - loss: 0.2204 - accuracy: 0.9372\n",
      "Epoch 14/20\n",
      "60000/60000 [==============================] - 1s 15us/sample - loss: 0.2125 - accuracy: 0.9392\n",
      "Epoch 15/20\n",
      "60000/60000 [==============================] - 1s 15us/sample - loss: 0.2051 - accuracy: 0.9415\n",
      "Epoch 16/20\n",
      "60000/60000 [==============================] - 1s 15us/sample - loss: 0.1982 - accuracy: 0.9438\n",
      "Epoch 17/20\n",
      "60000/60000 [==============================] - 1s 15us/sample - loss: 0.1917 - accuracy: 0.9454\n",
      "Epoch 18/20\n",
      "60000/60000 [==============================] - 1s 15us/sample - loss: 0.1854 - accuracy: 0.9465\n",
      "Epoch 19/20\n",
      "60000/60000 [==============================] - 1s 16us/sample - loss: 0.1797 - accuracy: 0.9488\n",
      "Epoch 20/20\n",
      "60000/60000 [==============================] - 1s 15us/sample - loss: 0.1742 - accuracy: 0.9503\n"
     ]
    },
    {
     "data": {
      "text/plain": [
       "<tensorflow.python.keras.callbacks.History at 0x227d683ec88>"
      ]
     },
     "execution_count": 9,
     "metadata": {},
     "output_type": "execute_result"
    }
   ],
   "source": [
    "# Fit the model\n",
    "model_a1.fit(X_train, Y_train, batch_size=batch_size, epochs=nb_epoch, verbose=1)"
   ]
  },
  {
   "cell_type": "code",
   "execution_count": 10,
   "metadata": {},
   "outputs": [
    {
     "name": "stdout",
     "output_type": "stream",
     "text": [
      "Model: \"sequential_1\"\n",
      "_________________________________________________________________\n",
      "Layer (type)                 Output Shape              Param #   \n",
      "=================================================================\n",
      "dense_3 (Dense)              (None, 128)               100480    \n",
      "_________________________________________________________________\n",
      "dense_4 (Dense)              (None, 128)               16512     \n",
      "_________________________________________________________________\n",
      "dense_5 (Dense)              (None, 64)                8256      \n",
      "_________________________________________________________________\n",
      "dense_6 (Dense)              (None, 64)                4160      \n",
      "_________________________________________________________________\n",
      "dense_7 (Dense)              (None, 10)                650       \n",
      "=================================================================\n",
      "Total params: 130,058\n",
      "Trainable params: 130,058\n",
      "Non-trainable params: 0\n",
      "_________________________________________________________________\n"
     ]
    }
   ],
   "source": [
    "# Create the model with 5 layers\n",
    "model_a2 = Sequential()\n",
    "\n",
    "model_a2.add(Dense(128, input_shape=X_train[0].shape, activation=\"relu\"))\n",
    "model_a2.add(Dense(128, activation=\"relu\"))\n",
    "model_a2.add(Dense(64, activation=\"relu\"))\n",
    "model_a2.add(Dense(64, activation=\"relu\"))\n",
    "model_a2.add(Dense(output_dim, activation=\"softmax\"))\n",
    "model_a2.summary()"
   ]
  },
  {
   "cell_type": "code",
   "execution_count": 11,
   "metadata": {},
   "outputs": [],
   "source": [
    "# Compile the model\n",
    "model_a2.compile(optimizer='sgd', loss='categorical_crossentropy',\n",
    "              metrics=['accuracy'])"
   ]
  },
  {
   "cell_type": "code",
   "execution_count": 12,
   "metadata": {
    "scrolled": false
   },
   "outputs": [
    {
     "name": "stdout",
     "output_type": "stream",
     "text": [
      "Train on 60000 samples\n",
      "Epoch 1/20\n",
      "WARNING:tensorflow:Entity <function Function._initialize_uninitialized_variables.<locals>.initialize_variables at 0x00000227E2335438> could not be transformed and will be executed as-is. Please report this to the AutoGraph team. When filing the bug, set the verbosity to 10 (on Linux, `export AUTOGRAPH_VERBOSITY=10`) and attach the full output. Cause: module 'gast' has no attribute 'Num'\n",
      "WARNING: Entity <function Function._initialize_uninitialized_variables.<locals>.initialize_variables at 0x00000227E2335438> could not be transformed and will be executed as-is. Please report this to the AutoGraph team. When filing the bug, set the verbosity to 10 (on Linux, `export AUTOGRAPH_VERBOSITY=10`) and attach the full output. Cause: module 'gast' has no attribute 'Num'\n",
      "60000/60000 [==============================] - 1s 23us/sample - loss: 1.5247 - accuracy: 0.5950\n",
      "Epoch 2/20\n",
      "60000/60000 [==============================] - 1s 18us/sample - loss: 0.5233 - accuracy: 0.8533\n",
      "Epoch 3/20\n",
      "60000/60000 [==============================] - 1s 18us/sample - loss: 0.3742 - accuracy: 0.8932\n",
      "Epoch 4/20\n",
      "60000/60000 [==============================] - 1s 18us/sample - loss: 0.3160 - accuracy: 0.9082\n",
      "Epoch 5/20\n",
      "60000/60000 [==============================] - 1s 18us/sample - loss: 0.2797 - accuracy: 0.9188\n",
      "Epoch 6/20\n",
      "60000/60000 [==============================] - 1s 18us/sample - loss: 0.2528 - accuracy: 0.9258\n",
      "Epoch 7/20\n",
      "60000/60000 [==============================] - 1s 18us/sample - loss: 0.2301 - accuracy: 0.9326\n",
      "Epoch 8/20\n",
      "60000/60000 [==============================] - 1s 18us/sample - loss: 0.2113 - accuracy: 0.9385\n",
      "Epoch 9/20\n",
      "60000/60000 [==============================] - 1s 18us/sample - loss: 0.1954 - accuracy: 0.9429\n",
      "Epoch 10/20\n",
      "60000/60000 [==============================] - 1s 19us/sample - loss: 0.1818 - accuracy: 0.9472\n",
      "Epoch 11/20\n",
      "60000/60000 [==============================] - 1s 18us/sample - loss: 0.1700 - accuracy: 0.9503\n",
      "Epoch 12/20\n",
      "60000/60000 [==============================] - 1s 18us/sample - loss: 0.1599 - accuracy: 0.9533\n",
      "Epoch 13/20\n",
      "60000/60000 [==============================] - 1s 19us/sample - loss: 0.1503 - accuracy: 0.9564\n",
      "Epoch 14/20\n",
      "60000/60000 [==============================] - 1s 18us/sample - loss: 0.1425 - accuracy: 0.9587\n",
      "Epoch 15/20\n",
      "60000/60000 [==============================] - ETA: 0s - loss: 0.1350 - accuracy: 0.96 - 1s 18us/sample - loss: 0.1352 - accuracy: 0.9607\n",
      "Epoch 16/20\n",
      "60000/60000 [==============================] - 1s 18us/sample - loss: 0.1291 - accuracy: 0.9620\n",
      "Epoch 17/20\n",
      "60000/60000 [==============================] - 1s 18us/sample - loss: 0.1228 - accuracy: 0.9640\n",
      "Epoch 18/20\n",
      "60000/60000 [==============================] - 1s 17us/sample - loss: 0.1176 - accuracy: 0.9655\n",
      "Epoch 19/20\n",
      "60000/60000 [==============================] - 1s 18us/sample - loss: 0.1129 - accuracy: 0.9671\n",
      "Epoch 20/20\n",
      "60000/60000 [==============================] - 1s 17us/sample - loss: 0.1081 - accuracy: 0.9683\n"
     ]
    },
    {
     "data": {
      "text/plain": [
       "<tensorflow.python.keras.callbacks.History at 0x227e232f148>"
      ]
     },
     "execution_count": 12,
     "metadata": {},
     "output_type": "execute_result"
    }
   ],
   "source": [
    "# Fit the model\n",
    "model_a2.fit(X_train, Y_train, batch_size=batch_size, epochs=20, verbose=1)"
   ]
  },
  {
   "cell_type": "markdown",
   "metadata": {},
   "source": [
    "## b) Change the activation funtion of the layers"
   ]
  },
  {
   "cell_type": "code",
   "execution_count": 13,
   "metadata": {},
   "outputs": [
    {
     "name": "stdout",
     "output_type": "stream",
     "text": [
      "Model: \"sequential_2\"\n",
      "_________________________________________________________________\n",
      "Layer (type)                 Output Shape              Param #   \n",
      "=================================================================\n",
      "dense_8 (Dense)              (None, 128)               100480    \n",
      "_________________________________________________________________\n",
      "dense_9 (Dense)              (None, 64)                8256      \n",
      "_________________________________________________________________\n",
      "dense_10 (Dense)             (None, 10)                650       \n",
      "=================================================================\n",
      "Total params: 109,386\n",
      "Trainable params: 109,386\n",
      "Non-trainable params: 0\n",
      "_________________________________________________________________\n"
     ]
    }
   ],
   "source": [
    "# Create the model with the tanh activation function\n",
    "model_b1 = Sequential()\n",
    "\n",
    "model_b1.add(Dense(128, input_shape=X_train[0].shape, activation=\"tanh\"))\n",
    "model_b1.add(Dense(64, activation=\"tanh\"))\n",
    "model_b1.add(Dense(10, activation=\"softmax\"))\n",
    "model_b1.summary()"
   ]
  },
  {
   "cell_type": "code",
   "execution_count": 14,
   "metadata": {},
   "outputs": [],
   "source": [
    "# Compile the model\n",
    "model_b1.compile(optimizer='sgd', loss='categorical_crossentropy',\n",
    "              metrics=['accuracy'])"
   ]
  },
  {
   "cell_type": "code",
   "execution_count": 15,
   "metadata": {},
   "outputs": [
    {
     "name": "stdout",
     "output_type": "stream",
     "text": [
      "Train on 60000 samples\n",
      "Epoch 1/20\n",
      "WARNING:tensorflow:Entity <function Function._initialize_uninitialized_variables.<locals>.initialize_variables at 0x00000227E1EC4AF8> could not be transformed and will be executed as-is. Please report this to the AutoGraph team. When filing the bug, set the verbosity to 10 (on Linux, `export AUTOGRAPH_VERBOSITY=10`) and attach the full output. Cause: module 'gast' has no attribute 'Num'\n",
      "WARNING: Entity <function Function._initialize_uninitialized_variables.<locals>.initialize_variables at 0x00000227E1EC4AF8> could not be transformed and will be executed as-is. Please report this to the AutoGraph team. When filing the bug, set the verbosity to 10 (on Linux, `export AUTOGRAPH_VERBOSITY=10`) and attach the full output. Cause: module 'gast' has no attribute 'Num'\n",
      "60000/60000 [==============================] - 1s 21us/sample - loss: 1.0145 - accuracy: 0.7461\n",
      "Epoch 2/20\n",
      "60000/60000 [==============================] - 1s 16us/sample - loss: 0.5112 - accuracy: 0.8723\n",
      "Epoch 3/20\n",
      "60000/60000 [==============================] - 1s 16us/sample - loss: 0.4149 - accuracy: 0.8902\n",
      "Epoch 4/20\n",
      "60000/60000 [==============================] - 1s 15us/sample - loss: 0.3695 - accuracy: 0.8992\n",
      "Epoch 5/20\n",
      "60000/60000 [==============================] - 1s 15us/sample - loss: 0.3416 - accuracy: 0.9051\n",
      "Epoch 6/20\n",
      "60000/60000 [==============================] - 1s 15us/sample - loss: 0.3218 - accuracy: 0.9096\n",
      "Epoch 7/20\n",
      "60000/60000 [==============================] - 1s 16us/sample - loss: 0.3066 - accuracy: 0.9135\n",
      "Epoch 8/20\n",
      "60000/60000 [==============================] - 1s 15us/sample - loss: 0.2941 - accuracy: 0.9168\n",
      "Epoch 9/20\n",
      "60000/60000 [==============================] - 1s 15us/sample - loss: 0.2833 - accuracy: 0.9201\n",
      "Epoch 10/20\n",
      "60000/60000 [==============================] - 1s 15us/sample - loss: 0.2740 - accuracy: 0.9225\n",
      "Epoch 11/20\n",
      "60000/60000 [==============================] - 1s 15us/sample - loss: 0.2656 - accuracy: 0.9244\n",
      "Epoch 12/20\n",
      "60000/60000 [==============================] - 1s 16us/sample - loss: 0.2578 - accuracy: 0.9268\n",
      "Epoch 13/20\n",
      "60000/60000 [==============================] - 1s 15us/sample - loss: 0.2507 - accuracy: 0.9290\n",
      "Epoch 14/20\n",
      "60000/60000 [==============================] - 1s 15us/sample - loss: 0.2440 - accuracy: 0.9305\n",
      "Epoch 15/20\n",
      "60000/60000 [==============================] - 1s 15us/sample - loss: 0.2377 - accuracy: 0.9321\n",
      "Epoch 16/20\n",
      "60000/60000 [==============================] - 1s 15us/sample - loss: 0.2317 - accuracy: 0.9342\n",
      "Epoch 17/20\n",
      "60000/60000 [==============================] - 1s 16us/sample - loss: 0.2259 - accuracy: 0.9356\n",
      "Epoch 18/20\n",
      "60000/60000 [==============================] - 1s 16us/sample - loss: 0.2206 - accuracy: 0.9369s\n",
      "Epoch 19/20\n",
      "60000/60000 [==============================] - 1s 16us/sample - loss: 0.2154 - accuracy: 0.9385\n",
      "Epoch 20/20\n",
      "60000/60000 [==============================] - 1s 16us/sample - loss: 0.2104 - accuracy: 0.9400\n"
     ]
    },
    {
     "data": {
      "text/plain": [
       "<tensorflow.python.keras.callbacks.History at 0x227d6ae89c8>"
      ]
     },
     "execution_count": 15,
     "metadata": {},
     "output_type": "execute_result"
    }
   ],
   "source": [
    "# Fit the model\n",
    "model_b1.fit(X_train, Y_train, batch_size=batch_size, epochs=20, verbose=1)"
   ]
  },
  {
   "cell_type": "code",
   "execution_count": 16,
   "metadata": {},
   "outputs": [
    {
     "name": "stdout",
     "output_type": "stream",
     "text": [
      "Model: \"sequential_3\"\n",
      "_________________________________________________________________\n",
      "Layer (type)                 Output Shape              Param #   \n",
      "=================================================================\n",
      "dense_11 (Dense)             (None, 128)               100480    \n",
      "_________________________________________________________________\n",
      "dense_12 (Dense)             (None, 64)                8256      \n",
      "_________________________________________________________________\n",
      "dense_13 (Dense)             (None, 10)                650       \n",
      "=================================================================\n",
      "Total params: 109,386\n",
      "Trainable params: 109,386\n",
      "Non-trainable params: 0\n",
      "_________________________________________________________________\n"
     ]
    }
   ],
   "source": [
    "# Create the model with the sigmoid activation function\n",
    "model_b2 = Sequential()\n",
    "\n",
    "model_b2.add(Dense(128, input_shape=X_train[0].shape, activation=\"sigmoid\"))\n",
    "model_b2.add(Dense(64, activation=\"sigmoid\"))\n",
    "model_b2.add(Dense(10, activation=\"softmax\"))\n",
    "model_b2.summary()"
   ]
  },
  {
   "cell_type": "code",
   "execution_count": 17,
   "metadata": {},
   "outputs": [],
   "source": [
    "# Compile the model\n",
    "model_b2.compile(optimizer='sgd', loss='categorical_crossentropy',\n",
    "              metrics=['accuracy'])"
   ]
  },
  {
   "cell_type": "code",
   "execution_count": 18,
   "metadata": {},
   "outputs": [
    {
     "name": "stdout",
     "output_type": "stream",
     "text": [
      "Train on 60000 samples\n",
      "Epoch 1/20\n",
      "WARNING:tensorflow:Entity <function Function._initialize_uninitialized_variables.<locals>.initialize_variables at 0x00000227E3E9C3A8> could not be transformed and will be executed as-is. Please report this to the AutoGraph team. When filing the bug, set the verbosity to 10 (on Linux, `export AUTOGRAPH_VERBOSITY=10`) and attach the full output. Cause: module 'gast' has no attribute 'Num'\n",
      "WARNING: Entity <function Function._initialize_uninitialized_variables.<locals>.initialize_variables at 0x00000227E3E9C3A8> could not be transformed and will be executed as-is. Please report this to the AutoGraph team. When filing the bug, set the verbosity to 10 (on Linux, `export AUTOGRAPH_VERBOSITY=10`) and attach the full output. Cause: module 'gast' has no attribute 'Num'\n",
      "60000/60000 [==============================] - 1s 20us/sample - loss: 2.2835 - accuracy: 0.1605\n",
      "Epoch 2/20\n",
      "60000/60000 [==============================] - 1s 16us/sample - loss: 2.2259 - accuracy: 0.3305\n",
      "Epoch 3/20\n",
      "60000/60000 [==============================] - 1s 16us/sample - loss: 2.1601 - accuracy: 0.4543\n",
      "Epoch 4/20\n",
      "60000/60000 [==============================] - 1s 16us/sample - loss: 2.0665 - accuracy: 0.5163\n",
      "Epoch 5/20\n",
      "60000/60000 [==============================] - 1s 16us/sample - loss: 1.9337 - accuracy: 0.5686\n",
      "Epoch 6/20\n",
      "60000/60000 [==============================] - 1s 17us/sample - loss: 1.7638 - accuracy: 0.6134\n",
      "Epoch 7/20\n",
      "60000/60000 [==============================] - 1s 16us/sample - loss: 1.5793 - accuracy: 0.6565\n",
      "Epoch 8/20\n",
      "60000/60000 [==============================] - 1s 16us/sample - loss: 1.4057 - accuracy: 0.6954\n",
      "Epoch 9/20\n",
      "60000/60000 [==============================] - 1s 16us/sample - loss: 1.2539 - accuracy: 0.7253\n",
      "Epoch 10/20\n",
      "60000/60000 [==============================] - 1s 20us/sample - loss: 1.1255 - accuracy: 0.7489\n",
      "Epoch 11/20\n",
      "60000/60000 [==============================] - 1s 17us/sample - loss: 1.0190 - accuracy: 0.7672\n",
      "Epoch 12/20\n",
      "60000/60000 [==============================] - 1s 16us/sample - loss: 0.9309 - accuracy: 0.7831\n",
      "Epoch 13/20\n",
      "60000/60000 [==============================] - 1s 17us/sample - loss: 0.8578 - accuracy: 0.7971\n",
      "Epoch 14/20\n",
      "60000/60000 [==============================] - 1s 20us/sample - loss: 0.7966 - accuracy: 0.8077\n",
      "Epoch 15/20\n",
      "60000/60000 [==============================] - 1s 20us/sample - loss: 0.7452 - accuracy: 0.8178\n",
      "Epoch 16/20\n",
      "60000/60000 [==============================] - 1s 20us/sample - loss: 0.7015 - accuracy: 0.8262\n",
      "Epoch 17/20\n",
      "60000/60000 [==============================] - 1s 16us/sample - loss: 0.6641 - accuracy: 0.8339\n",
      "Epoch 18/20\n",
      "60000/60000 [==============================] - 1s 17us/sample - loss: 0.6319 - accuracy: 0.8408\n",
      "Epoch 19/20\n",
      "60000/60000 [==============================] - 1s 16us/sample - loss: 0.6039 - accuracy: 0.8464\n",
      "Epoch 20/20\n",
      "60000/60000 [==============================] - 1s 17us/sample - loss: 0.5794 - accuracy: 0.8520\n"
     ]
    },
    {
     "data": {
      "text/plain": [
       "<tensorflow.python.keras.callbacks.History at 0x227e3e95188>"
      ]
     },
     "execution_count": 18,
     "metadata": {},
     "output_type": "execute_result"
    }
   ],
   "source": [
    "# Fit the model\n",
    "model_b2.fit(X_train, Y_train, batch_size=batch_size, epochs=20, verbose=1)"
   ]
  },
  {
   "cell_type": "markdown",
   "metadata": {},
   "source": [
    "## c) Change the number of neurons in the layers"
   ]
  },
  {
   "cell_type": "code",
   "execution_count": 19,
   "metadata": {},
   "outputs": [
    {
     "name": "stdout",
     "output_type": "stream",
     "text": [
      "Model: \"sequential_4\"\n",
      "_________________________________________________________________\n",
      "Layer (type)                 Output Shape              Param #   \n",
      "=================================================================\n",
      "dense_14 (Dense)             (None, 256)               200960    \n",
      "_________________________________________________________________\n",
      "dense_15 (Dense)             (None, 128)               32896     \n",
      "_________________________________________________________________\n",
      "dense_16 (Dense)             (None, 10)                1290      \n",
      "=================================================================\n",
      "Total params: 235,146\n",
      "Trainable params: 235,146\n",
      "Non-trainable params: 0\n",
      "_________________________________________________________________\n"
     ]
    }
   ],
   "source": [
    "# Create the model with more neurons\n",
    "model_c1 = Sequential()\n",
    "\n",
    "model_c1.add(Dense(256, input_shape=X_train[0].shape, activation=\"relu\"))\n",
    "model_c1.add(Dense(128, activation=\"relu\"))\n",
    "model_c1.add(Dense(10, activation=\"softmax\"))\n",
    "model_c1.summary()"
   ]
  },
  {
   "cell_type": "code",
   "execution_count": 20,
   "metadata": {},
   "outputs": [],
   "source": [
    "# Compile the model\n",
    "model_c1.compile(optimizer='sgd', loss='categorical_crossentropy',\n",
    "              metrics=['accuracy'])"
   ]
  },
  {
   "cell_type": "code",
   "execution_count": 21,
   "metadata": {},
   "outputs": [
    {
     "name": "stdout",
     "output_type": "stream",
     "text": [
      "Train on 60000 samples\n",
      "Epoch 1/20\n",
      "WARNING:tensorflow:Entity <function Function._initialize_uninitialized_variables.<locals>.initialize_variables at 0x00000227E43ECA68> could not be transformed and will be executed as-is. Please report this to the AutoGraph team. When filing the bug, set the verbosity to 10 (on Linux, `export AUTOGRAPH_VERBOSITY=10`) and attach the full output. Cause: module 'gast' has no attribute 'Num'\n",
      "WARNING: Entity <function Function._initialize_uninitialized_variables.<locals>.initialize_variables at 0x00000227E43ECA68> could not be transformed and will be executed as-is. Please report this to the AutoGraph team. When filing the bug, set the verbosity to 10 (on Linux, `export AUTOGRAPH_VERBOSITY=10`) and attach the full output. Cause: module 'gast' has no attribute 'Num'\n",
      "60000/60000 [==============================] - 2s 27us/sample - loss: 1.1701 - accuracy: 0.7103\n",
      "Epoch 2/20\n",
      "60000/60000 [==============================] - 1s 21us/sample - loss: 0.4706 - accuracy: 0.8762\n",
      "Epoch 3/20\n",
      "60000/60000 [==============================] - 1s 21us/sample - loss: 0.3704 - accuracy: 0.8975\n",
      "Epoch 4/20\n",
      "60000/60000 [==============================] - 1s 22us/sample - loss: 0.3278 - accuracy: 0.9070\n",
      "Epoch 5/20\n",
      "60000/60000 [==============================] - 1s 21us/sample - loss: 0.3013 - accuracy: 0.9141\n",
      "Epoch 6/20\n",
      "60000/60000 [==============================] - 1s 20us/sample - loss: 0.2814 - accuracy: 0.9198\n",
      "Epoch 7/20\n",
      "60000/60000 [==============================] - 1s 22us/sample - loss: 0.2651 - accuracy: 0.9244\n",
      "Epoch 8/20\n",
      "60000/60000 [==============================] - 1s 20us/sample - loss: 0.2508 - accuracy: 0.9285\n",
      "Epoch 9/20\n",
      "60000/60000 [==============================] - 1s 23us/sample - loss: 0.2382 - accuracy: 0.9326\n",
      "Epoch 10/20\n",
      "60000/60000 [==============================] - 1s 21us/sample - loss: 0.2268 - accuracy: 0.9361\n",
      "Epoch 11/20\n",
      "60000/60000 [==============================] - 1s 22us/sample - loss: 0.2168 - accuracy: 0.9391\n",
      "Epoch 12/20\n",
      "60000/60000 [==============================] - 1s 22us/sample - loss: 0.2076 - accuracy: 0.9418\n",
      "Epoch 13/20\n",
      "60000/60000 [==============================] - 1s 20us/sample - loss: 0.1994 - accuracy: 0.9443\n",
      "Epoch 14/20\n",
      "60000/60000 [==============================] - 1s 19us/sample - loss: 0.1916 - accuracy: 0.9460\n",
      "Epoch 15/20\n",
      "60000/60000 [==============================] - 1s 23us/sample - loss: 0.1845 - accuracy: 0.9481\n",
      "Epoch 16/20\n",
      "60000/60000 [==============================] - 1s 22us/sample - loss: 0.1779 - accuracy: 0.9501\n",
      "Epoch 17/20\n",
      "60000/60000 [==============================] - 1s 21us/sample - loss: 0.1717 - accuracy: 0.9518\n",
      "Epoch 18/20\n",
      "60000/60000 [==============================] - 1s 21us/sample - loss: 0.1661 - accuracy: 0.9532\n",
      "Epoch 19/20\n",
      "60000/60000 [==============================] - 1s 21us/sample - loss: 0.1608 - accuracy: 0.9552\n",
      "Epoch 20/20\n",
      "60000/60000 [==============================] - 1s 20us/sample - loss: 0.1557 - accuracy: 0.9564\n"
     ]
    },
    {
     "data": {
      "text/plain": [
       "<tensorflow.python.keras.callbacks.History at 0x227e40c0b48>"
      ]
     },
     "execution_count": 21,
     "metadata": {},
     "output_type": "execute_result"
    }
   ],
   "source": [
    "# Fit the model\n",
    "model_c1.fit(X_train, Y_train, batch_size=batch_size, epochs=20, verbose=1)"
   ]
  },
  {
   "cell_type": "code",
   "execution_count": 22,
   "metadata": {},
   "outputs": [
    {
     "name": "stdout",
     "output_type": "stream",
     "text": [
      "Model: \"sequential_5\"\n",
      "_________________________________________________________________\n",
      "Layer (type)                 Output Shape              Param #   \n",
      "=================================================================\n",
      "dense_17 (Dense)             (None, 1024)              803840    \n",
      "_________________________________________________________________\n",
      "dense_18 (Dense)             (None, 256)               262400    \n",
      "_________________________________________________________________\n",
      "dense_19 (Dense)             (None, 10)                2570      \n",
      "=================================================================\n",
      "Total params: 1,068,810\n",
      "Trainable params: 1,068,810\n",
      "Non-trainable params: 0\n",
      "_________________________________________________________________\n"
     ]
    }
   ],
   "source": [
    "# Create the model with lots more neurons\n",
    "model_c2 = Sequential()\n",
    "\n",
    "model_c2.add(Dense(1024, input_shape=X_train[0].shape, activation=\"relu\"))\n",
    "model_c2.add(Dense(256, activation=\"relu\"))\n",
    "model_c2.add(Dense(10, activation=\"softmax\"))\n",
    "model_c2.summary()"
   ]
  },
  {
   "cell_type": "code",
   "execution_count": 23,
   "metadata": {},
   "outputs": [],
   "source": [
    "# Compile the model\n",
    "model_c2.compile(optimizer='sgd', loss='categorical_crossentropy',\n",
    "              metrics=['accuracy'])"
   ]
  },
  {
   "cell_type": "code",
   "execution_count": 24,
   "metadata": {},
   "outputs": [
    {
     "name": "stdout",
     "output_type": "stream",
     "text": [
      "Train on 60000 samples\n",
      "Epoch 1/20\n",
      "WARNING:tensorflow:Entity <function Function._initialize_uninitialized_variables.<locals>.initialize_variables at 0x00000227E2335F78> could not be transformed and will be executed as-is. Please report this to the AutoGraph team. When filing the bug, set the verbosity to 10 (on Linux, `export AUTOGRAPH_VERBOSITY=10`) and attach the full output. Cause: module 'gast' has no attribute 'Num'\n",
      "WARNING: Entity <function Function._initialize_uninitialized_variables.<locals>.initialize_variables at 0x00000227E2335F78> could not be transformed and will be executed as-is. Please report this to the AutoGraph team. When filing the bug, set the verbosity to 10 (on Linux, `export AUTOGRAPH_VERBOSITY=10`) and attach the full output. Cause: module 'gast' has no attribute 'Num'\n",
      "60000/60000 [==============================] - 4s 66us/sample - loss: 1.0083 - accuracy: 0.7757\n",
      "Epoch 2/20\n",
      "60000/60000 [==============================] - 4s 60us/sample - loss: 0.4245 - accuracy: 0.8892\n",
      "Epoch 3/20\n",
      "60000/60000 [==============================] - 4s 62us/sample - loss: 0.3426 - accuracy: 0.9059\n",
      "Epoch 4/20\n",
      "60000/60000 [==============================] - 4s 60us/sample - loss: 0.3042 - accuracy: 0.9147\n",
      "Epoch 5/20\n",
      "60000/60000 [==============================] - 4s 62us/sample - loss: 0.2789 - accuracy: 0.9218\n",
      "Epoch 6/20\n",
      "60000/60000 [==============================] - 4s 62us/sample - loss: 0.2593 - accuracy: 0.9273\n",
      "Epoch 7/20\n",
      "60000/60000 [==============================] - 4s 62us/sample - loss: 0.2432 - accuracy: 0.9312\n",
      "Epoch 8/20\n",
      "60000/60000 [==============================] - 4s 64us/sample - loss: 0.2298 - accuracy: 0.9360\n",
      "Epoch 9/20\n",
      "60000/60000 [==============================] - 4s 63us/sample - loss: 0.2178 - accuracy: 0.9391\n",
      "Epoch 10/20\n",
      "60000/60000 [==============================] - 4s 62us/sample - loss: 0.2069 - accuracy: 0.9423\n",
      "Epoch 11/20\n",
      "60000/60000 [==============================] - 4s 63us/sample - loss: 0.1972 - accuracy: 0.9448\n",
      "Epoch 12/20\n",
      "60000/60000 [==============================] - 4s 62us/sample - loss: 0.1885 - accuracy: 0.9471\n",
      "Epoch 13/20\n",
      "60000/60000 [==============================] - 4s 64us/sample - loss: 0.1805 - accuracy: 0.9497\n",
      "Epoch 14/20\n",
      "60000/60000 [==============================] - 4s 64us/sample - loss: 0.1732 - accuracy: 0.9521\n",
      "Epoch 15/20\n",
      "60000/60000 [==============================] - 4s 63us/sample - loss: 0.1662 - accuracy: 0.9535\n",
      "Epoch 16/20\n",
      "60000/60000 [==============================] - 4s 63us/sample - loss: 0.1599 - accuracy: 0.9554\n",
      "Epoch 17/20\n",
      "60000/60000 [==============================] - 4s 62us/sample - loss: 0.1539 - accuracy: 0.9579\n",
      "Epoch 18/20\n",
      "60000/60000 [==============================] - 4s 65us/sample - loss: 0.1483 - accuracy: 0.9587\n",
      "Epoch 19/20\n",
      "60000/60000 [==============================] - 4s 63us/sample - loss: 0.1432 - accuracy: 0.9603\n",
      "Epoch 20/20\n",
      "60000/60000 [==============================] - 4s 63us/sample - loss: 0.1383 - accuracy: 0.9616\n"
     ]
    },
    {
     "data": {
      "text/plain": [
       "<tensorflow.python.keras.callbacks.History at 0x227e5921688>"
      ]
     },
     "execution_count": 24,
     "metadata": {},
     "output_type": "execute_result"
    }
   ],
   "source": [
    "# Fit the model\n",
    "model_c2.fit(X_train, Y_train, batch_size=batch_size, epochs=20, verbose=1)"
   ]
  },
  {
   "cell_type": "markdown",
   "metadata": {},
   "source": [
    "## d) Change the training batch sizes"
   ]
  },
  {
   "cell_type": "code",
   "execution_count": 25,
   "metadata": {},
   "outputs": [
    {
     "name": "stdout",
     "output_type": "stream",
     "text": [
      "Model: \"sequential_6\"\n",
      "_________________________________________________________________\n",
      "Layer (type)                 Output Shape              Param #   \n",
      "=================================================================\n",
      "dense_20 (Dense)             (None, 128)               100480    \n",
      "_________________________________________________________________\n",
      "dense_21 (Dense)             (None, 64)                8256      \n",
      "_________________________________________________________________\n",
      "dense_22 (Dense)             (None, 10)                650       \n",
      "=================================================================\n",
      "Total params: 109,386\n",
      "Trainable params: 109,386\n",
      "Non-trainable params: 0\n",
      "_________________________________________________________________\n"
     ]
    }
   ],
   "source": [
    "# Create the model with batch size of 64\n",
    "model_d1 = Sequential()\n",
    "\n",
    "model_d1.add(Dense(128, input_shape=X_train[0].shape, activation=\"relu\"))\n",
    "model_d1.add(Dense(64, activation=\"relu\"))\n",
    "model_d1.add(Dense(10, activation=\"softmax\"))\n",
    "model_d1.summary()"
   ]
  },
  {
   "cell_type": "code",
   "execution_count": 26,
   "metadata": {},
   "outputs": [],
   "source": [
    "# Compile the model\n",
    "model_d1.compile(optimizer='sgd', loss='categorical_crossentropy',\n",
    "              metrics=['accuracy'])"
   ]
  },
  {
   "cell_type": "code",
   "execution_count": 27,
   "metadata": {},
   "outputs": [
    {
     "name": "stdout",
     "output_type": "stream",
     "text": [
      "Train on 60000 samples\n",
      "Epoch 1/20\n",
      "WARNING:tensorflow:Entity <function Function._initialize_uninitialized_variables.<locals>.initialize_variables at 0x00000227E5B591F8> could not be transformed and will be executed as-is. Please report this to the AutoGraph team. When filing the bug, set the verbosity to 10 (on Linux, `export AUTOGRAPH_VERBOSITY=10`) and attach the full output. Cause: module 'gast' has no attribute 'Num'\n",
      "WARNING: Entity <function Function._initialize_uninitialized_variables.<locals>.initialize_variables at 0x00000227E5B591F8> could not be transformed and will be executed as-is. Please report this to the AutoGraph team. When filing the bug, set the verbosity to 10 (on Linux, `export AUTOGRAPH_VERBOSITY=10`) and attach the full output. Cause: module 'gast' has no attribute 'Num'\n",
      "60000/60000 [==============================] - 2s 31us/sample - loss: 0.9037 - accuracy: 0.7733\n",
      "Epoch 2/20\n",
      "60000/60000 [==============================] - 2s 26us/sample - loss: 0.3725 - accuracy: 0.8962\n",
      "Epoch 3/20\n",
      "60000/60000 [==============================] - 2s 25us/sample - loss: 0.3069 - accuracy: 0.9127\n",
      "Epoch 4/20\n",
      "60000/60000 [==============================] - 2s 25us/sample - loss: 0.2721 - accuracy: 0.9231\n",
      "Epoch 5/20\n",
      "60000/60000 [==============================] - 2s 25us/sample - loss: 0.2475 - accuracy: 0.9293\n",
      "Epoch 6/20\n",
      "60000/60000 [==============================] - 2s 26us/sample - loss: 0.2280 - accuracy: 0.9348\n",
      "Epoch 7/20\n",
      "60000/60000 [==============================] - 2s 26us/sample - loss: 0.2115 - accuracy: 0.9402\n",
      "Epoch 8/20\n",
      "60000/60000 [==============================] - 2s 26us/sample - loss: 0.1976 - accuracy: 0.9442\n",
      "Epoch 9/20\n",
      "60000/60000 [==============================] - 2s 28us/sample - loss: 0.1858 - accuracy: 0.9469\n",
      "Epoch 10/20\n",
      "60000/60000 [==============================] - 2s 25us/sample - loss: 0.1753 - accuracy: 0.9500\n",
      "Epoch 11/20\n",
      "60000/60000 [==============================] - 2s 27us/sample - loss: 0.1658 - accuracy: 0.9528\n",
      "Epoch 12/20\n",
      "60000/60000 [==============================] - 2s 27us/sample - loss: 0.1575 - accuracy: 0.9552\n",
      "Epoch 13/20\n",
      "60000/60000 [==============================] - 2s 26us/sample - loss: 0.1498 - accuracy: 0.9573\n",
      "Epoch 14/20\n",
      "60000/60000 [==============================] - 2s 26us/sample - loss: 0.1430 - accuracy: 0.9589\n",
      "Epoch 15/20\n",
      "60000/60000 [==============================] - 2s 26us/sample - loss: 0.1362 - accuracy: 0.9610\n",
      "Epoch 16/20\n",
      "60000/60000 [==============================] - 2s 26us/sample - loss: 0.1306 - accuracy: 0.9623\n",
      "Epoch 17/20\n",
      "60000/60000 [==============================] - 2s 27us/sample - loss: 0.1254 - accuracy: 0.9644\n",
      "Epoch 18/20\n",
      "60000/60000 [==============================] - 2s 27us/sample - loss: 0.1202 - accuracy: 0.9658\n",
      "Epoch 19/20\n",
      "60000/60000 [==============================] - 1s 24us/sample - loss: 0.1154 - accuracy: 0.9667\n",
      "Epoch 20/20\n",
      "60000/60000 [==============================] - 2s 26us/sample - loss: 0.1113 - accuracy: 0.9685\n"
     ]
    },
    {
     "data": {
      "text/plain": [
       "<tensorflow.python.keras.callbacks.History at 0x227e5b4e588>"
      ]
     },
     "execution_count": 27,
     "metadata": {},
     "output_type": "execute_result"
    }
   ],
   "source": [
    "# Fit the model\n",
    "model_d1.fit(X_train, Y_train, batch_size=64, epochs=20, verbose=1)"
   ]
  },
  {
   "cell_type": "code",
   "execution_count": 28,
   "metadata": {},
   "outputs": [
    {
     "name": "stdout",
     "output_type": "stream",
     "text": [
      "Model: \"sequential_7\"\n",
      "_________________________________________________________________\n",
      "Layer (type)                 Output Shape              Param #   \n",
      "=================================================================\n",
      "dense_23 (Dense)             (None, 128)               100480    \n",
      "_________________________________________________________________\n",
      "dense_24 (Dense)             (None, 64)                8256      \n",
      "_________________________________________________________________\n",
      "dense_25 (Dense)             (None, 10)                650       \n",
      "=================================================================\n",
      "Total params: 109,386\n",
      "Trainable params: 109,386\n",
      "Non-trainable params: 0\n",
      "_________________________________________________________________\n"
     ]
    }
   ],
   "source": [
    "# Create the model with batch size of 32\n",
    "model_d2 = Sequential()\n",
    "\n",
    "model_d2.add(Dense(128, input_shape=X_train[0].shape, activation=\"relu\"))\n",
    "model_d2.add(Dense(64, activation=\"relu\"))\n",
    "model_d2.add(Dense(10, activation=\"softmax\"))\n",
    "model_d2.summary()"
   ]
  },
  {
   "cell_type": "code",
   "execution_count": 29,
   "metadata": {},
   "outputs": [],
   "source": [
    "# Compile the model\n",
    "model_d2.compile(optimizer='sgd', loss='categorical_crossentropy',\n",
    "              metrics=['accuracy'])"
   ]
  },
  {
   "cell_type": "code",
   "execution_count": 30,
   "metadata": {},
   "outputs": [
    {
     "name": "stdout",
     "output_type": "stream",
     "text": [
      "Train on 60000 samples\n",
      "Epoch 1/20\n",
      "WARNING:tensorflow:Entity <function Function._initialize_uninitialized_variables.<locals>.initialize_variables at 0x00000227E437AEE8> could not be transformed and will be executed as-is. Please report this to the AutoGraph team. When filing the bug, set the verbosity to 10 (on Linux, `export AUTOGRAPH_VERBOSITY=10`) and attach the full output. Cause: module 'gast' has no attribute 'Num'\n",
      "WARNING: Entity <function Function._initialize_uninitialized_variables.<locals>.initialize_variables at 0x00000227E437AEE8> could not be transformed and will be executed as-is. Please report this to the AutoGraph team. When filing the bug, set the verbosity to 10 (on Linux, `export AUTOGRAPH_VERBOSITY=10`) and attach the full output. Cause: module 'gast' has no attribute 'Num'\n",
      "60000/60000 [==============================] - 3s 52us/sample - loss: 0.6565 - accuracy: 0.8238\n",
      "Epoch 2/20\n",
      "60000/60000 [==============================] - 3s 46us/sample - loss: 0.2966 - accuracy: 0.9146\n",
      "Epoch 3/20\n",
      "60000/60000 [==============================] - 3s 48us/sample - loss: 0.2425 - accuracy: 0.9307\n",
      "Epoch 4/20\n",
      "60000/60000 [==============================] - 3s 46us/sample - loss: 0.2073 - accuracy: 0.9406\n",
      "Epoch 5/20\n",
      "60000/60000 [==============================] - 3s 45us/sample - loss: 0.1801 - accuracy: 0.9477\n",
      "Epoch 6/20\n",
      "60000/60000 [==============================] - 3s 46us/sample - loss: 0.1597 - accuracy: 0.9539\n",
      "Epoch 7/20\n",
      "60000/60000 [==============================] - 3s 46us/sample - loss: 0.1430 - accuracy: 0.9588\n",
      "Epoch 8/20\n",
      "60000/60000 [==============================] - 3s 47us/sample - loss: 0.1289 - accuracy: 0.9629\n",
      "Epoch 9/20\n",
      "60000/60000 [==============================] - 3s 46us/sample - loss: 0.1176 - accuracy: 0.9663\n",
      "Epoch 10/20\n",
      "60000/60000 [==============================] - 3s 47us/sample - loss: 0.1078 - accuracy: 0.9696\n",
      "Epoch 11/20\n",
      "60000/60000 [==============================] - 3s 46us/sample - loss: 0.0994 - accuracy: 0.9717\n",
      "Epoch 12/20\n",
      "60000/60000 [==============================] - 3s 48us/sample - loss: 0.0919 - accuracy: 0.9736\n",
      "Epoch 13/20\n",
      "60000/60000 [==============================] - 3s 46us/sample - loss: 0.0856 - accuracy: 0.9758\n",
      "Epoch 14/20\n",
      "60000/60000 [==============================] - 3s 46us/sample - loss: 0.0795 - accuracy: 0.9772\n",
      "Epoch 15/20\n",
      "60000/60000 [==============================] - 3s 47us/sample - loss: 0.0747 - accuracy: 0.9788\n",
      "Epoch 16/20\n",
      "60000/60000 [==============================] - 3s 46us/sample - loss: 0.0696 - accuracy: 0.9807\n",
      "Epoch 17/20\n",
      "60000/60000 [==============================] - 3s 46us/sample - loss: 0.0654 - accuracy: 0.9815\n",
      "Epoch 18/20\n",
      "60000/60000 [==============================] - 3s 48us/sample - loss: 0.0615 - accuracy: 0.9827\n",
      "Epoch 19/20\n",
      "60000/60000 [==============================] - 3s 47us/sample - loss: 0.0582 - accuracy: 0.9840\n",
      "Epoch 20/20\n",
      "60000/60000 [==============================] - 3s 47us/sample - loss: 0.0551 - accuracy: 0.9849\n"
     ]
    },
    {
     "data": {
      "text/plain": [
       "<tensorflow.python.keras.callbacks.History at 0x227e57ff3c8>"
      ]
     },
     "execution_count": 30,
     "metadata": {},
     "output_type": "execute_result"
    }
   ],
   "source": [
    "# Fit the model\n",
    "model_d2.fit(X_train, Y_train, batch_size=32, epochs=20, verbose=1)"
   ]
  },
  {
   "cell_type": "markdown",
   "metadata": {},
   "source": [
    "## 4) Compare your models' training scores and interpret your results."
   ]
  },
  {
   "cell_type": "code",
   "execution_count": 31,
   "metadata": {},
   "outputs": [
    {
     "name": "stdout",
     "output_type": "stream",
     "text": [
      "Train score: 0.17002030751903852\n",
      "Train accuracy: 0.95125\n",
      "Train score: 0.1021962611272931\n",
      "Train accuracy: 0.97031665\n"
     ]
    }
   ],
   "source": [
    "# Training score of model with 3 layers\n",
    "score = model_a1.evaluate(X_train, Y_train, verbose=0)\n",
    "print('Train score:', score[0])\n",
    "print('Train accuracy:', score[1])\n",
    "\n",
    "# Score of model with 5 layers\n",
    "score = model_a2.evaluate(X_train, Y_train, verbose=0)\n",
    "print('Train score:', score[0])\n",
    "print('Train accuracy:', score[1])"
   ]
  },
  {
   "cell_type": "markdown",
   "metadata": {},
   "source": [
    "* The model with more layers performed better"
   ]
  },
  {
   "cell_type": "code",
   "execution_count": 32,
   "metadata": {},
   "outputs": [
    {
     "name": "stdout",
     "output_type": "stream",
     "text": [
      "Train score: 0.20701026804844538\n",
      "Train accuracy: 0.94091666\n",
      "Train score: 0.56789171230793\n",
      "Train accuracy: 0.85465\n"
     ]
    }
   ],
   "source": [
    "# Training score of model with tanh activation function\n",
    "score = model_b1.evaluate(X_train, Y_train, verbose=0)\n",
    "print('Train score:', score[0])\n",
    "print('Train accuracy:', score[1])\n",
    "\n",
    "# Training score of model with sigmoid activation function\n",
    "score = model_b2.evaluate(X_train, Y_train, verbose=0)\n",
    "print('Train score:', score[0])\n",
    "print('Train accuracy:', score[1])"
   ]
  },
  {
   "cell_type": "markdown",
   "metadata": {},
   "source": [
    "* Both of these models performed worse than when using the relu activation function (above)"
   ]
  },
  {
   "cell_type": "code",
   "execution_count": 33,
   "metadata": {},
   "outputs": [
    {
     "name": "stdout",
     "output_type": "stream",
     "text": [
      "Train score: 0.15162361523260673\n",
      "Train accuracy: 0.95765\n",
      "Train score: 0.1340804096053044\n",
      "Train accuracy: 0.96311665\n"
     ]
    }
   ],
   "source": [
    "# Training score of model with more neurons (256, 128, 10)\n",
    "score = model_c1.evaluate(X_train, Y_train, verbose=0)\n",
    "print('Train score:', score[0])\n",
    "print('Train accuracy:', score[1])\n",
    "\n",
    "# Training score of model with lots more neurons (1024, 256, 10)\n",
    "score = model_c2.evaluate(X_train, Y_train, verbose=0)\n",
    "print('Train score:', score[0])\n",
    "print('Train accuracy:', score[1])"
   ]
  },
  {
   "cell_type": "markdown",
   "metadata": {},
   "source": [
    "* The models with more neurons performed better, though the processing time was significantly longer"
   ]
  },
  {
   "cell_type": "code",
   "execution_count": 34,
   "metadata": {},
   "outputs": [
    {
     "name": "stdout",
     "output_type": "stream",
     "text": [
      "Train score: 0.10741190822000304\n",
      "Train accuracy: 0.96931666\n",
      "Train score: 0.05011807538854579\n",
      "Train accuracy: 0.98686665\n"
     ]
    }
   ],
   "source": [
    "# Training score of model with a smaller batch size (64 vs 128)\n",
    "score = model_d1.evaluate(X_train, Y_train, verbose=0)\n",
    "print('Train score:', score[0])\n",
    "print('Train accuracy:', score[1])\n",
    "\n",
    "# Training score of model with an even smaller batch size (32)\n",
    "score = model_d2.evaluate(X_train, Y_train, verbose=0)\n",
    "print('Train score:', score[0])\n",
    "print('Train accuracy:', score[1])"
   ]
  },
  {
   "cell_type": "markdown",
   "metadata": {},
   "source": [
    "* The models with the smaller batch sizes performed much better\n",
    "* The batch size seems to have a much larger effect on the performance than the other variables"
   ]
  },
  {
   "cell_type": "markdown",
   "metadata": {},
   "source": [
    "## 5) Evaluate how your models perform on your test set. Compare the results of your models."
   ]
  },
  {
   "cell_type": "code",
   "execution_count": 35,
   "metadata": {},
   "outputs": [
    {
     "name": "stdout",
     "output_type": "stream",
     "text": [
      "Test score: 0.1741082175627351\n",
      "Test accuracy: 0.9497\n",
      "Test score: 0.1178428161514923\n",
      "Test accuracy: 0.964\n"
     ]
    }
   ],
   "source": [
    "# Test score of model with 3 layers\n",
    "score = model_a1.evaluate(X_test, Y_test, verbose=0)\n",
    "print('Test score:', score[0])\n",
    "print('Test accuracy:', score[1])\n",
    "\n",
    "# Test score of model with 5 layers\n",
    "score = model_a2.evaluate(X_test, Y_test, verbose=0)\n",
    "print('Test score:', score[0])\n",
    "print('Test accuracy:', score[1])"
   ]
  },
  {
   "cell_type": "markdown",
   "metadata": {},
   "source": [
    "* As with the training data, the model with more layers performed better"
   ]
  },
  {
   "cell_type": "code",
   "execution_count": 36,
   "metadata": {},
   "outputs": [
    {
     "name": "stdout",
     "output_type": "stream",
     "text": [
      "Test score: 0.20936153640151023\n",
      "Test accuracy: 0.9402\n",
      "Test score: 0.5538147303581238\n",
      "Test accuracy: 0.8599\n"
     ]
    }
   ],
   "source": [
    "# Training score of model with tanh activation function\n",
    "score = model_b1.evaluate(X_test, Y_test, verbose=0)\n",
    "print('Test score:', score[0])\n",
    "print('Test accuracy:', score[1])\n",
    "\n",
    "# Training score of model with sigmoid activation function\n",
    "score = model_b2.evaluate(X_test, Y_test, verbose=0)\n",
    "print('Test score:', score[0])\n",
    "print('Test accuracy:', score[1])"
   ]
  },
  {
   "cell_type": "markdown",
   "metadata": {},
   "source": [
    "* As with the training data, the model with the relu activation function performed better than the other activation functions"
   ]
  },
  {
   "cell_type": "code",
   "execution_count": 37,
   "metadata": {},
   "outputs": [
    {
     "name": "stdout",
     "output_type": "stream",
     "text": [
      "Test score: 0.15651840787529944\n",
      "Test accuracy: 0.953\n",
      "Test score: 0.1419242338772863\n",
      "Test accuracy: 0.9601\n"
     ]
    }
   ],
   "source": [
    "# Training score of model with more neurons (256, 128, 10)\n",
    "score = model_c1.evaluate(X_test, Y_test, verbose=0)\n",
    "print('Test score:', score[0])\n",
    "print('Test accuracy:', score[1])\n",
    "\n",
    "# Training score of model with lots more neurons (1024, 256, 10)\n",
    "score = model_c2.evaluate(X_test, Y_test, verbose=0)\n",
    "print('Test score:', score[0])\n",
    "print('Test accuracy:', score[1])"
   ]
  },
  {
   "cell_type": "markdown",
   "metadata": {},
   "source": [
    "* As with the training data, the model with more neurons performed better\n",
    "* However, it did not have a significantly larger difference in performance"
   ]
  },
  {
   "cell_type": "code",
   "execution_count": 38,
   "metadata": {},
   "outputs": [
    {
     "name": "stdout",
     "output_type": "stream",
     "text": [
      "Test score: 0.12281833421960472\n",
      "Test accuracy: 0.9644\n",
      "Test score: 0.08031853703726083\n",
      "Test accuracy: 0.9751\n"
     ]
    }
   ],
   "source": [
    "# Training score of model with a smaller batch size (64 vs 128)\n",
    "score = model_d1.evaluate(X_test, Y_test, verbose=0)\n",
    "print('Test score:', score[0])\n",
    "print('Test accuracy:', score[1])\n",
    "\n",
    "# Training score of model with an even smaller batch size (32)\n",
    "score = model_d2.evaluate(X_test, Y_test, verbose=0)\n",
    "print('Test score:', score[0])\n",
    "print('Test accuracy:', score[1])"
   ]
  },
  {
   "cell_type": "markdown",
   "metadata": {},
   "source": [
    "* As with the training data, the models with the smaller batch sizes performed much better\n",
    "* The batch size definitely seems to have a much larger effect on the performance than the other variables"
   ]
  },
  {
   "cell_type": "code",
   "execution_count": null,
   "metadata": {},
   "outputs": [],
   "source": []
  }
 ],
 "metadata": {
  "kernelspec": {
   "display_name": "Python 3",
   "language": "python",
   "name": "python3"
  },
  "language_info": {
   "codemirror_mode": {
    "name": "ipython",
    "version": 3
   },
   "file_extension": ".py",
   "mimetype": "text/x-python",
   "name": "python",
   "nbconvert_exporter": "python",
   "pygments_lexer": "ipython3",
   "version": "3.7.6"
  }
 },
 "nbformat": 4,
 "nbformat_minor": 4
}
