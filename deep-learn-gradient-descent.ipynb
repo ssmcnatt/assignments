{
 "cells": [
  {
   "cell_type": "code",
   "execution_count": 1,
   "metadata": {},
   "outputs": [],
   "source": [
    "#!pip install tensorflow==2.0.0-rc1\n",
    "#!pip install tensorflow-gpu==2.0.0-rc1"
   ]
  },
  {
   "cell_type": "code",
   "execution_count": 2,
   "metadata": {},
   "outputs": [],
   "source": [
    "import warnings\n",
    "warnings.filterwarnings(\"ignore\")\n",
    "\n",
    "from tensorflow.keras.datasets import mnist\n",
    "from tensorflow.keras.models import Sequential \n",
    "from tensorflow.keras.layers import Dense\n",
    "from tensorflow.keras.utils import to_categorical\n",
    "\n",
    "from tensorflow.keras.optimizers import SGD"
   ]
  },
  {
   "cell_type": "markdown",
   "metadata": {},
   "source": [
    "## 1) In this task, you'll implement several ANN models with different activation functions. Specifically, do the following:"
   ]
  },
  {
   "cell_type": "code",
   "execution_count": 3,
   "metadata": {},
   "outputs": [
    {
     "data": {
      "text/plain": [
       "(784,)"
      ]
     },
     "execution_count": 3,
     "metadata": {},
     "output_type": "execute_result"
    }
   ],
   "source": [
    "(X_train, y_train), (X_test, y_test) = mnist.load_data()\n",
    "\n",
    "input_dim = 784  # 28*28\n",
    "output_dim = nb_classes = 10\n",
    "nb_epoch = 20\n",
    "\n",
    "X_train = X_train.reshape(60000, input_dim)\n",
    "X_test = X_test.reshape(10000, input_dim)\n",
    "X_train = X_train.astype('float32')\n",
    "X_test = X_test.astype('float32')\n",
    "X_train /= 255\n",
    "X_test /= 255\n",
    "\n",
    "Y_train = to_categorical(y_train, nb_classes)\n",
    "Y_test = to_categorical(y_test, nb_classes)\n",
    "\n",
    "X_train[0].shape"
   ]
  },
  {
   "cell_type": "markdown",
   "metadata": {},
   "source": [
    "## Implement a three-layer ANN model with 128, 64, and 10 neurons in the layers. Use 8 as the mini-batch size."
   ]
  },
  {
   "cell_type": "code",
   "execution_count": 4,
   "metadata": {},
   "outputs": [],
   "source": [
    "# Create the model\n",
    "model1 = Sequential()\n",
    "\n",
    "model1.add(Dense(128, input_shape=(784,), activation=\"relu\"))\n",
    "model1.add(Dense(64, activation=\"relu\"))\n",
    "model1.add(Dense(10, activation=\"softmax\"))"
   ]
  },
  {
   "cell_type": "code",
   "execution_count": 5,
   "metadata": {},
   "outputs": [
    {
     "name": "stdout",
     "output_type": "stream",
     "text": [
      "Model: \"sequential\"\n",
      "_________________________________________________________________\n",
      "Layer (type)                 Output Shape              Param #   \n",
      "=================================================================\n",
      "dense (Dense)                (None, 128)               100480    \n",
      "_________________________________________________________________\n",
      "dense_1 (Dense)              (None, 64)                8256      \n",
      "_________________________________________________________________\n",
      "dense_2 (Dense)              (None, 10)                650       \n",
      "=================================================================\n",
      "Total params: 109,386\n",
      "Trainable params: 109,386\n",
      "Non-trainable params: 0\n",
      "_________________________________________________________________\n"
     ]
    }
   ],
   "source": [
    "model1.summary()"
   ]
  },
  {
   "cell_type": "code",
   "execution_count": 6,
   "metadata": {},
   "outputs": [],
   "source": [
    "# Compole the model\n",
    "model1.compile(optimizer='sgd', loss='categorical_crossentropy',\n",
    "              metrics=['accuracy'])"
   ]
  },
  {
   "cell_type": "code",
   "execution_count": 7,
   "metadata": {
    "scrolled": false
   },
   "outputs": [
    {
     "name": "stdout",
     "output_type": "stream",
     "text": [
      "Train on 60000 samples\n",
      "Epoch 1/20\n",
      "WARNING:tensorflow:Entity <function Function._initialize_uninitialized_variables.<locals>.initialize_variables at 0x0000016F21B5AB88> could not be transformed and will be executed as-is. Please report this to the AutoGraph team. When filing the bug, set the verbosity to 10 (on Linux, `export AUTOGRAPH_VERBOSITY=10`) and attach the full output. Cause: module 'gast' has no attribute 'Num'\n",
      "WARNING: Entity <function Function._initialize_uninitialized_variables.<locals>.initialize_variables at 0x0000016F21B5AB88> could not be transformed and will be executed as-is. Please report this to the AutoGraph team. When filing the bug, set the verbosity to 10 (on Linux, `export AUTOGRAPH_VERBOSITY=10`) and attach the full output. Cause: module 'gast' has no attribute 'Num'\n",
      "60000/60000 [==============================] - 10s 167us/sample - loss: 0.3691 - accuracy: 0.8971\n",
      "Epoch 2/20\n",
      "60000/60000 [==============================] - 9s 158us/sample - loss: 0.1712 - accuracy: 0.9499\n",
      "Epoch 3/20\n",
      "60000/60000 [==============================] - 10s 169us/sample - loss: 0.1251 - accuracy: 0.9632\n",
      "Epoch 4/20\n",
      "60000/60000 [==============================] - 10s 170us/sample - loss: 0.0976 - accuracy: 0.9714\n",
      "Epoch 5/20\n",
      "60000/60000 [==============================] - 9s 154us/sample - loss: 0.0803 - accuracy: 0.9766\n",
      "Epoch 6/20\n",
      "60000/60000 [==============================] - 9s 155us/sample - loss: 0.0674 - accuracy: 0.9795\n",
      "Epoch 7/20\n",
      "60000/60000 [==============================] - 9s 157us/sample - loss: 0.0574 - accuracy: 0.9828\n",
      "Epoch 8/20\n",
      "60000/60000 [==============================] - 9s 155us/sample - loss: 0.0495 - accuracy: 0.9855\n",
      "Epoch 9/20\n",
      "60000/60000 [==============================] - 10s 159us/sample - loss: 0.0427 - accuracy: 0.9873\n",
      "Epoch 10/20\n",
      "60000/60000 [==============================] - 9s 153us/sample - loss: 0.0372 - accuracy: 0.9895\n",
      "Epoch 11/20\n",
      "60000/60000 [==============================] - 10s 167us/sample - loss: 0.0323 - accuracy: 0.9910\n",
      "Epoch 12/20\n",
      "60000/60000 [==============================] - 10s 160us/sample - loss: 0.0273 - accuracy: 0.9924\n",
      "Epoch 13/20\n",
      "60000/60000 [==============================] - 10s 159us/sample - loss: 0.0242 - accuracy: 0.9934\n",
      "Epoch 14/20\n",
      "60000/60000 [==============================] - 10s 160us/sample - loss: 0.0210 - accuracy: 0.9944\n",
      "Epoch 15/20\n",
      "60000/60000 [==============================] - 10s 160us/sample - loss: 0.0178 - accuracy: 0.9957\n",
      "Epoch 16/20\n",
      "60000/60000 [==============================] - 10s 159us/sample - loss: 0.0154 - accuracy: 0.9961\n",
      "Epoch 17/20\n",
      "60000/60000 [==============================] - 10s 161us/sample - loss: 0.0130 - accuracy: 0.9971\n",
      "Epoch 18/20\n",
      "60000/60000 [==============================] - 10s 161us/sample - loss: 0.0116 - accuracy: 0.9975\n",
      "Epoch 19/20\n",
      "60000/60000 [==============================] - 10s 161us/sample - loss: 0.0094 - accuracy: 0.9986\n",
      "Epoch 20/20\n",
      "60000/60000 [==============================] - 10s 161us/sample - loss: 0.0082 - accuracy: 0.9987\n"
     ]
    },
    {
     "data": {
      "text/plain": [
       "<tensorflow.python.keras.callbacks.History at 0x16f21b758c8>"
      ]
     },
     "execution_count": 7,
     "metadata": {},
     "output_type": "execute_result"
    }
   ],
   "source": [
    "# Fit the model\n",
    "model1.fit(X_train, Y_train, batch_size=8, epochs=20, verbose=1)"
   ]
  },
  {
   "cell_type": "code",
   "execution_count": 8,
   "metadata": {},
   "outputs": [
    {
     "name": "stdout",
     "output_type": "stream",
     "text": [
      "Test score: 0.07943656604374119\n",
      "Test accuracy: 0.9778\n"
     ]
    }
   ],
   "source": [
    "# Print the model results\n",
    "score = model1.evaluate(X_test, Y_test, verbose=0)\n",
    "print('Test score:', score[0])\n",
    "print('Test accuracy:', score[1])"
   ]
  },
  {
   "cell_type": "markdown",
   "metadata": {},
   "source": [
    "## Implement a three-layer ANN model with 128, 64, and 10 neurons in the layers. Use 128 as the mini-batch size."
   ]
  },
  {
   "cell_type": "code",
   "execution_count": 9,
   "metadata": {},
   "outputs": [],
   "source": [
    "# Create the model\n",
    "model2 = Sequential()\n",
    "\n",
    "model2.add(Dense(128, input_shape=(784,), activation=\"relu\"))\n",
    "model2.add(Dense(64, activation=\"relu\"))\n",
    "model2.add(Dense(10, activation=\"softmax\"))"
   ]
  },
  {
   "cell_type": "code",
   "execution_count": 10,
   "metadata": {},
   "outputs": [
    {
     "name": "stdout",
     "output_type": "stream",
     "text": [
      "Model: \"sequential_1\"\n",
      "_________________________________________________________________\n",
      "Layer (type)                 Output Shape              Param #   \n",
      "=================================================================\n",
      "dense_3 (Dense)              (None, 128)               100480    \n",
      "_________________________________________________________________\n",
      "dense_4 (Dense)              (None, 64)                8256      \n",
      "_________________________________________________________________\n",
      "dense_5 (Dense)              (None, 10)                650       \n",
      "=================================================================\n",
      "Total params: 109,386\n",
      "Trainable params: 109,386\n",
      "Non-trainable params: 0\n",
      "_________________________________________________________________\n"
     ]
    }
   ],
   "source": [
    "model2.summary()"
   ]
  },
  {
   "cell_type": "code",
   "execution_count": 11,
   "metadata": {},
   "outputs": [],
   "source": [
    "# Compole the model\n",
    "model2.compile(optimizer='sgd', loss='categorical_crossentropy',\n",
    "              metrics=['accuracy'])"
   ]
  },
  {
   "cell_type": "code",
   "execution_count": 12,
   "metadata": {
    "scrolled": false
   },
   "outputs": [
    {
     "name": "stdout",
     "output_type": "stream",
     "text": [
      "Train on 60000 samples\n",
      "Epoch 1/20\n",
      "WARNING:tensorflow:Entity <function Function._initialize_uninitialized_variables.<locals>.initialize_variables at 0x0000016F2D7E44C8> could not be transformed and will be executed as-is. Please report this to the AutoGraph team. When filing the bug, set the verbosity to 10 (on Linux, `export AUTOGRAPH_VERBOSITY=10`) and attach the full output. Cause: module 'gast' has no attribute 'Num'\n",
      "WARNING: Entity <function Function._initialize_uninitialized_variables.<locals>.initialize_variables at 0x0000016F2D7E44C8> could not be transformed and will be executed as-is. Please report this to the AutoGraph team. When filing the bug, set the verbosity to 10 (on Linux, `export AUTOGRAPH_VERBOSITY=10`) and attach the full output. Cause: module 'gast' has no attribute 'Num'\n",
      "60000/60000 [==============================] - 1s 21us/sample - loss: 1.3216 - accuracy: 0.6649\n",
      "Epoch 2/20\n",
      "60000/60000 [==============================] - 1s 16us/sample - loss: 0.5074 - accuracy: 0.8695\n",
      "Epoch 3/20\n",
      "60000/60000 [==============================] - 1s 16us/sample - loss: 0.3872 - accuracy: 0.8935\n",
      "Epoch 4/20\n",
      "60000/60000 [==============================] - 1s 15us/sample - loss: 0.3395 - accuracy: 0.9040\n",
      "Epoch 5/20\n",
      "60000/60000 [==============================] - 1s 16us/sample - loss: 0.3107 - accuracy: 0.9121\n",
      "Epoch 6/20\n",
      "60000/60000 [==============================] - 1s 17us/sample - loss: 0.2902 - accuracy: 0.9174\n",
      "Epoch 7/20\n",
      "60000/60000 [==============================] - 1s 16us/sample - loss: 0.2732 - accuracy: 0.9215\n",
      "Epoch 8/20\n",
      "60000/60000 [==============================] - 1s 16us/sample - loss: 0.2596 - accuracy: 0.9258\n",
      "Epoch 9/20\n",
      "60000/60000 [==============================] - 1s 16us/sample - loss: 0.2476 - accuracy: 0.9286\n",
      "Epoch 10/20\n",
      "60000/60000 [==============================] - 1s 16us/sample - loss: 0.2368 - accuracy: 0.9322\n",
      "Epoch 11/20\n",
      "60000/60000 [==============================] - 1s 16us/sample - loss: 0.2274 - accuracy: 0.9350\n",
      "Epoch 12/20\n",
      "60000/60000 [==============================] - 1s 15us/sample - loss: 0.2189 - accuracy: 0.9375\n",
      "Epoch 13/20\n",
      "60000/60000 [==============================] - 1s 15us/sample - loss: 0.2107 - accuracy: 0.9394\n",
      "Epoch 14/20\n",
      "60000/60000 [==============================] - 1s 16us/sample - loss: 0.2033 - accuracy: 0.9421\n",
      "Epoch 15/20\n",
      "60000/60000 [==============================] - 1s 15us/sample - loss: 0.1962 - accuracy: 0.9440\n",
      "Epoch 16/20\n",
      "60000/60000 [==============================] - 1s 15us/sample - loss: 0.1897 - accuracy: 0.9459\n",
      "Epoch 17/20\n",
      "60000/60000 [==============================] - 1s 15us/sample - loss: 0.1835 - accuracy: 0.9476\n",
      "Epoch 18/20\n",
      "60000/60000 [==============================] - 1s 16us/sample - loss: 0.1777 - accuracy: 0.9494\n",
      "Epoch 19/20\n",
      "60000/60000 [==============================] - 1s 17us/sample - loss: 0.1724 - accuracy: 0.9513\n",
      "Epoch 20/20\n",
      "60000/60000 [==============================] - 1s 17us/sample - loss: 0.1672 - accuracy: 0.9532\n"
     ]
    },
    {
     "data": {
      "text/plain": [
       "<tensorflow.python.keras.callbacks.History at 0x16f2d7da0c8>"
      ]
     },
     "execution_count": 12,
     "metadata": {},
     "output_type": "execute_result"
    }
   ],
   "source": [
    "# Fit the model\n",
    "model2.fit(X_train, Y_train, batch_size=128, epochs=20, verbose=1)"
   ]
  },
  {
   "cell_type": "code",
   "execution_count": 13,
   "metadata": {},
   "outputs": [
    {
     "name": "stdout",
     "output_type": "stream",
     "text": [
      "Test score: 0.16451153884753586\n",
      "Test accuracy: 0.9513\n"
     ]
    }
   ],
   "source": [
    "# Print the model results\n",
    "score = model2.evaluate(X_test, Y_test, verbose=0)\n",
    "print('Test score:', score[0])\n",
    "print('Test accuracy:', score[1])"
   ]
  },
  {
   "cell_type": "markdown",
   "metadata": {},
   "source": [
    "## Implement a three-layer ANN model with 128, 64, and 10 neurons in the layers. Use the full sample as the batch size."
   ]
  },
  {
   "cell_type": "code",
   "execution_count": 14,
   "metadata": {},
   "outputs": [],
   "source": [
    "# Create the model\n",
    "model3 = Sequential()\n",
    "\n",
    "model3.add(Dense(128, input_shape=(784,), activation=\"relu\"))\n",
    "model3.add(Dense(64, activation=\"relu\"))\n",
    "model3.add(Dense(10, activation=\"softmax\"))"
   ]
  },
  {
   "cell_type": "code",
   "execution_count": 15,
   "metadata": {},
   "outputs": [
    {
     "name": "stdout",
     "output_type": "stream",
     "text": [
      "Model: \"sequential_2\"\n",
      "_________________________________________________________________\n",
      "Layer (type)                 Output Shape              Param #   \n",
      "=================================================================\n",
      "dense_6 (Dense)              (None, 128)               100480    \n",
      "_________________________________________________________________\n",
      "dense_7 (Dense)              (None, 64)                8256      \n",
      "_________________________________________________________________\n",
      "dense_8 (Dense)              (None, 10)                650       \n",
      "=================================================================\n",
      "Total params: 109,386\n",
      "Trainable params: 109,386\n",
      "Non-trainable params: 0\n",
      "_________________________________________________________________\n"
     ]
    }
   ],
   "source": [
    "model3.summary()"
   ]
  },
  {
   "cell_type": "code",
   "execution_count": 16,
   "metadata": {},
   "outputs": [],
   "source": [
    "# Compole the model\n",
    "model3.compile(optimizer='sgd', loss='categorical_crossentropy',\n",
    "              metrics=['accuracy'])"
   ]
  },
  {
   "cell_type": "code",
   "execution_count": 17,
   "metadata": {
    "scrolled": false
   },
   "outputs": [
    {
     "name": "stdout",
     "output_type": "stream",
     "text": [
      "Train on 60000 samples\n",
      "Epoch 1/20\n",
      "WARNING:tensorflow:Entity <function Function._initialize_uninitialized_variables.<locals>.initialize_variables at 0x0000016F20ADDA68> could not be transformed and will be executed as-is. Please report this to the AutoGraph team. When filing the bug, set the verbosity to 10 (on Linux, `export AUTOGRAPH_VERBOSITY=10`) and attach the full output. Cause: module 'gast' has no attribute 'Num'\n",
      "WARNING: Entity <function Function._initialize_uninitialized_variables.<locals>.initialize_variables at 0x0000016F20ADDA68> could not be transformed and will be executed as-is. Please report this to the AutoGraph team. When filing the bug, set the verbosity to 10 (on Linux, `export AUTOGRAPH_VERBOSITY=10`) and attach the full output. Cause: module 'gast' has no attribute 'Num'\n",
      "60000/60000 [==============================] - 1s 11us/sample - loss: 2.3091 - accuracy: 0.0939\n",
      "Epoch 2/20\n",
      "60000/60000 [==============================] - 0s 4us/sample - loss: 2.3036 - accuracy: 0.0970\n",
      "Epoch 3/20\n",
      "60000/60000 [==============================] - 0s 5us/sample - loss: 2.2982 - accuracy: 0.1001\n",
      "Epoch 4/20\n",
      "60000/60000 [==============================] - 0s 4us/sample - loss: 2.2928 - accuracy: 0.1033\n",
      "Epoch 5/20\n",
      "60000/60000 [==============================] - 0s 5us/sample - loss: 2.2875 - accuracy: 0.1069\n",
      "Epoch 6/20\n",
      "60000/60000 [==============================] - 0s 5us/sample - loss: 2.2822 - accuracy: 0.1105\n",
      "Epoch 7/20\n",
      "60000/60000 [==============================] - 0s 5us/sample - loss: 2.2770 - accuracy: 0.1142\n",
      "Epoch 8/20\n",
      "60000/60000 [==============================] - 0s 5us/sample - loss: 2.2719 - accuracy: 0.1182\n",
      "Epoch 9/20\n",
      "60000/60000 [==============================] - 0s 4us/sample - loss: 2.2667 - accuracy: 0.1222\n",
      "Epoch 10/20\n",
      "60000/60000 [==============================] - 0s 5us/sample - loss: 2.2617 - accuracy: 0.1264\n",
      "Epoch 11/20\n",
      "60000/60000 [==============================] - 0s 4us/sample - loss: 2.2566 - accuracy: 0.1309\n",
      "Epoch 12/20\n",
      "60000/60000 [==============================] - 0s 5us/sample - loss: 2.2516 - accuracy: 0.1354\n",
      "Epoch 13/20\n",
      "60000/60000 [==============================] - 0s 4us/sample - loss: 2.2467 - accuracy: 0.1403\n",
      "Epoch 14/20\n",
      "60000/60000 [==============================] - 0s 4us/sample - loss: 2.2417 - accuracy: 0.1452\n",
      "Epoch 15/20\n",
      "60000/60000 [==============================] - 0s 4us/sample - loss: 2.2368 - accuracy: 0.1505\n",
      "Epoch 16/20\n",
      "60000/60000 [==============================] - 0s 4us/sample - loss: 2.2319 - accuracy: 0.1560\n",
      "Epoch 17/20\n",
      "60000/60000 [==============================] - 0s 4us/sample - loss: 2.2270 - accuracy: 0.1620\n",
      "Epoch 18/20\n",
      "60000/60000 [==============================] - 0s 4us/sample - loss: 2.2222 - accuracy: 0.1674\n",
      "Epoch 19/20\n",
      "60000/60000 [==============================] - 0s 5us/sample - loss: 2.2174 - accuracy: 0.1732\n",
      "Epoch 20/20\n",
      "60000/60000 [==============================] - 0s 4us/sample - loss: 2.2125 - accuracy: 0.1797\n"
     ]
    },
    {
     "data": {
      "text/plain": [
       "<tensorflow.python.keras.callbacks.History at 0x16f2d3e4d48>"
      ]
     },
     "execution_count": 17,
     "metadata": {},
     "output_type": "execute_result"
    }
   ],
   "source": [
    "# Fit the model\n",
    "model3.fit(X_train, Y_train, batch_size=len(X_train), epochs=20, verbose=1)"
   ]
  },
  {
   "cell_type": "code",
   "execution_count": 18,
   "metadata": {},
   "outputs": [
    {
     "name": "stdout",
     "output_type": "stream",
     "text": [
      "Test score: 2.2087443229675294\n",
      "Test accuracy: 0.1822\n"
     ]
    }
   ],
   "source": [
    "# Print the model results\n",
    "score = model3.evaluate(X_test, Y_test, verbose=0)\n",
    "print('Test score:', score[0])\n",
    "print('Test accuracy:', score[1])"
   ]
  },
  {
   "cell_type": "markdown",
   "metadata": {},
   "source": [
    "## Compare the results of each model. Which activation function performed best?"
   ]
  },
  {
   "cell_type": "markdown",
   "metadata": {},
   "source": [
    "* The batch size of 8 performed the best, so smaller batch sizes seem to perform the best\n",
    "* The run time is longer for the smaller batch sizes"
   ]
  },
  {
   "cell_type": "markdown",
   "metadata": {},
   "source": [
    "## 2) In this task, you'll implement several ANN models with different learning rates for the stochastic gradient descent. In all of the models below, use 128 as your mini-batch size."
   ]
  },
  {
   "cell_type": "markdown",
   "metadata": {},
   "source": [
    "## Implement a three-layer ANN model with 128, 64, and 10 neurons in the layers. Use 0.01 as the learning rate."
   ]
  },
  {
   "cell_type": "code",
   "execution_count": 19,
   "metadata": {},
   "outputs": [],
   "source": [
    "# Create the model\n",
    "model4 = Sequential()\n",
    "\n",
    "model4.add(Dense(128, input_shape=(784,), activation=\"relu\"))\n",
    "model4.add(Dense(64, activation=\"relu\"))\n",
    "model4.add(Dense(10, activation=\"softmax\"))"
   ]
  },
  {
   "cell_type": "code",
   "execution_count": 20,
   "metadata": {},
   "outputs": [
    {
     "name": "stdout",
     "output_type": "stream",
     "text": [
      "Model: \"sequential_3\"\n",
      "_________________________________________________________________\n",
      "Layer (type)                 Output Shape              Param #   \n",
      "=================================================================\n",
      "dense_9 (Dense)              (None, 128)               100480    \n",
      "_________________________________________________________________\n",
      "dense_10 (Dense)             (None, 64)                8256      \n",
      "_________________________________________________________________\n",
      "dense_11 (Dense)             (None, 10)                650       \n",
      "=================================================================\n",
      "Total params: 109,386\n",
      "Trainable params: 109,386\n",
      "Non-trainable params: 0\n",
      "_________________________________________________________________\n"
     ]
    }
   ],
   "source": [
    "model4.summary()"
   ]
  },
  {
   "cell_type": "code",
   "execution_count": 21,
   "metadata": {},
   "outputs": [],
   "source": [
    "# Compole the model\n",
    "optimizer = SGD(lr=0.01)\n",
    "model4.compile(optimizer=optimizer, loss='categorical_crossentropy',\n",
    "              metrics=['accuracy'])"
   ]
  },
  {
   "cell_type": "code",
   "execution_count": 22,
   "metadata": {
    "scrolled": false
   },
   "outputs": [
    {
     "name": "stdout",
     "output_type": "stream",
     "text": [
      "Train on 60000 samples\n",
      "Epoch 1/20\n",
      "WARNING:tensorflow:Entity <function Function._initialize_uninitialized_variables.<locals>.initialize_variables at 0x0000016F2F566828> could not be transformed and will be executed as-is. Please report this to the AutoGraph team. When filing the bug, set the verbosity to 10 (on Linux, `export AUTOGRAPH_VERBOSITY=10`) and attach the full output. Cause: module 'gast' has no attribute 'Num'\n",
      "WARNING: Entity <function Function._initialize_uninitialized_variables.<locals>.initialize_variables at 0x0000016F2F566828> could not be transformed and will be executed as-is. Please report this to the AutoGraph team. When filing the bug, set the verbosity to 10 (on Linux, `export AUTOGRAPH_VERBOSITY=10`) and attach the full output. Cause: module 'gast' has no attribute 'Num'\n",
      "60000/60000 [==============================] - 1s 20us/sample - loss: 1.2886 - accuracy: 0.6710\n",
      "Epoch 2/20\n",
      "60000/60000 [==============================] - 1s 14us/sample - loss: 0.5169 - accuracy: 0.8635\n",
      "Epoch 3/20\n",
      "60000/60000 [==============================] - 1s 16us/sample - loss: 0.3931 - accuracy: 0.8913\n",
      "Epoch 4/20\n",
      "60000/60000 [==============================] - 1s 16us/sample - loss: 0.3430 - accuracy: 0.9032\n",
      "Epoch 5/20\n",
      "60000/60000 [==============================] - 1s 17us/sample - loss: 0.3137 - accuracy: 0.9109\n",
      "Epoch 6/20\n",
      "60000/60000 [==============================] - 1s 16us/sample - loss: 0.2926 - accuracy: 0.9165\n",
      "Epoch 7/20\n",
      "60000/60000 [==============================] - 1s 15us/sample - loss: 0.2757 - accuracy: 0.9216\n",
      "Epoch 8/20\n",
      "60000/60000 [==============================] - 1s 15us/sample - loss: 0.2620 - accuracy: 0.9254\n",
      "Epoch 9/20\n",
      "60000/60000 [==============================] - 1s 16us/sample - loss: 0.2498 - accuracy: 0.9285\n",
      "Epoch 10/20\n",
      "60000/60000 [==============================] - 1s 17us/sample - loss: 0.2389 - accuracy: 0.9321\n",
      "Epoch 11/20\n",
      "60000/60000 [==============================] - 1s 16us/sample - loss: 0.2291 - accuracy: 0.9346\n",
      "Epoch 12/20\n",
      "60000/60000 [==============================] - 1s 16us/sample - loss: 0.2205 - accuracy: 0.9370\n",
      "Epoch 13/20\n",
      "60000/60000 [==============================] - 1s 15us/sample - loss: 0.2123 - accuracy: 0.9393\n",
      "Epoch 14/20\n",
      "60000/60000 [==============================] - 1s 16us/sample - loss: 0.2048 - accuracy: 0.9417\n",
      "Epoch 15/20\n",
      "60000/60000 [==============================] - 1s 16us/sample - loss: 0.1978 - accuracy: 0.9435\n",
      "Epoch 16/20\n",
      "60000/60000 [==============================] - 1s 15us/sample - loss: 0.1912 - accuracy: 0.9456\n",
      "Epoch 17/20\n",
      "60000/60000 [==============================] - 1s 15us/sample - loss: 0.1850 - accuracy: 0.9473\n",
      "Epoch 18/20\n",
      "60000/60000 [==============================] - 1s 16us/sample - loss: 0.1790 - accuracy: 0.9487\n",
      "Epoch 19/20\n",
      "60000/60000 [==============================] - 1s 15us/sample - loss: 0.1737 - accuracy: 0.9500\n",
      "Epoch 20/20\n",
      "60000/60000 [==============================] - 1s 15us/sample - loss: 0.1686 - accuracy: 0.9518\n"
     ]
    },
    {
     "data": {
      "text/plain": [
       "<tensorflow.python.keras.callbacks.History at 0x16f2f57b848>"
      ]
     },
     "execution_count": 22,
     "metadata": {},
     "output_type": "execute_result"
    }
   ],
   "source": [
    "# Fit the model\n",
    "model4.fit(X_train, Y_train, batch_size=128, epochs=20, verbose=1)"
   ]
  },
  {
   "cell_type": "code",
   "execution_count": 23,
   "metadata": {},
   "outputs": [
    {
     "name": "stdout",
     "output_type": "stream",
     "text": [
      "Test score: 0.16894442967697978\n",
      "Test accuracy: 0.9486\n"
     ]
    }
   ],
   "source": [
    "# Print the model results\n",
    "score = model4.evaluate(X_test, Y_test, verbose=0)\n",
    "print('Test score:', score[0])\n",
    "print('Test accuracy:', score[1])"
   ]
  },
  {
   "cell_type": "markdown",
   "metadata": {},
   "source": [
    "## Implement a three-layer ANN model with 128, 64, and 10 neurons in the layers. Use 100 as the learning rate."
   ]
  },
  {
   "cell_type": "code",
   "execution_count": 24,
   "metadata": {},
   "outputs": [],
   "source": [
    "# Create the model\n",
    "model5 = Sequential()\n",
    "\n",
    "model5.add(Dense(128, input_shape=(784,), activation=\"relu\"))\n",
    "model5.add(Dense(64, activation=\"relu\"))\n",
    "model5.add(Dense(10, activation=\"softmax\"))"
   ]
  },
  {
   "cell_type": "code",
   "execution_count": 25,
   "metadata": {},
   "outputs": [
    {
     "name": "stdout",
     "output_type": "stream",
     "text": [
      "Model: \"sequential_4\"\n",
      "_________________________________________________________________\n",
      "Layer (type)                 Output Shape              Param #   \n",
      "=================================================================\n",
      "dense_12 (Dense)             (None, 128)               100480    \n",
      "_________________________________________________________________\n",
      "dense_13 (Dense)             (None, 64)                8256      \n",
      "_________________________________________________________________\n",
      "dense_14 (Dense)             (None, 10)                650       \n",
      "=================================================================\n",
      "Total params: 109,386\n",
      "Trainable params: 109,386\n",
      "Non-trainable params: 0\n",
      "_________________________________________________________________\n"
     ]
    }
   ],
   "source": [
    "model5.summary()"
   ]
  },
  {
   "cell_type": "code",
   "execution_count": 28,
   "metadata": {},
   "outputs": [],
   "source": [
    "# Compile the model\n",
    "optimizer = SGD(lr=100)\n",
    "model5.compile(optimizer=optimizer, loss='categorical_crossentropy',\n",
    "              metrics=['accuracy'])"
   ]
  },
  {
   "cell_type": "code",
   "execution_count": 29,
   "metadata": {
    "scrolled": false
   },
   "outputs": [
    {
     "name": "stdout",
     "output_type": "stream",
     "text": [
      "Train on 60000 samples\n",
      "Epoch 1/20\n",
      "WARNING:tensorflow:Entity <function Function._initialize_uninitialized_variables.<locals>.initialize_variables at 0x0000016F2F92DAF8> could not be transformed and will be executed as-is. Please report this to the AutoGraph team. When filing the bug, set the verbosity to 10 (on Linux, `export AUTOGRAPH_VERBOSITY=10`) and attach the full output. Cause: module 'gast' has no attribute 'Num'\n",
      "WARNING: Entity <function Function._initialize_uninitialized_variables.<locals>.initialize_variables at 0x0000016F2F92DAF8> could not be transformed and will be executed as-is. Please report this to the AutoGraph team. When filing the bug, set the verbosity to 10 (on Linux, `export AUTOGRAPH_VERBOSITY=10`) and attach the full output. Cause: module 'gast' has no attribute 'Num'\n",
      "60000/60000 [==============================] - 1s 21us/sample - loss: 1284159433967.5842 - accuracy: 0.0994\n",
      "Epoch 2/20\n",
      "60000/60000 [==============================] - 1s 17us/sample - loss: 40.0406 - accuracy: 0.1011\n",
      "Epoch 3/20\n",
      "60000/60000 [==============================] - 1s 17us/sample - loss: 41.1580 - accuracy: 0.1006\n",
      "Epoch 4/20\n",
      "60000/60000 [==============================] - 1s 17us/sample - loss: 40.4112 - accuracy: 0.0978\n",
      "Epoch 5/20\n",
      "60000/60000 [==============================] - 1s 17us/sample - loss: 40.3208 - accuracy: 0.1012\n",
      "Epoch 6/20\n",
      "60000/60000 [==============================] - 1s 17us/sample - loss: 40.4158 - accuracy: 0.0994\n",
      "Epoch 7/20\n",
      "60000/60000 [==============================] - 1s 16us/sample - loss: 40.3646 - accuracy: 0.0986\n",
      "Epoch 8/20\n",
      "60000/60000 [==============================] - 1s 15us/sample - loss: 39.3663 - accuracy: 0.0994\n",
      "Epoch 9/20\n",
      "60000/60000 [==============================] - 1s 16us/sample - loss: 39.1130 - accuracy: 0.1011\n",
      "Epoch 10/20\n",
      "60000/60000 [==============================] - 1s 16us/sample - loss: 40.5486 - accuracy: 0.1019\n",
      "Epoch 11/20\n",
      "60000/60000 [==============================] - 1s 17us/sample - loss: 40.2231 - accuracy: 0.0996\n",
      "Epoch 12/20\n",
      "60000/60000 [==============================] - 1s 17us/sample - loss: 40.3526 - accuracy: 0.1024\n",
      "Epoch 13/20\n",
      "60000/60000 [==============================] - 1s 17us/sample - loss: 40.0260 - accuracy: 0.1005\n",
      "Epoch 14/20\n",
      "60000/60000 [==============================] - 1s 16us/sample - loss: 39.8453 - accuracy: 0.0971\n",
      "Epoch 15/20\n",
      "60000/60000 [==============================] - 1s 16us/sample - loss: 40.2138 - accuracy: 0.1006\n",
      "Epoch 16/20\n",
      "60000/60000 [==============================] - 1s 16us/sample - loss: 40.0525 - accuracy: 0.1015\n",
      "Epoch 17/20\n",
      "60000/60000 [==============================] - 1s 16us/sample - loss: 40.4027 - accuracy: 0.0981\n",
      "Epoch 18/20\n",
      "60000/60000 [==============================] - 1s 15us/sample - loss: 41.1938 - accuracy: 0.1013\n",
      "Epoch 19/20\n",
      "60000/60000 [==============================] - 1s 15us/sample - loss: 40.4388 - accuracy: 0.0997\n",
      "Epoch 20/20\n",
      "60000/60000 [==============================] - 1s 17us/sample - loss: 40.5215 - accuracy: 0.1013\n"
     ]
    },
    {
     "data": {
      "text/plain": [
       "<tensorflow.python.keras.callbacks.History at 0x16f2f99f408>"
      ]
     },
     "execution_count": 29,
     "metadata": {},
     "output_type": "execute_result"
    }
   ],
   "source": [
    "# Fit the model\n",
    "model5.fit(X_train, Y_train, batch_size=128, epochs=20, verbose=1)"
   ]
  },
  {
   "cell_type": "code",
   "execution_count": 30,
   "metadata": {},
   "outputs": [
    {
     "name": "stdout",
     "output_type": "stream",
     "text": [
      "Test score: 30.407435888671873\n",
      "Test accuracy: 0.0982\n"
     ]
    }
   ],
   "source": [
    "# Print the model results\n",
    "score = model5.evaluate(X_test, Y_test, verbose=0)\n",
    "print('Test score:', score[0])\n",
    "print('Test accuracy:', score[1])"
   ]
  },
  {
   "cell_type": "markdown",
   "metadata": {},
   "source": [
    "## Implement a three-layer ANN model with 128, 64, and 10 neurons in the layers. Use 0.0000001 as the learning rate."
   ]
  },
  {
   "cell_type": "code",
   "execution_count": 31,
   "metadata": {},
   "outputs": [],
   "source": [
    "# Create the model\n",
    "model6 = Sequential()\n",
    "\n",
    "model6.add(Dense(128, input_shape=(784,), activation=\"relu\"))\n",
    "model6.add(Dense(64, activation=\"relu\"))\n",
    "model6.add(Dense(10, activation=\"softmax\"))"
   ]
  },
  {
   "cell_type": "code",
   "execution_count": 32,
   "metadata": {},
   "outputs": [
    {
     "name": "stdout",
     "output_type": "stream",
     "text": [
      "Model: \"sequential_5\"\n",
      "_________________________________________________________________\n",
      "Layer (type)                 Output Shape              Param #   \n",
      "=================================================================\n",
      "dense_15 (Dense)             (None, 128)               100480    \n",
      "_________________________________________________________________\n",
      "dense_16 (Dense)             (None, 64)                8256      \n",
      "_________________________________________________________________\n",
      "dense_17 (Dense)             (None, 10)                650       \n",
      "=================================================================\n",
      "Total params: 109,386\n",
      "Trainable params: 109,386\n",
      "Non-trainable params: 0\n",
      "_________________________________________________________________\n"
     ]
    }
   ],
   "source": [
    "model6.summary()"
   ]
  },
  {
   "cell_type": "code",
   "execution_count": 35,
   "metadata": {},
   "outputs": [],
   "source": [
    "# Compole the model\n",
    "optimizer = SGD(lr=0.0000001)\n",
    "model6.compile(optimizer=optimizer, loss='categorical_crossentropy',\n",
    "              metrics=['accuracy'])"
   ]
  },
  {
   "cell_type": "code",
   "execution_count": 36,
   "metadata": {
    "scrolled": false
   },
   "outputs": [
    {
     "name": "stdout",
     "output_type": "stream",
     "text": [
      "Train on 60000 samples\n",
      "Epoch 1/20\n",
      "WARNING:tensorflow:Entity <function Function._initialize_uninitialized_variables.<locals>.initialize_variables at 0x0000016F310410D8> could not be transformed and will be executed as-is. Please report this to the AutoGraph team. When filing the bug, set the verbosity to 10 (on Linux, `export AUTOGRAPH_VERBOSITY=10`) and attach the full output. Cause: module 'gast' has no attribute 'Num'\n",
      "WARNING: Entity <function Function._initialize_uninitialized_variables.<locals>.initialize_variables at 0x0000016F310410D8> could not be transformed and will be executed as-is. Please report this to the AutoGraph team. When filing the bug, set the verbosity to 10 (on Linux, `export AUTOGRAPH_VERBOSITY=10`) and attach the full output. Cause: module 'gast' has no attribute 'Num'\n",
      "60000/60000 [==============================] - 1s 22us/sample - loss: 2.3746 - accuracy: 0.0896\n",
      "Epoch 2/20\n",
      "60000/60000 [==============================] - 1s 16us/sample - loss: 2.3746 - accuracy: 0.0896\n",
      "Epoch 3/20\n",
      "60000/60000 [==============================] - 1s 16us/sample - loss: 2.3746 - accuracy: 0.0895\n",
      "Epoch 4/20\n",
      "60000/60000 [==============================] - 1s 16us/sample - loss: 2.3745 - accuracy: 0.0895\n",
      "Epoch 5/20\n",
      "60000/60000 [==============================] - 1s 17us/sample - loss: 2.3745 - accuracy: 0.0895\n",
      "Epoch 6/20\n",
      "60000/60000 [==============================] - 1s 17us/sample - loss: 2.3745 - accuracy: 0.0895\n",
      "Epoch 7/20\n",
      "60000/60000 [==============================] - 1s 17us/sample - loss: 2.3745 - accuracy: 0.0895\n",
      "Epoch 8/20\n",
      "60000/60000 [==============================] - 1s 16us/sample - loss: 2.3744 - accuracy: 0.0895\n",
      "Epoch 9/20\n",
      "60000/60000 [==============================] - 1s 16us/sample - loss: 2.3744 - accuracy: 0.0896\n",
      "Epoch 10/20\n",
      "60000/60000 [==============================] - 1s 16us/sample - loss: 2.3744 - accuracy: 0.0896\n",
      "Epoch 11/20\n",
      "60000/60000 [==============================] - 1s 16us/sample - loss: 2.3744 - accuracy: 0.0896\n",
      "Epoch 12/20\n",
      "60000/60000 [==============================] - 1s 16us/sample - loss: 2.3743 - accuracy: 0.0896\n",
      "Epoch 13/20\n",
      "60000/60000 [==============================] - 1s 16us/sample - loss: 2.3743 - accuracy: 0.0896\n",
      "Epoch 14/20\n",
      "60000/60000 [==============================] - 1s 16us/sample - loss: 2.3743 - accuracy: 0.0895\n",
      "Epoch 15/20\n",
      "60000/60000 [==============================] - 1s 16us/sample - loss: 2.3743 - accuracy: 0.0896\n",
      "Epoch 16/20\n",
      "60000/60000 [==============================] - 1s 15us/sample - loss: 2.3743 - accuracy: 0.0896\n",
      "Epoch 17/20\n",
      "60000/60000 [==============================] - 1s 16us/sample - loss: 2.3742 - accuracy: 0.0896\n",
      "Epoch 18/20\n",
      "60000/60000 [==============================] - 1s 16us/sample - loss: 2.3742 - accuracy: 0.0896\n",
      "Epoch 19/20\n",
      "60000/60000 [==============================] - 1s 16us/sample - loss: 2.3742 - accuracy: 0.0896\n",
      "Epoch 20/20\n",
      "60000/60000 [==============================] - 1s 16us/sample - loss: 2.3742 - accuracy: 0.0896\n"
     ]
    },
    {
     "data": {
      "text/plain": [
       "<tensorflow.python.keras.callbacks.History at 0x16f31027dc8>"
      ]
     },
     "execution_count": 36,
     "metadata": {},
     "output_type": "execute_result"
    }
   ],
   "source": [
    "# Fit the model\n",
    "model6.fit(X_train, Y_train, batch_size=128, epochs=20, verbose=1)"
   ]
  },
  {
   "cell_type": "code",
   "execution_count": 37,
   "metadata": {},
   "outputs": [
    {
     "name": "stdout",
     "output_type": "stream",
     "text": [
      "Test score: 2.374887538909912\n",
      "Test accuracy: 0.0887\n"
     ]
    }
   ],
   "source": [
    "# Print the model results\n",
    "score = model6.evaluate(X_test, Y_test, verbose=0)\n",
    "print('Test score:', score[0])\n",
    "print('Test accuracy:', score[1])"
   ]
  },
  {
   "cell_type": "markdown",
   "metadata": {},
   "source": [
    "## Compare the results of each model with the result of the same model from the previous task. Which loss function performed best?"
   ]
  },
  {
   "cell_type": "markdown",
   "metadata": {},
   "source": [
    "* The learning rate of 0.01 performed the best, even though it is the default rate\n",
    "* Very high and very low learning rates performed poorly"
   ]
  },
  {
   "cell_type": "code",
   "execution_count": null,
   "metadata": {},
   "outputs": [],
   "source": []
  }
 ],
 "metadata": {
  "kernelspec": {
   "display_name": "Python 3",
   "language": "python",
   "name": "python3"
  },
  "language_info": {
   "codemirror_mode": {
    "name": "ipython",
    "version": 3
   },
   "file_extension": ".py",
   "mimetype": "text/x-python",
   "name": "python",
   "nbconvert_exporter": "python",
   "pygments_lexer": "ipython3",
   "version": "3.7.6"
  },
  "latex_envs": {
   "LaTeX_envs_menu_present": true,
   "autoclose": false,
   "autocomplete": true,
   "bibliofile": "biblio.bib",
   "cite_by": "apalike",
   "current_citInitial": 1,
   "eqLabelWithNumbers": true,
   "eqNumInitial": 1,
   "hotkeys": {
    "equation": "Ctrl-E",
    "itemize": "Ctrl-I"
   },
   "labels_anchors": false,
   "latex_user_defs": false,
   "report_style_numbering": false,
   "user_envs_cfg": false
  },
  "varInspector": {
   "cols": {
    "lenName": 16,
    "lenType": 16,
    "lenVar": 40
   },
   "kernels_config": {
    "python": {
     "delete_cmd_postfix": "",
     "delete_cmd_prefix": "del ",
     "library": "var_list.py",
     "varRefreshCmd": "print(var_dic_list())"
    },
    "r": {
     "delete_cmd_postfix": ") ",
     "delete_cmd_prefix": "rm(",
     "library": "var_list.r",
     "varRefreshCmd": "cat(var_dic_list()) "
    }
   },
   "types_to_exclude": [
    "module",
    "function",
    "builtin_function_or_method",
    "instance",
    "_Feature"
   ],
   "window_display": false
  }
 },
 "nbformat": 4,
 "nbformat_minor": 2
}
