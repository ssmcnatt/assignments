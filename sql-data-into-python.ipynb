{
 "cells": [
  {
   "cell_type": "code",
   "execution_count": 1,
   "metadata": {},
   "outputs": [],
   "source": [
    "# Create a Jupyter Notebook that uses SQLAlchemy to access a SQL database containing data about movies. \n",
    "# Use Python to answer some basic questions about the data.\n",
    "\n",
    "# Then, answer the following questions. You will need to read from the film and language tables.\n",
    "\n",
    "# Import the SQL ALchemy engine\n",
    "from sqlalchemy import create_engine\n",
    "from statistics import *\n",
    "\n",
    "# Database credentials\n",
    "postgres_user = 'dsbc_student'\n",
    "postgres_pw = '7*.8G9QH21'\n",
    "postgres_host = '142.93.121.174'\n",
    "postgres_port = '5432'\n",
    "postgres_db = 'dvdrentals'\n",
    "\n",
    "engine = create_engine('postgresql://{}:{}@{}:{}/{}'.format(\n",
    "    postgres_user, postgres_pw, postgres_host, postgres_port, postgres_db))"
   ]
  },
  {
   "cell_type": "code",
   "execution_count": 2,
   "metadata": {},
   "outputs": [
    {
     "name": "stdout",
     "output_type": "stream",
     "text": [
      "('R', 195)\n",
      "('NC-17', 210)\n",
      "('PG', 194)\n",
      "('PG-13', 223)\n",
      "('G', 178)\n"
     ]
    }
   ],
   "source": [
    "# How many movies are released for each rating?\n",
    "query = '''\n",
    "        SELECT rating, COUNT(*)\n",
    "        FROM film\n",
    "        GROUP BY rating;\n",
    "        '''\n",
    "ratings = engine.execute(query)\n",
    "engine.dispose()\n",
    "\n",
    "for row in ratings:\n",
    "  print(row)"
   ]
  },
  {
   "cell_type": "code",
   "execution_count": 3,
   "metadata": {},
   "outputs": [
    {
     "name": "stdout",
     "output_type": "stream",
     "text": [
      "R\t4.77\n",
      "NC-17\t5.14\n",
      "PG\t5.08\n",
      "PG-13\t5.05\n",
      "G\t4.84\n"
     ]
    }
   ],
   "source": [
    "# What is the average rental duration for each rating?\n",
    "query = '''\n",
    "        SELECT rating, AVG(rental_duration) AS avg\n",
    "        FROM film\n",
    "        GROUP BY rating;\n",
    "        '''\n",
    "durations = engine.execute(query)\n",
    "engine.dispose()\n",
    "\n",
    "for row in durations:\n",
    "  print(row['rating'] + '\\t' + str(round(row['avg'], 2)))"
   ]
  },
  {
   "cell_type": "code",
   "execution_count": 4,
   "metadata": {},
   "outputs": [
    {
     "name": "stdout",
     "output_type": "stream",
     "text": [
      "115.272\n"
     ]
    }
   ],
   "source": [
    "# What is the mean movie length? Calculate this by defining a function.\n",
    "def calc_mean():\n",
    "\n",
    "    query = '''\n",
    "            SELECT length\n",
    "            FROM film;\n",
    "            '''\n",
    "    results = engine.execute(query)\n",
    "    engine.dispose()\n",
    "    rows = results.fetchall()\n",
    "    \n",
    "    lengths = [row['length'] for row in rows]\n",
    "    \n",
    "    return mean(lengths);\n",
    "\n",
    "print(calc_mean())"
   ]
  },
  {
   "cell_type": "code",
   "execution_count": 9,
   "metadata": {},
   "outputs": [
    {
     "name": "stdout",
     "output_type": "stream",
     "text": [
      "40.4263318185598470\n"
     ]
    }
   ],
   "source": [
    "# Calculate the standard deviation of the movie lengths. Calculate this by defining a function.\n",
    "def calc_std():\n",
    "\n",
    "    query = '''\n",
    "            SELECT STDDEV(length)\n",
    "            FROM film;\n",
    "            '''\n",
    "    results = engine.execute(query)\n",
    "    engine.dispose()\n",
    "    rows = results.fetchall()[0][0]\n",
    "    \n",
    "    return rows;\n",
    "\n",
    "print(calc_std())"
   ]
  },
  {
   "cell_type": "code",
   "execution_count": null,
   "metadata": {},
   "outputs": [],
   "source": []
  }
 ],
 "metadata": {
  "kernelspec": {
   "display_name": "Python 3",
   "language": "python",
   "name": "python3"
  },
  "language_info": {
   "codemirror_mode": {
    "name": "ipython",
    "version": 3
   },
   "file_extension": ".py",
   "mimetype": "text/x-python",
   "name": "python",
   "nbconvert_exporter": "python",
   "pygments_lexer": "ipython3",
   "version": "3.7.6"
  }
 },
 "nbformat": 4,
 "nbformat_minor": 4
}
