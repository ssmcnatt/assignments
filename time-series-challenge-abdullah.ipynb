{
 "cells": [
  {
   "cell_type": "markdown",
   "metadata": {},
   "source": [
    "# Using a different time series dataset (either from FRED or elsewhere), go about the process of time series modeling. Specifically, generate the following deliverables:"
   ]
  },
  {
   "cell_type": "code",
   "execution_count": 1,
   "metadata": {},
   "outputs": [
    {
     "name": "stdout",
     "output_type": "stream",
     "text": [
      "Requirement already satisfied: yfinance in c:\\users\\steve\\anaconda3\\lib\\site-packages (0.1.55)\n",
      "Requirement already satisfied: multitasking>=0.0.7 in c:\\users\\steve\\anaconda3\\lib\\site-packages (from yfinance) (0.0.9)\n",
      "Requirement already satisfied: numpy>=1.15 in c:\\users\\steve\\anaconda3\\lib\\site-packages (from yfinance) (1.18.5)\n",
      "Requirement already satisfied: lxml>=4.5.1 in c:\\users\\steve\\anaconda3\\lib\\site-packages (from yfinance) (4.5.2)\n",
      "Requirement already satisfied: pandas>=0.24 in c:\\users\\steve\\anaconda3\\lib\\site-packages (from yfinance) (1.0.5)\n",
      "Requirement already satisfied: requests>=2.20 in c:\\users\\steve\\anaconda3\\lib\\site-packages (from yfinance) (2.24.0)\n",
      "Requirement already satisfied: python-dateutil>=2.6.1 in c:\\users\\steve\\appdata\\roaming\\python\\python38\\site-packages (from pandas>=0.24->yfinance) (2.8.1)\n",
      "Requirement already satisfied: pytz>=2017.2 in c:\\users\\steve\\anaconda3\\lib\\site-packages (from pandas>=0.24->yfinance) (2020.1)\n",
      "Requirement already satisfied: chardet<4,>=3.0.2 in c:\\users\\steve\\anaconda3\\lib\\site-packages (from requests>=2.20->yfinance) (3.0.4)\n",
      "Requirement already satisfied: certifi>=2017.4.17 in c:\\users\\steve\\anaconda3\\lib\\site-packages (from requests>=2.20->yfinance) (2020.6.20)\n",
      "Requirement already satisfied: idna<3,>=2.5 in c:\\users\\steve\\anaconda3\\lib\\site-packages (from requests>=2.20->yfinance) (2.10)\n",
      "Requirement already satisfied: urllib3!=1.25.0,!=1.25.1,<1.26,>=1.21.1 in c:\\users\\steve\\anaconda3\\lib\\site-packages (from requests>=2.20->yfinance) (1.25.9)\n",
      "Requirement already satisfied: six>=1.5 in c:\\users\\steve\\appdata\\roaming\\python\\python38\\site-packages (from python-dateutil>=2.6.1->pandas>=0.24->yfinance) (1.15.0)\n"
     ]
    }
   ],
   "source": [
    "!pip install yfinance"
   ]
  },
  {
   "cell_type": "code",
   "execution_count": 2,
   "metadata": {},
   "outputs": [],
   "source": [
    "import numpy as np\n",
    "import pandas as pd\n",
    "import scipy\n",
    "import plotly.express as px\n",
    "from datetime import datetime\n",
    "import datetime as dt\n",
    "import matplotlib.pyplot as plt\n",
    "\n",
    "from statsmodels.tsa.stattools import pacf, acf\n",
    "from statsmodels.tsa.arima_model import ARIMA\n",
    "\n",
    "import yfinance as yf\n",
    "\n",
    "import warnings\n",
    "warnings.filterwarnings(\"ignore\")\n",
    "\n",
    "%matplotlib inline"
   ]
  },
  {
   "cell_type": "code",
   "execution_count": 3,
   "metadata": {},
   "outputs": [],
   "source": [
    "def ilinechart(df, x, y, groups=None, title=''):\n",
    "    fig = px.line(df, x=x, y=y, color=groups, title=title, \n",
    "                  template='none').update(layout=dict(title=dict(x=0.5)))\n",
    "    \n",
    "    fig.show()"
   ]
  },
  {
   "cell_type": "code",
   "execution_count": 4,
   "metadata": {},
   "outputs": [
    {
     "data": {
      "text/html": [
       "<div>\n",
       "<style scoped>\n",
       "    .dataframe tbody tr th:only-of-type {\n",
       "        vertical-align: middle;\n",
       "    }\n",
       "\n",
       "    .dataframe tbody tr th {\n",
       "        vertical-align: top;\n",
       "    }\n",
       "\n",
       "    .dataframe thead th {\n",
       "        text-align: right;\n",
       "    }\n",
       "</style>\n",
       "<table border=\"1\" class=\"dataframe\">\n",
       "  <thead>\n",
       "    <tr style=\"text-align: right;\">\n",
       "      <th></th>\n",
       "      <th>date</th>\n",
       "      <th>open</th>\n",
       "      <th>high</th>\n",
       "      <th>low</th>\n",
       "      <th>close</th>\n",
       "      <th>volume</th>\n",
       "      <th>Name</th>\n",
       "    </tr>\n",
       "  </thead>\n",
       "  <tbody>\n",
       "    <tr>\n",
       "      <th>0</th>\n",
       "      <td>2013-02-08</td>\n",
       "      <td>261.40</td>\n",
       "      <td>265.25</td>\n",
       "      <td>260.555</td>\n",
       "      <td>261.95</td>\n",
       "      <td>3879078</td>\n",
       "      <td>AMZN</td>\n",
       "    </tr>\n",
       "    <tr>\n",
       "      <th>1</th>\n",
       "      <td>2013-02-11</td>\n",
       "      <td>263.20</td>\n",
       "      <td>263.25</td>\n",
       "      <td>256.600</td>\n",
       "      <td>257.21</td>\n",
       "      <td>3403403</td>\n",
       "      <td>AMZN</td>\n",
       "    </tr>\n",
       "    <tr>\n",
       "      <th>2</th>\n",
       "      <td>2013-02-12</td>\n",
       "      <td>259.19</td>\n",
       "      <td>260.16</td>\n",
       "      <td>257.000</td>\n",
       "      <td>258.70</td>\n",
       "      <td>2938660</td>\n",
       "      <td>AMZN</td>\n",
       "    </tr>\n",
       "    <tr>\n",
       "      <th>3</th>\n",
       "      <td>2013-02-13</td>\n",
       "      <td>261.53</td>\n",
       "      <td>269.96</td>\n",
       "      <td>260.300</td>\n",
       "      <td>269.47</td>\n",
       "      <td>5292996</td>\n",
       "      <td>AMZN</td>\n",
       "    </tr>\n",
       "    <tr>\n",
       "      <th>4</th>\n",
       "      <td>2013-02-14</td>\n",
       "      <td>267.37</td>\n",
       "      <td>270.65</td>\n",
       "      <td>265.400</td>\n",
       "      <td>269.24</td>\n",
       "      <td>3462780</td>\n",
       "      <td>AMZN</td>\n",
       "    </tr>\n",
       "  </tbody>\n",
       "</table>\n",
       "</div>"
      ],
      "text/plain": [
       "         date    open    high      low   close   volume  Name\n",
       "0  2013-02-08  261.40  265.25  260.555  261.95  3879078  AMZN\n",
       "1  2013-02-11  263.20  263.25  256.600  257.21  3403403  AMZN\n",
       "2  2013-02-12  259.19  260.16  257.000  258.70  2938660  AMZN\n",
       "3  2013-02-13  261.53  269.96  260.300  269.47  5292996  AMZN\n",
       "4  2013-02-14  267.37  270.65  265.400  269.24  3462780  AMZN"
      ]
     },
     "execution_count": 4,
     "metadata": {},
     "output_type": "execute_result"
    }
   ],
   "source": [
    "amazon = pd.read_csv('data/AMZN_data.csv')\n",
    "amazon.head()"
   ]
  },
  {
   "cell_type": "code",
   "execution_count": 7,
   "metadata": {},
   "outputs": [
    {
     "name": "stdout",
     "output_type": "stream",
     "text": [
      "[*********************100%***********************]  1 of 1 downloaded\n"
     ]
    }
   ],
   "source": [
    "amazon = yf.download('AMZN', start='2013-01-01',end='2020-04-05',interval='1d')"
   ]
  },
  {
   "cell_type": "markdown",
   "metadata": {},
   "source": [
    "# Plot the time series, along with any logical or necessary differences to get a stationary dataset."
   ]
  },
  {
   "cell_type": "code",
   "execution_count": 8,
   "metadata": {},
   "outputs": [],
   "source": [
    "amazon['diff'] = amazon['Close'] - amazon['Close'].shift()\n",
    "amazon = amazon.dropna()"
   ]
  },
  {
   "cell_type": "markdown",
   "metadata": {},
   "source": [
    "# Generate and interpret a PACF for the time series (and/or its differences)."
   ]
  },
  {
   "cell_type": "code",
   "execution_count": 8,
   "metadata": {},
   "outputs": [
    {
     "data": {
      "text/plain": [
       "<matplotlib.axes._subplots.AxesSubplot at 0x19856ce2970>"
      ]
     },
     "execution_count": 8,
     "metadata": {},
     "output_type": "execute_result"
    },
    {
     "data": {
      "image/png": "[encoded data removed]",
      "text/plain": [
       "<Figure size 432x288 with 1 Axes>"
      ]
     },
     "metadata": {
      "needs_background": "light"
     },
     "output_type": "display_data"
    }
   ],
   "source": [
    "x_acf = pd.DataFrame(pacf(amazon['close']))\n",
    "x_acf.plot(kind='bar')"
   ]
  },
  {
   "cell_type": "code",
   "execution_count": 17,
   "metadata": {},
   "outputs": [
    {
     "data": {
      "text/plain": [
       "<matplotlib.axes._subplots.AxesSubplot at 0x1985773cee0>"
      ]
     },
     "execution_count": 17,
     "metadata": {},
     "output_type": "execute_result"
    },
    {
     "data": {
      "image/png": "[encoded data removed]",
      "text/plain": [
       "<Figure size 432x288 with 1 Axes>"
      ]
     },
     "metadata": {
      "needs_background": "light"
     },
     "output_type": "display_data"
    }
   ],
   "source": [
    "x_acf = pd.DataFrame(acf(amazon['close'].diff().dropna()))\n",
    "x_acf.plot(kind='bar')"
   ]
  },
  {
   "cell_type": "markdown",
   "metadata": {},
   "source": [
    "# Generate five ARIMA specifications and evaluate their efficacy at modeling your data."
   ]
  },
  {
   "cell_type": "code",
   "execution_count": 9,
   "metadata": {},
   "outputs": [
    {
     "name": "stdout",
     "output_type": "stream",
     "text": [
      "                             ARIMA Model Results                              \n",
      "==============================================================================\n",
      "Dep. Variable:                D.Close   No. Observations:                 1826\n",
      "Model:                 ARIMA(6, 1, 3)   Log Likelihood               -8114.025\n",
      "Method:                       css-mle   S.D. of innovations             20.586\n",
      "Date:                Thu, 05 Nov 2020   AIC                          16250.049\n",
      "Time:                        01:03:43   BIC                          16310.658\n",
      "Sample:                             1   HQIC                         16272.406\n",
      "                                                                              \n",
      "=================================================================================\n",
      "                    coef    std err          z      P>|z|      [0.025      0.975]\n",
      "---------------------------------------------------------------------------------\n",
      "const             0.9065      0.368      2.465      0.014       0.186       1.627\n",
      "ar.L1.D.Close    -0.6569      0.141     -4.672      0.000      -0.932      -0.381\n",
      "ar.L2.D.Close     0.7156      0.105      6.847      0.000       0.511       0.920\n",
      "ar.L3.D.Close     0.6517      0.123      5.312      0.000       0.411       0.892\n",
      "ar.L4.D.Close     0.0187      0.035      0.536      0.592      -0.050       0.087\n",
      "ar.L5.D.Close    -0.0110      0.031     -0.356      0.722      -0.072       0.050\n",
      "ar.L6.D.Close    -0.0522      0.030     -1.719      0.086      -0.112       0.007\n",
      "ma.L1.D.Close     0.5901      0.139      4.236      0.000       0.317       0.863\n",
      "ma.L2.D.Close    -0.7523      0.099     -7.587      0.000      -0.947      -0.558\n",
      "ma.L3.D.Close    -0.5833      0.116     -5.031      0.000      -0.811      -0.356\n",
      "                                    Roots                                    \n",
      "=============================================================================\n",
      "                  Real          Imaginary           Modulus         Frequency\n",
      "-----------------------------------------------------------------------------\n",
      "AR.1           -1.0544           -0.4004j            1.1279           -0.4422\n",
      "AR.2           -1.0544           +0.4004j            1.1279            0.4422\n",
      "AR.3            1.1253           -0.0000j            1.1253           -0.0000\n",
      "AR.4           -0.8273           -2.1986j            2.3491           -0.3073\n",
      "AR.5           -0.8273           +2.1986j            2.3491            0.3073\n",
      "AR.6            2.4269           -0.0000j            2.4269           -0.0000\n",
      "MA.1            1.0881           -0.0000j            1.0881           -0.0000\n",
      "MA.2           -1.1889           -0.4027j            1.2552           -0.4480\n",
      "MA.3           -1.1889           +0.4027j            1.2552            0.4480\n",
      "-----------------------------------------------------------------------------\n",
      "Residuals Description\n",
      "count    1826.000000\n",
      "mean       -0.000498\n",
      "std        20.591913\n",
      "min      -141.615433\n",
      "25%        -5.666872\n",
      "50%        -0.200638\n",
      "75%         6.436506\n",
      "max       139.765476\n",
      "dtype: float64\n"
     ]
    }
   ],
   "source": [
    "model = ARIMA(amazon['Close'], order=(6,1,3))\n",
    "model_fit = model.fit()\n",
    "print(model_fit.summary())\n",
    "print('Residuals Description')\n",
    "print(model_fit.resid.describe())"
   ]
  },
  {
   "cell_type": "code",
   "execution_count": 10,
   "metadata": {},
   "outputs": [
    {
     "name": "stdout",
     "output_type": "stream",
     "text": [
      "                              ARMA Model Results                              \n",
      "==============================================================================\n",
      "Dep. Variable:                   diff   No. Observations:                 1827\n",
      "Model:                     ARMA(1, 1)   Log Likelihood               -8135.316\n",
      "Method:                       css-mle   S.D. of innovations             20.778\n",
      "Date:                Thu, 05 Nov 2020   AIC                          16278.632\n",
      "Time:                        01:03:46   BIC                          16300.673\n",
      "Sample:                             0   HQIC                         16286.762\n",
      "                                                                              \n",
      "==============================================================================\n",
      "                 coef    std err          z      P>|z|      [0.025      0.975]\n",
      "------------------------------------------------------------------------------\n",
      "const          0.9066      0.453      1.999      0.046       0.018       1.795\n",
      "ar.L1.diff    -0.2097      0.213     -0.987      0.324      -0.626       0.207\n",
      "ma.L1.diff     0.1285      0.215      0.597      0.550      -0.293       0.550\n",
      "                                    Roots                                    \n",
      "=============================================================================\n",
      "                  Real          Imaginary           Modulus         Frequency\n",
      "-----------------------------------------------------------------------------\n",
      "AR.1           -4.7678           +0.0000j            4.7678            0.5000\n",
      "MA.1           -7.7839           +0.0000j            7.7839            0.5000\n",
      "-----------------------------------------------------------------------------\n",
      "Residuals Description\n",
      "count    1827.000000\n",
      "mean        0.000220\n",
      "std        20.783531\n",
      "min      -152.073249\n",
      "25%        -5.654242\n",
      "50%        -0.125487\n",
      "75%         6.394404\n",
      "max       138.087656\n",
      "dtype: float64\n"
     ]
    }
   ],
   "source": [
    "model = ARIMA(amazon['diff'], order=(1,0,1))\n",
    "model_fit = model.fit()\n",
    "print(model_fit.summary())\n",
    "print('Residuals Description')\n",
    "print(model_fit.resid.describe())"
   ]
  },
  {
   "cell_type": "code",
   "execution_count": 11,
   "metadata": {},
   "outputs": [
    {
     "name": "stdout",
     "output_type": "stream",
     "text": [
      "                             ARIMA Model Results                              \n",
      "==============================================================================\n",
      "Dep. Variable:                D.Close   No. Observations:                 1826\n",
      "Model:                 ARIMA(1, 1, 1)   Log Likelihood               -8131.327\n",
      "Method:                       css-mle   S.D. of innovations             20.783\n",
      "Date:                Thu, 05 Nov 2020   AIC                          16270.654\n",
      "Time:                        01:03:50   BIC                          16292.693\n",
      "Sample:                             1   HQIC                         16278.784\n",
      "                                                                              \n",
      "=================================================================================\n",
      "                    coef    std err          z      P>|z|      [0.025      0.975]\n",
      "---------------------------------------------------------------------------------\n",
      "const             0.9038      0.454      1.992      0.046       0.015       1.793\n",
      "ar.L1.D.Close    -0.2099      0.213     -0.987      0.324      -0.627       0.207\n",
      "ma.L1.D.Close     0.1286      0.215      0.597      0.550      -0.293       0.550\n",
      "                                    Roots                                    \n",
      "=============================================================================\n",
      "                  Real          Imaginary           Modulus         Frequency\n",
      "-----------------------------------------------------------------------------\n",
      "AR.1           -4.7653           +0.0000j            4.7653            0.5000\n",
      "MA.1           -7.7772           +0.0000j            7.7772            0.5000\n",
      "-----------------------------------------------------------------------------\n",
      "Residuals Description\n",
      "count    1826.000000\n",
      "mean       -0.000015\n",
      "std        20.788813\n",
      "min      -152.071351\n",
      "25%        -5.653286\n",
      "50%        -0.130872\n",
      "75%         6.409862\n",
      "max       138.090717\n",
      "dtype: float64\n"
     ]
    }
   ],
   "source": [
    "model = ARIMA(amazon['Close'], order=(1,1,1))\n",
    "model_fit = model.fit()\n",
    "print(model_fit.summary())\n",
    "print('Residuals Description')\n",
    "print(model_fit.resid.describe())"
   ]
  },
  {
   "cell_type": "code",
   "execution_count": 12,
   "metadata": {},
   "outputs": [
    {
     "name": "stdout",
     "output_type": "stream",
     "text": [
      "                             ARIMA Model Results                              \n",
      "==============================================================================\n",
      "Dep. Variable:                D.Close   No. Observations:                 1826\n",
      "Model:                 ARIMA(5, 1, 5)   Log Likelihood               -8106.944\n",
      "Method:                       css-mle   S.D. of innovations             20.480\n",
      "Date:                Thu, 05 Nov 2020   AIC                          16237.887\n",
      "Time:                        01:04:05   BIC                          16304.006\n",
      "Sample:                             1   HQIC                         16262.276\n",
      "                                                                              \n",
      "=================================================================================\n",
      "                    coef    std err          z      P>|z|      [0.025      0.975]\n",
      "---------------------------------------------------------------------------------\n",
      "const             0.9038      0.457      1.976      0.048       0.007       1.800\n",
      "ar.L1.D.Close    -1.4669      0.107    -13.670      0.000      -1.677      -1.257\n",
      "ar.L2.D.Close    -0.3571      0.092     -3.883      0.000      -0.537      -0.177\n",
      "ar.L3.D.Close    -0.6989      0.026    -27.197      0.000      -0.749      -0.649\n",
      "ar.L4.D.Close    -1.4773      0.090    -16.501      0.000      -1.653      -1.302\n",
      "ar.L5.D.Close    -0.6507      0.104     -6.260      0.000      -0.854      -0.447\n",
      "ma.L1.D.Close     1.3913      0.114     12.202      0.000       1.168       1.615\n",
      "ma.L2.D.Close     0.2535      0.096      2.630      0.009       0.065       0.442\n",
      "ma.L3.D.Close     0.7163      0.028     25.717      0.000       0.662       0.771\n",
      "ma.L4.D.Close     1.4518      0.097     14.965      0.000       1.262       1.642\n",
      "ma.L5.D.Close     0.5807      0.113      5.117      0.000       0.358       0.803\n",
      "                                    Roots                                    \n",
      "=============================================================================\n",
      "                  Real          Imaginary           Modulus         Frequency\n",
      "-----------------------------------------------------------------------------\n",
      "AR.1            0.5656           -0.8340j            1.0077           -0.1552\n",
      "AR.2            0.5656           +0.8340j            1.0077            0.1552\n",
      "AR.3           -1.1278           -0.0000j            1.1278           -0.5000\n",
      "AR.4           -1.1368           -0.2228j            1.1585           -0.4692\n",
      "AR.5           -1.1368           +0.2228j            1.1585            0.4692\n",
      "MA.1            0.5660           -0.8245j            1.0001           -0.1543\n",
      "MA.2            0.5660           +0.8245j            1.0001            0.1543\n",
      "MA.3           -1.0610           -0.1210j            1.0678           -0.4819\n",
      "MA.4           -1.0610           +0.1210j            1.0678            0.4819\n",
      "MA.5           -1.5101           -0.0000j            1.5101           -0.5000\n",
      "-----------------------------------------------------------------------------\n",
      "Residuals Description\n",
      "count    1826.000000\n",
      "mean       -0.000985\n",
      "std        20.498289\n",
      "min      -140.533785\n",
      "25%        -5.861898\n",
      "50%        -0.402340\n",
      "75%         6.315172\n",
      "max       129.785615\n",
      "dtype: float64\n"
     ]
    }
   ],
   "source": [
    "model = ARIMA(amazon['Close'], order=(5, 1, 5))\n",
    "model_fit = model.fit()\n",
    "print(model_fit.summary())\n",
    "print('Residuals Description')\n",
    "print(model_fit.resid.describe())"
   ]
  },
  {
   "cell_type": "code",
   "execution_count": 13,
   "metadata": {},
   "outputs": [
    {
     "name": "stdout",
     "output_type": "stream",
     "text": [
      "                             ARIMA Model Results                              \n",
      "==============================================================================\n",
      "Dep. Variable:               D2.Close   No. Observations:                 1825\n",
      "Model:                 ARIMA(1, 2, 1)   Log Likelihood               -8131.142\n",
      "Method:                       css-mle   S.D. of innovations             20.788\n",
      "Date:                Thu, 05 Nov 2020   AIC                          16270.283\n",
      "Time:                        01:04:06   BIC                          16292.321\n",
      "Sample:                             2   HQIC                         16278.413\n",
      "                                                                              \n",
      "==================================================================================\n",
      "                     coef    std err          z      P>|z|      [0.025      0.975]\n",
      "----------------------------------------------------------------------------------\n",
      "const              0.0006      0.001      0.670      0.503      -0.001       0.002\n",
      "ar.L1.D2.Close    -0.0815      0.023     -3.494      0.000      -0.127      -0.036\n",
      "ma.L1.D2.Close    -1.0000      0.002   -634.713      0.000      -1.003      -0.997\n",
      "                                    Roots                                    \n",
      "=============================================================================\n",
      "                  Real          Imaginary           Modulus         Frequency\n",
      "-----------------------------------------------------------------------------\n",
      "AR.1          -12.2683           +0.0000j           12.2683            0.5000\n",
      "MA.1            1.0000           +0.0000j            1.0000            0.0000\n",
      "-----------------------------------------------------------------------------\n",
      "Residuals Description\n",
      "count    1825.000000\n",
      "mean        0.069181\n",
      "std        20.803111\n",
      "min      -151.532035\n",
      "25%        -5.371043\n",
      "50%         0.215256\n",
      "75%         6.553647\n",
      "max       137.543024\n",
      "dtype: float64\n"
     ]
    }
   ],
   "source": [
    "model = ARIMA(amazon['Close'], order=(1, 2, 1))\n",
    "model_fit = model.fit()\n",
    "print(model_fit.summary())\n",
    "print('Residuals Description')\n",
    "print(model_fit.resid.describe())"
   ]
  },
  {
   "cell_type": "markdown",
   "metadata": {},
   "source": [
    "# Finally, choose one specification and make a case for it as a logical model for your dataset."
   ]
  },
  {
   "cell_type": "code",
   "execution_count": 30,
   "metadata": {},
   "outputs": [
    {
     "data": {
      "text/plain": [
       "date\n",
       "2013-02-11     257.21\n",
       "2013-02-12     258.70\n",
       "2013-02-13     269.47\n",
       "2013-02-14     269.24\n",
       "2013-02-15     265.09\n",
       "               ...   \n",
       "2018-02-01    1390.00\n",
       "2018-02-02    1429.95\n",
       "2018-02-05    1390.00\n",
       "2018-02-06    1442.84\n",
       "2018-02-07    1416.78\n",
       "Name: close, Length: 1258, dtype: float64"
      ]
     },
     "execution_count": 30,
     "metadata": {},
     "output_type": "execute_result"
    }
   ],
   "source": [
    "indx = amazon.set_index('date')\n",
    "df = indx['close']\n",
    "df"
   ]
  },
  {
   "cell_type": "code",
   "execution_count": 14,
   "metadata": {},
   "outputs": [
    {
     "data": {
      "text/plain": [
       "Date\n",
       "2013-01-02    257.31\n",
       "2013-01-03    258.48\n",
       "2013-01-04    259.15\n",
       "2013-01-07    268.46\n",
       "2013-01-08    266.38\n",
       "               ...  \n",
       "2017-01-26    839.15\n",
       "2017-01-27    835.77\n",
       "2017-01-30    830.38\n",
       "2017-01-31    823.48\n",
       "2017-02-01    832.35\n",
       "Name: Close, Length: 1029, dtype: float64"
      ]
     },
     "execution_count": 14,
     "metadata": {},
     "output_type": "execute_result"
    }
   ],
   "source": [
    "split_date='2017-02-01'\n",
    "train_df=amazon['Close'][:split_date]\n",
    "train_df"
   ]
  },
  {
   "cell_type": "code",
   "execution_count": 15,
   "metadata": {},
   "outputs": [
    {
     "data": {
      "text/plain": [
       "Date\n",
       "2017-02-01     832.35\n",
       "2017-02-02     839.95\n",
       "2017-02-03     810.20\n",
       "2017-02-06     807.64\n",
       "2017-02-07     812.50\n",
       "               ...   \n",
       "2020-03-30    1963.95\n",
       "2020-03-31    1949.72\n",
       "2020-04-01    1907.70\n",
       "2020-04-02    1918.83\n",
       "2020-04-03    1906.59\n",
       "Name: Close, Length: 799, dtype: float64"
      ]
     },
     "execution_count": 15,
     "metadata": {},
     "output_type": "execute_result"
    }
   ],
   "source": [
    "test_df = amazon['Close'][split_date:]\n",
    "test_df"
   ]
  },
  {
   "cell_type": "code",
   "execution_count": 16,
   "metadata": {},
   "outputs": [
    {
     "data": {
      "text/plain": [
       "Text(0.5, 1.0, 'Histogram of Residuals')"
      ]
     },
     "execution_count": 16,
     "metadata": {},
     "output_type": "execute_result"
    },
    {
     "data": {
      "image/png": "[encoded data removed]",
      "text/plain": [
       "<Figure size 432x288 with 1 Axes>"
      ]
     },
     "metadata": {
      "needs_background": "light"
     },
     "output_type": "display_data"
    },
    {
     "data": {
      "image/png": "[encoded data removed]",
      "text/plain": [
       "<Figure size 432x288 with 1 Axes>"
      ]
     },
     "metadata": {
      "needs_background": "light"
     },
     "output_type": "display_data"
    }
   ],
   "source": [
    "model = ARIMA(train_df, order=(6, 1, 3))\n",
    "model_fit = model.fit()\n",
    "\n",
    "residuals = pd.DataFrame(model_fit.resid)\n",
    "\n",
    "residuals.plot(legend=False)\n",
    "plt.title('Time Series of Residuals')\n",
    "\n",
    "residuals.hist(bins=20)\n",
    "plt.title('Histogram of Residuals')"
   ]
  },
  {
   "cell_type": "code",
   "execution_count": 45,
   "metadata": {},
   "outputs": [
    {
     "data": {
      "text/plain": [
       "257"
      ]
     },
     "execution_count": 45,
     "metadata": {},
     "output_type": "execute_result"
    }
   ],
   "source": [
    "len(test_df)"
   ]
  },
  {
   "cell_type": "code",
   "execution_count": null,
   "metadata": {},
   "outputs": [],
   "source": [
    "arma_predictions_fb= arma_fitted_fb.predict(start=len(fcb_close[:-50]), \n",
    "                                   end=len(fcb_close[:-50])+len(fcb_close[-50:])-1,dynamic=False)"
   ]
  },
  {
   "cell_type": "code",
   "execution_count": 24,
   "metadata": {
    "scrolled": false
   },
   "outputs": [
    {
     "data": {
      "text/plain": [
       "1028    0.829844\n",
       "1029    0.532677\n",
       "1030    0.471597\n",
       "1031    0.925025\n",
       "1032   -0.025621\n",
       "          ...   \n",
       "1822    0.562136\n",
       "1823    0.557856\n",
       "1824    0.557315\n",
       "1825    0.561764\n",
       "1826    0.560405\n",
       "Length: 799, dtype: float64"
      ]
     },
     "execution_count": 24,
     "metadata": {},
     "output_type": "execute_result"
    }
   ],
   "source": [
    "model_fit.predict(start=len(train_df), \n",
    "              end=len(train_df)+len(test_df)-1,dynamic=False)\n"
   ]
  },
  {
   "cell_type": "code",
   "execution_count": null,
   "metadata": {},
   "outputs": [],
   "source": []
  },
  {
   "cell_type": "code",
   "execution_count": null,
   "metadata": {},
   "outputs": [],
   "source": []
  }
 ],
 "metadata": {
  "kernelspec": {
   "display_name": "Python 3",
   "language": "python",
   "name": "python3"
  },
  "language_info": {
   "codemirror_mode": {
    "name": "ipython",
    "version": 3
   },
   "file_extension": ".py",
   "mimetype": "text/x-python",
   "name": "python",
   "nbconvert_exporter": "python",
   "pygments_lexer": "ipython3",
   "version": "3.7.3"
  }
 },
 "nbformat": 4,
 "nbformat_minor": 4
}
