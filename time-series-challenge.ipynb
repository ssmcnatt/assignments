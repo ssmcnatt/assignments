{
 "cells": [
  {
   "cell_type": "markdown",
   "metadata": {},
   "source": [
    "# Using a different time series dataset (either from FRED or elsewhere), go about the process of time series modeling. Specifically, generate the following deliverables:"
   ]
  },
  {
   "cell_type": "code",
   "execution_count": 1,
   "metadata": {},
   "outputs": [],
   "source": [
    "#!pip install yfinance\n",
    "#!pip install plotly"
   ]
  },
  {
   "cell_type": "code",
   "execution_count": 2,
   "metadata": {},
   "outputs": [],
   "source": [
    "import numpy as np\n",
    "import pandas as pd\n",
    "import scipy\n",
    "import plotly.express as px\n",
    "from datetime import datetime\n",
    "import datetime as dt\n",
    "import matplotlib.pyplot as plt\n",
    "\n",
    "from statsmodels.tsa.stattools import pacf, acf\n",
    "from statsmodels.tsa.arima_model import ARIMA\n",
    "\n",
    "import yfinance as yf\n",
    "\n",
    "import warnings\n",
    "warnings.filterwarnings(\"ignore\")\n",
    "\n",
    "%matplotlib inline"
   ]
  },
  {
   "cell_type": "code",
   "execution_count": 3,
   "metadata": {},
   "outputs": [],
   "source": [
    "def ilinechart(df, x, y, groups=None, title=''):\n",
    "    fig = px.line(df, x=x, y=y, color=groups, title=title, \n",
    "                  template='none').update(layout=dict(title=dict(x=0.5)))\n",
    "    \n",
    "    fig.show()"
   ]
  },
  {
   "cell_type": "code",
   "execution_count": 4,
   "metadata": {},
   "outputs": [],
   "source": [
    "# amazon = pd.read_csv('data/AMZN_data.csv')\n",
    "# amazon.head()"
   ]
  },
  {
   "cell_type": "code",
   "execution_count": 5,
   "metadata": {},
   "outputs": [
    {
     "name": "stdout",
     "output_type": "stream",
     "text": [
      "[*********************100%***********************]  1 of 1 completed\n"
     ]
    },
    {
     "data": {
      "text/html": [
       "<div>\n",
       "<style scoped>\n",
       "    .dataframe tbody tr th:only-of-type {\n",
       "        vertical-align: middle;\n",
       "    }\n",
       "\n",
       "    .dataframe tbody tr th {\n",
       "        vertical-align: top;\n",
       "    }\n",
       "\n",
       "    .dataframe thead th {\n",
       "        text-align: right;\n",
       "    }\n",
       "</style>\n",
       "<table border=\"1\" class=\"dataframe\">\n",
       "  <thead>\n",
       "    <tr style=\"text-align: right;\">\n",
       "      <th></th>\n",
       "      <th>Open</th>\n",
       "      <th>High</th>\n",
       "      <th>Low</th>\n",
       "      <th>Close</th>\n",
       "      <th>Adj Close</th>\n",
       "      <th>Volume</th>\n",
       "    </tr>\n",
       "    <tr>\n",
       "      <th>Date</th>\n",
       "      <th></th>\n",
       "      <th></th>\n",
       "      <th></th>\n",
       "      <th></th>\n",
       "      <th></th>\n",
       "      <th></th>\n",
       "    </tr>\n",
       "  </thead>\n",
       "  <tbody>\n",
       "    <tr>\n",
       "      <th>2013-01-02</th>\n",
       "      <td>256.079987</td>\n",
       "      <td>258.100006</td>\n",
       "      <td>253.259995</td>\n",
       "      <td>257.309998</td>\n",
       "      <td>257.309998</td>\n",
       "      <td>3271000</td>\n",
       "    </tr>\n",
       "    <tr>\n",
       "      <th>2013-01-03</th>\n",
       "      <td>257.269989</td>\n",
       "      <td>260.880005</td>\n",
       "      <td>256.369995</td>\n",
       "      <td>258.480011</td>\n",
       "      <td>258.480011</td>\n",
       "      <td>2750900</td>\n",
       "    </tr>\n",
       "    <tr>\n",
       "      <th>2013-01-04</th>\n",
       "      <td>257.579987</td>\n",
       "      <td>259.799988</td>\n",
       "      <td>256.649994</td>\n",
       "      <td>259.149994</td>\n",
       "      <td>259.149994</td>\n",
       "      <td>1874200</td>\n",
       "    </tr>\n",
       "    <tr>\n",
       "      <th>2013-01-07</th>\n",
       "      <td>262.970001</td>\n",
       "      <td>269.730011</td>\n",
       "      <td>262.670013</td>\n",
       "      <td>268.459991</td>\n",
       "      <td>268.459991</td>\n",
       "      <td>4910000</td>\n",
       "    </tr>\n",
       "    <tr>\n",
       "      <th>2013-01-08</th>\n",
       "      <td>267.070007</td>\n",
       "      <td>268.980011</td>\n",
       "      <td>263.570007</td>\n",
       "      <td>266.380005</td>\n",
       "      <td>266.380005</td>\n",
       "      <td>3010700</td>\n",
       "    </tr>\n",
       "  </tbody>\n",
       "</table>\n",
       "</div>"
      ],
      "text/plain": [
       "                  Open        High         Low       Close   Adj Close  \\\n",
       "Date                                                                     \n",
       "2013-01-02  256.079987  258.100006  253.259995  257.309998  257.309998   \n",
       "2013-01-03  257.269989  260.880005  256.369995  258.480011  258.480011   \n",
       "2013-01-04  257.579987  259.799988  256.649994  259.149994  259.149994   \n",
       "2013-01-07  262.970001  269.730011  262.670013  268.459991  268.459991   \n",
       "2013-01-08  267.070007  268.980011  263.570007  266.380005  266.380005   \n",
       "\n",
       "             Volume  \n",
       "Date                 \n",
       "2013-01-02  3271000  \n",
       "2013-01-03  2750900  \n",
       "2013-01-04  1874200  \n",
       "2013-01-07  4910000  \n",
       "2013-01-08  3010700  "
      ]
     },
     "execution_count": 5,
     "metadata": {},
     "output_type": "execute_result"
    }
   ],
   "source": [
    "amazon = yf.download('AMZN', start='2013-01-01',end='2020-04-05',interval='1d')\n",
    "amazon.head()"
   ]
  },
  {
   "cell_type": "markdown",
   "metadata": {},
   "source": [
    "# Plot the time series, along with any logical or necessary differences to get a stationary dataset."
   ]
  },
  {
   "cell_type": "code",
   "execution_count": 6,
   "metadata": {},
   "outputs": [],
   "source": [
    "amazon['diff'] = amazon['Close'] - amazon['Close'].shift()\n",
    "amazon = amazon.dropna()"
   ]
  },
  {
   "cell_type": "markdown",
   "metadata": {},
   "source": [
    "# Generate and interpret a PACF for the time series (and/or its differences)."
   ]
  },
  {
   "cell_type": "code",
   "execution_count": 7,
   "metadata": {},
   "outputs": [
    {
     "data": {
      "text/plain": [
       "<matplotlib.axes._subplots.AxesSubplot at 0x2500997cd48>"
      ]
     },
     "execution_count": 7,
     "metadata": {},
     "output_type": "execute_result"
    },
    {
     "data": {
      "image/png": "[encoded data removed]",
      "text/plain": [
       "<Figure size 432x288 with 1 Axes>"
      ]
     },
     "metadata": {
      "needs_background": "light"
     },
     "output_type": "display_data"
    }
   ],
   "source": [
    "x_acf = pd.DataFrame(pacf(amazon['Close']))\n",
    "x_acf.plot(kind='bar')"
   ]
  },
  {
   "cell_type": "code",
   "execution_count": 8,
   "metadata": {},
   "outputs": [
    {
     "data": {
      "text/plain": [
       "<matplotlib.axes._subplots.AxesSubplot at 0x2500a67d148>"
      ]
     },
     "execution_count": 8,
     "metadata": {},
     "output_type": "execute_result"
    },
    {
     "data": {
      "image/png": "[encoded data removed]",
      "text/plain": [
       "<Figure size 432x288 with 1 Axes>"
      ]
     },
     "metadata": {
      "needs_background": "light"
     },
     "output_type": "display_data"
    }
   ],
   "source": [
    "x_acf = pd.DataFrame(acf(amazon['Close'].diff().dropna()))\n",
    "x_acf.plot(kind='bar')"
   ]
  },
  {
   "cell_type": "markdown",
   "metadata": {},
   "source": [
    "# Generate five ARIMA specifications and evaluate their efficacy at modeling your data."
   ]
  },
  {
   "cell_type": "code",
   "execution_count": 9,
   "metadata": {},
   "outputs": [
    {
     "name": "stdout",
     "output_type": "stream",
     "text": [
      "                             ARIMA Model Results                              \n",
      "==============================================================================\n",
      "Dep. Variable:                D.Close   No. Observations:                 1825\n",
      "Model:                 ARIMA(6, 1, 3)   Log Likelihood               -8110.081\n",
      "Method:                       css-mle   S.D. of innovations             20.592\n",
      "Date:                Mon, 09 Nov 2020   AIC                          16242.162\n",
      "Time:                        10:10:21   BIC                          16302.764\n",
      "Sample:                             1   HQIC                         16264.517\n",
      "                                                                              \n",
      "=================================================================================\n",
      "                    coef    std err          z      P>|z|      [0.025      0.975]\n",
      "---------------------------------------------------------------------------------\n",
      "const             0.9066      0.368      2.464      0.014       0.186       1.628\n",
      "ar.L1.D.Close    -0.6569      0.141     -4.671      0.000      -0.933      -0.381\n",
      "ar.L2.D.Close     0.7156      0.105      6.845      0.000       0.511       0.921\n",
      "ar.L3.D.Close     0.6518      0.123      5.311      0.000       0.411       0.892\n",
      "ar.L4.D.Close     0.0187      0.035      0.536      0.592      -0.050       0.087\n",
      "ar.L5.D.Close    -0.0110      0.031     -0.356      0.722      -0.072       0.050\n",
      "ar.L6.D.Close    -0.0522      0.030     -1.719      0.086      -0.112       0.007\n",
      "ma.L1.D.Close     0.5901      0.139      4.235      0.000       0.317       0.863\n",
      "ma.L2.D.Close    -0.7523      0.099     -7.585      0.000      -0.947      -0.558\n",
      "ma.L3.D.Close    -0.5833      0.116     -5.030      0.000      -0.811      -0.356\n",
      "                                    Roots                                    \n",
      "=============================================================================\n",
      "                  Real          Imaginary           Modulus         Frequency\n",
      "-----------------------------------------------------------------------------\n",
      "AR.1           -1.0544           -0.4004j            1.1279           -0.4422\n",
      "AR.2           -1.0544           +0.4004j            1.1279            0.4422\n",
      "AR.3            1.1253           -0.0000j            1.1253           -0.0000\n",
      "AR.4           -0.8273           -2.1986j            2.3491           -0.3073\n",
      "AR.5           -0.8273           +2.1986j            2.3491            0.3073\n",
      "AR.6            2.4269           -0.0000j            2.4269           -0.0000\n",
      "MA.1            1.0881           -0.0000j            1.0881           -0.0000\n",
      "MA.2           -1.1889           -0.4027j            1.2552           -0.4480\n",
      "MA.3           -1.1889           +0.4027j            1.2552            0.4480\n",
      "-----------------------------------------------------------------------------\n",
      "Residuals Description\n",
      "count    1825.000000\n",
      "mean       -0.000711\n",
      "std        20.597558\n",
      "min      -141.615414\n",
      "25%        -5.670432\n",
      "50%        -0.208231\n",
      "75%         6.452216\n",
      "max       139.765341\n",
      "dtype: float64\n"
     ]
    }
   ],
   "source": [
    "model = ARIMA(amazon['Close'], order=(6,1,3))\n",
    "model_fit = model.fit()\n",
    "print(model_fit.summary())\n",
    "print('Residuals Description')\n",
    "print(model_fit.resid.describe())"
   ]
  },
  {
   "cell_type": "code",
   "execution_count": 10,
   "metadata": {},
   "outputs": [
    {
     "name": "stdout",
     "output_type": "stream",
     "text": [
      "                              ARMA Model Results                              \n",
      "==============================================================================\n",
      "Dep. Variable:                   diff   No. Observations:                 1826\n",
      "Model:                     ARMA(1, 1)   Log Likelihood               -8131.327\n",
      "Method:                       css-mle   S.D. of innovations             20.783\n",
      "Date:                Mon, 09 Nov 2020   AIC                          16270.654\n",
      "Time:                        10:10:22   BIC                          16292.693\n",
      "Sample:                             0   HQIC                         16278.783\n",
      "                                                                              \n",
      "==============================================================================\n",
      "                 coef    std err          z      P>|z|      [0.025      0.975]\n",
      "------------------------------------------------------------------------------\n",
      "const          0.9038      0.454      1.992      0.046       0.015       1.793\n",
      "ar.L1.diff    -0.2099      0.213     -0.987      0.324      -0.627       0.207\n",
      "ma.L1.diff     0.1286      0.215      0.597      0.550      -0.293       0.550\n",
      "                                    Roots                                    \n",
      "=============================================================================\n",
      "                  Real          Imaginary           Modulus         Frequency\n",
      "-----------------------------------------------------------------------------\n",
      "AR.1           -4.7651           +0.0000j            4.7651            0.5000\n",
      "MA.1           -7.7768           +0.0000j            7.7768            0.5000\n",
      "-----------------------------------------------------------------------------\n",
      "Residuals Description\n",
      "count    1826.000000\n",
      "mean        0.000013\n",
      "std        20.788812\n",
      "min      -152.071365\n",
      "25%        -5.653248\n",
      "50%        -0.130845\n",
      "75%         6.409897\n",
      "max       138.090666\n",
      "dtype: float64\n"
     ]
    }
   ],
   "source": [
    "model = ARIMA(amazon['diff'], order=(1,0,1))\n",
    "model_fit = model.fit()\n",
    "print(model_fit.summary())\n",
    "print('Residuals Description')\n",
    "print(model_fit.resid.describe())"
   ]
  },
  {
   "cell_type": "code",
   "execution_count": 11,
   "metadata": {},
   "outputs": [
    {
     "name": "stdout",
     "output_type": "stream",
     "text": [
      "                             ARIMA Model Results                              \n",
      "==============================================================================\n",
      "Dep. Variable:                D.Close   No. Observations:                 1825\n",
      "Model:                 ARIMA(1, 1, 1)   Log Likelihood               -8127.374\n",
      "Method:                       css-mle   S.D. of innovations             20.789\n",
      "Date:                Mon, 09 Nov 2020   AIC                          16262.747\n",
      "Time:                        10:10:22   BIC                          16284.784\n",
      "Sample:                             1   HQIC                         16270.876\n",
      "                                                                              \n",
      "=================================================================================\n",
      "                    coef    std err          z      P>|z|      [0.025      0.975]\n",
      "---------------------------------------------------------------------------------\n",
      "const             0.9037      0.454      1.991      0.047       0.014       1.793\n",
      "ar.L1.D.Close    -0.2098      0.213     -0.986      0.324      -0.627       0.207\n",
      "ma.L1.D.Close     0.1286      0.215      0.597      0.550      -0.293       0.551\n",
      "                                    Roots                                    \n",
      "=============================================================================\n",
      "                  Real          Imaginary           Modulus         Frequency\n",
      "-----------------------------------------------------------------------------\n",
      "AR.1           -4.7654           +0.0000j            4.7654            0.5000\n",
      "MA.1           -7.7774           +0.0000j            7.7774            0.5000\n",
      "-----------------------------------------------------------------------------\n",
      "Residuals Description\n",
      "count    1825.000000\n",
      "mean       -0.000044\n",
      "std        20.794510\n",
      "min      -152.071183\n",
      "25%        -5.655158\n",
      "50%        -0.139123\n",
      "75%         6.422476\n",
      "max       138.090765\n",
      "dtype: float64\n"
     ]
    }
   ],
   "source": [
    "model = ARIMA(amazon['Close'], order=(1,1,1))\n",
    "model_fit = model.fit()\n",
    "print(model_fit.summary())\n",
    "print('Residuals Description')\n",
    "print(model_fit.resid.describe())"
   ]
  },
  {
   "cell_type": "code",
   "execution_count": 12,
   "metadata": {},
   "outputs": [
    {
     "name": "stdout",
     "output_type": "stream",
     "text": [
      "                             ARIMA Model Results                              \n",
      "==============================================================================\n",
      "Dep. Variable:                D.Close   No. Observations:                 1825\n",
      "Model:                 ARIMA(5, 1, 5)   Log Likelihood               -8103.810\n",
      "Method:                       css-mle   S.D. of innovations             20.493\n",
      "Date:                Mon, 09 Nov 2020   AIC                          16231.620\n",
      "Time:                        10:10:49   BIC                          16297.732\n",
      "Sample:                             1   HQIC                         16256.008\n",
      "                                                                              \n",
      "=================================================================================\n",
      "                    coef    std err          z      P>|z|      [0.025      0.975]\n",
      "---------------------------------------------------------------------------------\n",
      "const             0.9064      0.464      1.953      0.051      -0.003       1.816\n",
      "ar.L1.D.Close    -1.2178      0.360     -3.387      0.001      -1.922      -0.513\n",
      "ar.L2.D.Close    -0.2888      0.223     -1.293      0.196      -0.727       0.149\n",
      "ar.L3.D.Close    -0.7061      0.045    -15.736      0.000      -0.794      -0.618\n",
      "ar.L4.D.Close    -1.2841      0.282     -4.557      0.000      -1.836      -0.732\n",
      "ar.L5.D.Close    -0.5186      0.292     -1.776      0.076      -1.091       0.054\n",
      "ma.L1.D.Close     1.1517      0.359      3.206      0.001       0.448       1.856\n",
      "ma.L2.D.Close     0.2268      0.203      1.116      0.265      -0.172       0.625\n",
      "ma.L3.D.Close     0.7280      0.055     13.331      0.000       0.621       0.835\n",
      "ma.L4.D.Close     1.2514      0.296      4.224      0.000       0.671       1.832\n",
      "ma.L5.D.Close     0.4949      0.274      1.805      0.071      -0.042       1.032\n",
      "                                    Roots                                    \n",
      "=============================================================================\n",
      "                  Real          Imaginary           Modulus         Frequency\n",
      "-----------------------------------------------------------------------------\n",
      "AR.1            0.5655           -0.8342j            1.0078           -0.1552\n",
      "AR.2            0.5655           +0.8342j            1.0078            0.1552\n",
      "AR.3           -1.0519           -0.3952j            1.1237           -0.4428\n",
      "AR.4           -1.0519           +0.3952j            1.1237            0.4428\n",
      "AR.5           -1.5033           -0.0000j            1.5033           -0.5000\n",
      "MA.1            0.5659           -0.8244j            1.0000           -0.1543\n",
      "MA.2            0.5659           +0.8244j            1.0000            0.1543\n",
      "MA.3           -1.1497           -0.4033j            1.2184           -0.4463\n",
      "MA.4           -1.1497           +0.4033j            1.2184            0.4463\n",
      "MA.5           -1.3611           -0.0000j            1.3611           -0.5000\n",
      "-----------------------------------------------------------------------------\n",
      "Residuals Description\n",
      "count    1825.000000\n",
      "mean       -0.001617\n",
      "std        20.513023\n",
      "min      -137.502102\n",
      "25%        -5.793596\n",
      "50%        -0.197350\n",
      "75%         6.319029\n",
      "max       133.420901\n",
      "dtype: float64\n"
     ]
    }
   ],
   "source": [
    "model = ARIMA(amazon['Close'], order=(5, 1, 5))\n",
    "model_fit = model.fit()\n",
    "print(model_fit.summary())\n",
    "print('Residuals Description')\n",
    "print(model_fit.resid.describe())"
   ]
  },
  {
   "cell_type": "code",
   "execution_count": 13,
   "metadata": {},
   "outputs": [
    {
     "name": "stdout",
     "output_type": "stream",
     "text": [
      "                             ARIMA Model Results                              \n",
      "==============================================================================\n",
      "Dep. Variable:               D2.Close   No. Observations:                 1824\n",
      "Model:                 ARIMA(1, 2, 1)   Log Likelihood               -8127.188\n",
      "Method:                       css-mle   S.D. of innovations             20.794\n",
      "Date:                Mon, 09 Nov 2020   AIC                          16262.376\n",
      "Time:                        10:10:52   BIC                          16284.412\n",
      "Sample:                             2   HQIC                         16270.505\n",
      "                                                                              \n",
      "==================================================================================\n",
      "                     coef    std err          z      P>|z|      [0.025      0.975]\n",
      "----------------------------------------------------------------------------------\n",
      "const              0.0006      0.001      0.648      0.517      -0.001       0.002\n",
      "ar.L1.D2.Close    -0.0807      0.023     -3.459      0.001      -0.126      -0.035\n",
      "ma.L1.D2.Close    -1.0000      0.002   -632.940      0.000      -1.003      -0.997\n",
      "                                    Roots                                    \n",
      "=============================================================================\n",
      "                  Real          Imaginary           Modulus         Frequency\n",
      "-----------------------------------------------------------------------------\n",
      "AR.1          -12.3891           +0.0000j           12.3891            0.5000\n",
      "MA.1            1.0000           +0.0000j            1.0000            0.0000\n",
      "-----------------------------------------------------------------------------\n",
      "Residuals Description\n",
      "count    1824.000000\n",
      "mean        0.079650\n",
      "std        20.809196\n",
      "min      -151.456265\n",
      "25%        -5.400920\n",
      "50%         0.229783\n",
      "75%         6.562032\n",
      "max       137.551852\n",
      "dtype: float64\n"
     ]
    }
   ],
   "source": [
    "model = ARIMA(amazon['Close'], order=(1, 2, 1))\n",
    "model_fit = model.fit()\n",
    "print(model_fit.summary())\n",
    "print('Residuals Description')\n",
    "print(model_fit.resid.describe())"
   ]
  },
  {
   "cell_type": "markdown",
   "metadata": {},
   "source": [
    "# Finally, choose one specification and make a case for it as a logical model for your dataset."
   ]
  },
  {
   "cell_type": "code",
   "execution_count": 14,
   "metadata": {},
   "outputs": [
    {
     "data": {
      "text/plain": [
       "Date\n",
       "2013-01-03     258.480011\n",
       "2013-01-04     259.149994\n",
       "2013-01-07     268.459991\n",
       "2013-01-08     266.380005\n",
       "2013-01-09     266.350006\n",
       "                 ...     \n",
       "2020-03-30    1963.949951\n",
       "2020-03-31    1949.719971\n",
       "2020-04-01    1907.699951\n",
       "2020-04-02    1918.829956\n",
       "2020-04-03    1906.589966\n",
       "Name: Close, Length: 1826, dtype: float64"
      ]
     },
     "execution_count": 14,
     "metadata": {},
     "output_type": "execute_result"
    }
   ],
   "source": [
    "# indx = amazon.set_index('Date')\n",
    "df = amazon['Close']\n",
    "df"
   ]
  },
  {
   "cell_type": "code",
   "execution_count": 15,
   "metadata": {},
   "outputs": [
    {
     "data": {
      "text/plain": [
       "Date\n",
       "2013-01-03     258.480011\n",
       "2013-01-04     259.149994\n",
       "2013-01-07     268.459991\n",
       "2013-01-08     266.380005\n",
       "2013-01-09     266.350006\n",
       "                 ...     \n",
       "2019-11-22    1745.719971\n",
       "2019-11-25    1773.839966\n",
       "2019-11-26    1796.939941\n",
       "2019-11-27    1818.510010\n",
       "2019-11-29    1800.800049\n",
       "Name: Close, Length: 1740, dtype: float64"
      ]
     },
     "execution_count": 15,
     "metadata": {},
     "output_type": "execute_result"
    }
   ],
   "source": [
    "split_date='2019-12-01'\n",
    "train_df=amazon['Close'][:split_date]\n",
    "train_df"
   ]
  },
  {
   "cell_type": "code",
   "execution_count": 16,
   "metadata": {},
   "outputs": [
    {
     "data": {
      "text/plain": [
       "Date\n",
       "2019-12-02    1781.599976\n",
       "2019-12-03    1769.959961\n",
       "2019-12-04    1760.689941\n",
       "2019-12-05    1740.479980\n",
       "2019-12-06    1751.599976\n",
       "                 ...     \n",
       "2020-03-30    1963.949951\n",
       "2020-03-31    1949.719971\n",
       "2020-04-01    1907.699951\n",
       "2020-04-02    1918.829956\n",
       "2020-04-03    1906.589966\n",
       "Name: Close, Length: 86, dtype: float64"
      ]
     },
     "execution_count": 16,
     "metadata": {},
     "output_type": "execute_result"
    }
   ],
   "source": [
    "test_df = amazon['Close'][split_date:]\n",
    "test_df"
   ]
  },
  {
   "cell_type": "code",
   "execution_count": 17,
   "metadata": {},
   "outputs": [
    {
     "data": {
      "text/plain": [
       "Text(0.5, 1.0, 'Histogram of Residuals')"
      ]
     },
     "execution_count": 17,
     "metadata": {},
     "output_type": "execute_result"
    },
    {
     "data": {
      "image/png": "[encoded data removed]",
      "text/plain": [
       "<Figure size 432x288 with 1 Axes>"
      ]
     },
     "metadata": {
      "needs_background": "light"
     },
     "output_type": "display_data"
    },
    {
     "data": {
      "image/png": "[encoded data removed]",
      "text/plain": [
       "<Figure size 432x288 with 1 Axes>"
      ]
     },
     "metadata": {
      "needs_background": "light"
     },
     "output_type": "display_data"
    }
   ],
   "source": [
    "model = ARIMA(train_df, order=(4, 1, 8))\n",
    "model_fit = model.fit()\n",
    "\n",
    "residuals = pd.DataFrame(model_fit.resid)\n",
    "\n",
    "residuals.plot(legend=False)\n",
    "plt.title('Time Series of Residuals')\n",
    "\n",
    "residuals.hist(bins=20)\n",
    "plt.title('Histogram of Residuals')"
   ]
  },
  {
   "cell_type": "code",
   "execution_count": 18,
   "metadata": {},
   "outputs": [
    {
     "data": {
      "text/plain": [
       "86"
      ]
     },
     "execution_count": 18,
     "metadata": {},
     "output_type": "execute_result"
    }
   ],
   "source": [
    "len(test_df)"
   ]
  },
  {
   "cell_type": "code",
   "execution_count": 19,
   "metadata": {},
   "outputs": [],
   "source": [
    "arma_predictions_fb = model_fit.predict(start=len(amazon['Close'][:-86]), \n",
    "                                   end=len(amazon['Close'][:-86])+len(amazon['Close'][-86:])-1,dynamic=False)"
   ]
  },
  {
   "cell_type": "code",
   "execution_count": 20,
   "metadata": {},
   "outputs": [
    {
     "data": {
      "text/plain": [
       "1739    1.465513\n",
       "1740    3.166296\n",
       "1741    2.256208\n",
       "1742    0.087462\n",
       "1743   -2.008309\n",
       "          ...   \n",
       "1820    0.884761\n",
       "1821    0.884762\n",
       "1822    0.884762\n",
       "1823    0.884762\n",
       "1824    0.884762\n",
       "Length: 86, dtype: float64"
      ]
     },
     "execution_count": 20,
     "metadata": {},
     "output_type": "execute_result"
    }
   ],
   "source": [
    "arma_predictions_fb"
   ]
  },
  {
   "cell_type": "code",
   "execution_count": 21,
   "metadata": {},
   "outputs": [
    {
     "name": "stdout",
     "output_type": "stream",
     "text": [
      "                             ARIMA Model Results                              \n",
      "==============================================================================\n",
      "Dep. Variable:                D.Close   No. Observations:                 1739\n",
      "Model:                 ARIMA(4, 1, 8)   Log Likelihood               -7545.021\n",
      "Method:                       css-mle   S.D. of innovations             18.536\n",
      "Date:                Mon, 09 Nov 2020   AIC                          15118.042\n",
      "Time:                        10:10:57   BIC                          15194.497\n",
      "Sample:                             1   HQIC                         15146.313\n",
      "                                                                              \n",
      "=================================================================================\n",
      "                    coef    std err          z      P>|z|      [0.025      0.975]\n",
      "---------------------------------------------------------------------------------\n",
      "const             0.8848      0.365      2.426      0.015       0.170       1.600\n",
      "ar.L1.D.Close    -0.2720      0.195     -1.397      0.162      -0.654       0.110\n",
      "ar.L2.D.Close    -0.1921      0.174     -1.103      0.270      -0.533       0.149\n",
      "ar.L3.D.Close     0.4106      0.138      2.972      0.003       0.140       0.681\n",
      "ar.L4.D.Close     0.1343      0.200      0.670      0.503      -0.259       0.527\n",
      "ma.L1.D.Close     0.2508      0.193      1.296      0.195      -0.128       0.630\n",
      "ma.L2.D.Close     0.1536      0.172      0.892      0.372      -0.184       0.491\n",
      "ma.L3.D.Close    -0.4397      0.134     -3.285      0.001      -0.702      -0.177\n",
      "ma.L4.D.Close    -0.1490      0.202     -0.737      0.461      -0.545       0.247\n",
      "ma.L5.D.Close     0.0612      0.029      2.080      0.038       0.004       0.119\n",
      "ma.L6.D.Close     0.0079      0.026      0.306      0.760      -0.043       0.058\n",
      "ma.L7.D.Close    -0.0074      0.024     -0.303      0.762      -0.055       0.041\n",
      "ma.L8.D.Close    -0.1239      0.026     -4.788      0.000      -0.175      -0.073\n",
      "                                    Roots                                    \n",
      "=============================================================================\n",
      "                  Real          Imaginary           Modulus         Frequency\n",
      "-----------------------------------------------------------------------------\n",
      "AR.1            1.4360           -0.0000j            1.4360           -0.0000\n",
      "AR.2           -0.5076           -1.1106j            1.2211           -0.3182\n",
      "AR.3           -0.5076           +1.1106j            1.2211            0.3182\n",
      "AR.4           -3.4788           -0.0000j            3.4788           -0.5000\n",
      "MA.1           -1.3493           -0.0000j            1.3493           -0.5000\n",
      "MA.2           -0.7536           -0.9958j            1.2488           -0.3531\n",
      "MA.3           -0.7536           +0.9958j            1.2488            0.3531\n",
      "MA.4           -0.2803           -1.1873j            1.2199           -0.2869\n",
      "MA.5           -0.2803           +1.1873j            1.2199            0.2869\n",
      "MA.6            1.2129           -0.0000j            1.2129           -0.0000\n",
      "MA.7            1.0722           -0.9877j            1.4578           -0.1185\n",
      "MA.8            1.0722           +0.9877j            1.4578            0.1185\n",
      "-----------------------------------------------------------------------------\n",
      "Residuals Description\n",
      "count    1739.000000\n",
      "mean        0.000553\n",
      "std        18.541674\n",
      "min      -136.167623\n",
      "25%        -5.329950\n",
      "50%        -0.171112\n",
      "75%         6.132694\n",
      "max       127.590437\n",
      "dtype: float64\n"
     ]
    }
   ],
   "source": [
    "print(model_fit.summary())\n",
    "print('Residuals Description')\n",
    "print(model_fit.resid.describe())"
   ]
  },
  {
   "cell_type": "code",
   "execution_count": 22,
   "metadata": {
    "scrolled": false
   },
   "outputs": [
    {
     "data": {
      "text/plain": [
       "1739    1.465513\n",
       "1740    3.166296\n",
       "1741    2.256208\n",
       "1742    0.087462\n",
       "1743   -2.008309\n",
       "          ...   \n",
       "1820    0.884761\n",
       "1821    0.884762\n",
       "1822    0.884762\n",
       "1823    0.884762\n",
       "1824    0.884762\n",
       "Length: 86, dtype: float64"
      ]
     },
     "execution_count": 22,
     "metadata": {},
     "output_type": "execute_result"
    }
   ],
   "source": [
    "model_fit.predict(start=len(train_df), \n",
    "              end=len(train_df)+len(test_df)-1,dynamic=False)"
   ]
  },
  {
   "cell_type": "code",
   "execution_count": null,
   "metadata": {},
   "outputs": [],
   "source": []
  }
 ],
 "metadata": {
  "kernelspec": {
   "display_name": "Python 3",
   "language": "python",
   "name": "python3"
  },
  "language_info": {
   "codemirror_mode": {
    "name": "ipython",
    "version": 3
   },
   "file_extension": ".py",
   "mimetype": "text/x-python",
   "name": "python",
   "nbconvert_exporter": "python",
   "pygments_lexer": "ipython3",
   "version": "3.7.6"
  }
 },
 "nbformat": 4,
 "nbformat_minor": 4
}
